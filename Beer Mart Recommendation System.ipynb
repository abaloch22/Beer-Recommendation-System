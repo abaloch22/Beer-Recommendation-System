{
 "cells": [
  {
   "cell_type": "markdown",
   "metadata": {},
   "source": [
    "# `Beer Mart Recommendation System`\n",
    "\n",
    "##### The purpose of this assignment is to build a Collaborative Recommendation System (both Used based & Item based) for a store called \"BeerMart\", where customers will be recommended the beer that they are most likely to buy."
   ]
  },
  {
   "cell_type": "markdown",
   "metadata": {},
   "source": [
    "## Step 1: Importing import packages and Reading Data"
   ]
  },
  {
   "cell_type": "code",
   "execution_count": 321,
   "metadata": {},
   "outputs": [],
   "source": [
    "# import libraries\n",
    "import pandas as pd\n",
    "import numpy as np\n",
    "\n",
    "# For Visualisation\n",
    "import matplotlib.pyplot as plt\n",
    "import seaborn as sns\n",
    "%matplotlib inline\n",
    "\n",
    "# Supress Warnings\n",
    "import warnings\n",
    "warnings.filterwarnings('ignore')"
   ]
  },
  {
   "cell_type": "code",
   "execution_count": 334,
   "metadata": {},
   "outputs": [
    {
     "data": {
      "text/html": [
       "<div>\n",
       "<style scoped>\n",
       "    .dataframe tbody tr th:only-of-type {\n",
       "        vertical-align: middle;\n",
       "    }\n",
       "\n",
       "    .dataframe tbody tr th {\n",
       "        vertical-align: top;\n",
       "    }\n",
       "\n",
       "    .dataframe thead th {\n",
       "        text-align: right;\n",
       "    }\n",
       "</style>\n",
       "<table border=\"1\" class=\"dataframe\">\n",
       "  <thead>\n",
       "    <tr style=\"text-align: right;\">\n",
       "      <th></th>\n",
       "      <th>beer_beerid</th>\n",
       "      <th>review_profilename</th>\n",
       "      <th>review_overall</th>\n",
       "    </tr>\n",
       "  </thead>\n",
       "  <tbody>\n",
       "    <tr>\n",
       "      <th>0</th>\n",
       "      <td>48215</td>\n",
       "      <td>stcules</td>\n",
       "      <td>3.0</td>\n",
       "    </tr>\n",
       "    <tr>\n",
       "      <th>1</th>\n",
       "      <td>52159</td>\n",
       "      <td>oline73</td>\n",
       "      <td>3.0</td>\n",
       "    </tr>\n",
       "    <tr>\n",
       "      <th>2</th>\n",
       "      <td>52159</td>\n",
       "      <td>alpinebryant</td>\n",
       "      <td>3.0</td>\n",
       "    </tr>\n",
       "    <tr>\n",
       "      <th>3</th>\n",
       "      <td>52159</td>\n",
       "      <td>rawthar</td>\n",
       "      <td>4.0</td>\n",
       "    </tr>\n",
       "    <tr>\n",
       "      <th>4</th>\n",
       "      <td>52159</td>\n",
       "      <td>RangerClegg</td>\n",
       "      <td>3.5</td>\n",
       "    </tr>\n",
       "  </tbody>\n",
       "</table>\n",
       "</div>"
      ],
      "text/plain": [
       "   beer_beerid review_profilename  review_overall\n",
       "0        48215            stcules             3.0\n",
       "1        52159            oline73             3.0\n",
       "2        52159       alpinebryant             3.0\n",
       "3        52159            rawthar             4.0\n",
       "4        52159        RangerClegg             3.5"
      ]
     },
     "execution_count": 334,
     "metadata": {},
     "output_type": "execute_result"
    }
   ],
   "source": [
    "# Reading ratings file\n",
    "beer_ratings = pd.read_csv('beer_data.csv')\n",
    "beer_ratings.head()"
   ]
  },
  {
   "cell_type": "markdown",
   "metadata": {},
   "source": [
    "## Step 2: Inspecting the Dataframe"
   ]
  },
  {
   "cell_type": "code",
   "execution_count": 335,
   "metadata": {
    "scrolled": false
   },
   "outputs": [
    {
     "data": {
      "text/plain": [
       "beer_beerid             int64\n",
       "review_profilename     object\n",
       "review_overall        float64\n",
       "dtype: object"
      ]
     },
     "execution_count": 335,
     "metadata": {},
     "output_type": "execute_result"
    }
   ],
   "source": [
    "beer_ratings.dtypes"
   ]
  },
  {
   "cell_type": "code",
   "execution_count": 336,
   "metadata": {},
   "outputs": [
    {
     "data": {
      "text/html": [
       "<div>\n",
       "<style scoped>\n",
       "    .dataframe tbody tr th:only-of-type {\n",
       "        vertical-align: middle;\n",
       "    }\n",
       "\n",
       "    .dataframe tbody tr th {\n",
       "        vertical-align: top;\n",
       "    }\n",
       "\n",
       "    .dataframe thead th {\n",
       "        text-align: right;\n",
       "    }\n",
       "</style>\n",
       "<table border=\"1\" class=\"dataframe\">\n",
       "  <thead>\n",
       "    <tr style=\"text-align: right;\">\n",
       "      <th></th>\n",
       "      <th>count</th>\n",
       "      <th>mean</th>\n",
       "      <th>std</th>\n",
       "      <th>min</th>\n",
       "      <th>25%</th>\n",
       "      <th>50%</th>\n",
       "      <th>75%</th>\n",
       "      <th>max</th>\n",
       "    </tr>\n",
       "  </thead>\n",
       "  <tbody>\n",
       "    <tr>\n",
       "      <th>beer_beerid</th>\n",
       "      <td>475984.0</td>\n",
       "      <td>21660.550611</td>\n",
       "      <td>21793.437326</td>\n",
       "      <td>3.0</td>\n",
       "      <td>1716.0</td>\n",
       "      <td>13892.0</td>\n",
       "      <td>39397.0</td>\n",
       "      <td>77317.0</td>\n",
       "    </tr>\n",
       "    <tr>\n",
       "      <th>review_overall</th>\n",
       "      <td>475984.0</td>\n",
       "      <td>3.814827</td>\n",
       "      <td>0.720411</td>\n",
       "      <td>0.0</td>\n",
       "      <td>3.5</td>\n",
       "      <td>4.0</td>\n",
       "      <td>4.5</td>\n",
       "      <td>5.0</td>\n",
       "    </tr>\n",
       "  </tbody>\n",
       "</table>\n",
       "</div>"
      ],
      "text/plain": [
       "                   count          mean           std  min     25%      50%  \\\n",
       "beer_beerid     475984.0  21660.550611  21793.437326  3.0  1716.0  13892.0   \n",
       "review_overall  475984.0      3.814827      0.720411  0.0     3.5      4.0   \n",
       "\n",
       "                    75%      max  \n",
       "beer_beerid     39397.0  77317.0  \n",
       "review_overall      4.5      5.0  "
      ]
     },
     "execution_count": 336,
     "metadata": {},
     "output_type": "execute_result"
    }
   ],
   "source": [
    "beer_ratings.describe().T"
   ]
  },
  {
   "cell_type": "code",
   "execution_count": 337,
   "metadata": {
    "scrolled": true
   },
   "outputs": [
    {
     "data": {
      "text/plain": [
       "(475984, 3)"
      ]
     },
     "execution_count": 337,
     "metadata": {},
     "output_type": "execute_result"
    }
   ],
   "source": [
    "shape = beer_ratings.shape\n",
    "shape"
   ]
  },
  {
   "cell_type": "markdown",
   "metadata": {},
   "source": [
    "## Step 3: Data Cleansing"
   ]
  },
  {
   "cell_type": "markdown",
   "metadata": {},
   "source": [
    "### Handling Duplicate Rows"
   ]
  },
  {
   "cell_type": "code",
   "execution_count": 338,
   "metadata": {},
   "outputs": [
    {
     "name": "stdout",
     "output_type": "stream",
     "text": [
      "1424\n",
      "(474560, 3)\n"
     ]
    }
   ],
   "source": [
    "# Removing duplicates having both beer & user duplicated, \n",
    "# this will ensure that no 2 reviews from single user to same beer are counted & cumulated.\n",
    "beer_ratings.drop_duplicates(subset=['beer_beerid','review_profilename'], inplace = True)\n",
    "print(shape[0] - beer_ratings.shape[0])\n",
    "print(beer_ratings.shape)"
   ]
  },
  {
   "cell_type": "markdown",
   "metadata": {},
   "source": [
    "*There are 1424 duplicate entries for any beer.*"
   ]
  },
  {
   "cell_type": "markdown",
   "metadata": {},
   "source": [
    "### Handling Null Values"
   ]
  },
  {
   "cell_type": "code",
   "execution_count": 339,
   "metadata": {
    "scrolled": false
   },
   "outputs": [
    {
     "data": {
      "text/html": [
       "<div>\n",
       "<style scoped>\n",
       "    .dataframe tbody tr th:only-of-type {\n",
       "        vertical-align: middle;\n",
       "    }\n",
       "\n",
       "    .dataframe tbody tr th {\n",
       "        vertical-align: top;\n",
       "    }\n",
       "\n",
       "    .dataframe thead th {\n",
       "        text-align: right;\n",
       "    }\n",
       "</style>\n",
       "<table border=\"1\" class=\"dataframe\">\n",
       "  <thead>\n",
       "    <tr style=\"text-align: right;\">\n",
       "      <th></th>\n",
       "      <th>Total</th>\n",
       "      <th>Percentage</th>\n",
       "    </tr>\n",
       "  </thead>\n",
       "  <tbody>\n",
       "    <tr>\n",
       "      <th>review_profilename</th>\n",
       "      <td>98</td>\n",
       "      <td>0.02</td>\n",
       "    </tr>\n",
       "    <tr>\n",
       "      <th>review_overall</th>\n",
       "      <td>0</td>\n",
       "      <td>0.00</td>\n",
       "    </tr>\n",
       "    <tr>\n",
       "      <th>beer_beerid</th>\n",
       "      <td>0</td>\n",
       "      <td>0.00</td>\n",
       "    </tr>\n",
       "  </tbody>\n",
       "</table>\n",
       "</div>"
      ],
      "text/plain": [
       "                    Total  Percentage\n",
       "review_profilename     98        0.02\n",
       "review_overall          0        0.00\n",
       "beer_beerid             0        0.00"
      ]
     },
     "execution_count": 339,
     "metadata": {},
     "output_type": "execute_result"
    }
   ],
   "source": [
    "# Checking for total count and percentage of null values in all columns of the dataframe.\n",
    "\n",
    "total = pd.DataFrame(beer_ratings.isnull().sum().sort_values(ascending=False), columns=['Total'])\n",
    "percentage = pd.DataFrame(round(100*(beer_ratings.isnull().sum()/beer_ratings.shape[0]),2).sort_values(ascending=False)\\\n",
    "                          ,columns=['Percentage'])\n",
    "pd.concat([total, percentage], axis = 1)"
   ]
  },
  {
   "cell_type": "markdown",
   "metadata": {},
   "source": [
    "### Removing rows where a particular column has high missing values"
   ]
  },
  {
   "cell_type": "code",
   "execution_count": 340,
   "metadata": {},
   "outputs": [
    {
     "data": {
      "text/plain": [
       "98"
      ]
     },
     "execution_count": 340,
     "metadata": {},
     "output_type": "execute_result"
    }
   ],
   "source": [
    "beer_ratings['review_profilename'].isnull().sum()"
   ]
  },
  {
   "cell_type": "code",
   "execution_count": 341,
   "metadata": {},
   "outputs": [
    {
     "data": {
      "text/plain": [
       "(474462, 3)"
      ]
     },
     "execution_count": 341,
     "metadata": {},
     "output_type": "execute_result"
    }
   ],
   "source": [
    "# removing rows where a particular column has high missing values because the column cannot be removed because of its importance\n",
    "beer_ratings = beer_ratings[~pd.isnull(beer_ratings['review_profilename'])]\n",
    "beer_ratings.shape"
   ]
  },
  {
   "cell_type": "markdown",
   "metadata": {},
   "source": [
    "## Step 4: Data Preparation\n",
    "###### Choose only those beers that have at least N number of reviews.\n",
    "*Figure out an appropriate value of N using EDA; this may not have one correct answer, but you should not choose beers that have an extremely low number of ratings.*"
   ]
  },
  {
   "cell_type": "markdown",
   "metadata": {},
   "source": [
    "### Finding all distinct beers & total reviews they received"
   ]
  },
  {
   "cell_type": "code",
   "execution_count": 342,
   "metadata": {
    "scrolled": false
   },
   "outputs": [
    {
     "data": {
      "text/html": [
       "<div>\n",
       "<style scoped>\n",
       "    .dataframe tbody tr th:only-of-type {\n",
       "        vertical-align: middle;\n",
       "    }\n",
       "\n",
       "    .dataframe tbody tr th {\n",
       "        vertical-align: top;\n",
       "    }\n",
       "\n",
       "    .dataframe thead th {\n",
       "        text-align: right;\n",
       "    }\n",
       "</style>\n",
       "<table border=\"1\" class=\"dataframe\">\n",
       "  <thead>\n",
       "    <tr style=\"text-align: right;\">\n",
       "      <th></th>\n",
       "      <th>beer_beerid</th>\n",
       "      <th>review_overall</th>\n",
       "    </tr>\n",
       "  </thead>\n",
       "  <tbody>\n",
       "    <tr>\n",
       "      <th>1574</th>\n",
       "      <td>2093</td>\n",
       "      <td>977</td>\n",
       "    </tr>\n",
       "    <tr>\n",
       "      <th>338</th>\n",
       "      <td>412</td>\n",
       "      <td>966</td>\n",
       "    </tr>\n",
       "    <tr>\n",
       "      <th>1427</th>\n",
       "      <td>1904</td>\n",
       "      <td>902</td>\n",
       "    </tr>\n",
       "    <tr>\n",
       "      <th>818</th>\n",
       "      <td>1093</td>\n",
       "      <td>840</td>\n",
       "    </tr>\n",
       "    <tr>\n",
       "      <th>78</th>\n",
       "      <td>92</td>\n",
       "      <td>812</td>\n",
       "    </tr>\n",
       "  </tbody>\n",
       "</table>\n",
       "</div>"
      ],
      "text/plain": [
       "      beer_beerid  review_overall\n",
       "1574         2093             977\n",
       "338           412             966\n",
       "1427         1904             902\n",
       "818          1093             840\n",
       "78             92             812"
      ]
     },
     "execution_count": 342,
     "metadata": {},
     "output_type": "execute_result"
    }
   ],
   "source": [
    "reviewsperbeer=beer_ratings.groupby('beer_beerid')['review_overall'].count().reset_index().sort_values(by=['review_overall'],ascending=False)\n",
    "reviewsperbeer.head()"
   ]
  },
  {
   "cell_type": "code",
   "execution_count": 332,
   "metadata": {
    "scrolled": true
   },
   "outputs": [
    {
     "data": {
      "text/html": [
       "<div>\n",
       "<style scoped>\n",
       "    .dataframe tbody tr th:only-of-type {\n",
       "        vertical-align: middle;\n",
       "    }\n",
       "\n",
       "    .dataframe tbody tr th {\n",
       "        vertical-align: top;\n",
       "    }\n",
       "\n",
       "    .dataframe thead th {\n",
       "        text-align: right;\n",
       "    }\n",
       "</style>\n",
       "<table border=\"1\" class=\"dataframe\">\n",
       "  <thead>\n",
       "    <tr style=\"text-align: right;\">\n",
       "      <th></th>\n",
       "      <th>count</th>\n",
       "      <th>mean</th>\n",
       "      <th>std</th>\n",
       "      <th>min</th>\n",
       "      <th>25%</th>\n",
       "      <th>50%</th>\n",
       "      <th>75%</th>\n",
       "      <th>max</th>\n",
       "    </tr>\n",
       "  </thead>\n",
       "  <tbody>\n",
       "    <tr>\n",
       "      <th>beer_beerid</th>\n",
       "      <td>40304.0</td>\n",
       "      <td>36973.17</td>\n",
       "      <td>22544.76</td>\n",
       "      <td>3.0</td>\n",
       "      <td>16879.75</td>\n",
       "      <td>37366.5</td>\n",
       "      <td>56233.5</td>\n",
       "      <td>77317.0</td>\n",
       "    </tr>\n",
       "    <tr>\n",
       "      <th>review_overall</th>\n",
       "      <td>40304.0</td>\n",
       "      <td>11.77</td>\n",
       "      <td>41.89</td>\n",
       "      <td>1.0</td>\n",
       "      <td>1.00</td>\n",
       "      <td>2.0</td>\n",
       "      <td>5.0</td>\n",
       "      <td>977.0</td>\n",
       "    </tr>\n",
       "  </tbody>\n",
       "</table>\n",
       "</div>"
      ],
      "text/plain": [
       "                  count      mean       std  min       25%      50%      75%  \\\n",
       "beer_beerid     40304.0  36973.17  22544.76  3.0  16879.75  37366.5  56233.5   \n",
       "review_overall  40304.0     11.77     41.89  1.0      1.00      2.0      5.0   \n",
       "\n",
       "                    max  \n",
       "beer_beerid     77317.0  \n",
       "review_overall    977.0  "
      ]
     },
     "execution_count": 332,
     "metadata": {},
     "output_type": "execute_result"
    }
   ],
   "source": [
    "round(reviewsperbeer.describe(),2).T"
   ]
  },
  {
   "cell_type": "markdown",
   "metadata": {},
   "source": [
    "### Visually representing the frequency of total reviews received by different beers"
   ]
  },
  {
   "cell_type": "code",
   "execution_count": 343,
   "metadata": {},
   "outputs": [
    {
     "data": {
      "image/png": "[encoded data removed]",
      "text/plain": [
       "<Figure size 800x400 with 1 Axes>"
      ]
     },
     "metadata": {},
     "output_type": "display_data"
    }
   ],
   "source": [
    "# Slightly alter the figure size to make it more horizontal.\n",
    "plt.figure(figsize=(8, 4), dpi=100, facecolor='w', edgecolor='k', frameon='True')\n",
    "sns.set_style(\"darkgrid\") # white/whitegrid/dark/darkgrid/ticks\n",
    "sns.set_context(\"paper\") # talk/poster\n",
    "\n",
    "plt.hist(reviewsperbeer['review_overall'],alpha=0.5,color='red', bins=30)\n",
    "# plot x axis label\n",
    "plt.xlabel('No of Reviews per Beer', color='r')\n",
    "# plot y axis label\n",
    "plt.ylabel('Frequency', color='r')\n",
    "# display the plot\n",
    "plt.show()"
   ]
  },
  {
   "cell_type": "markdown",
   "metadata": {},
   "source": [
    "### Finding Count & Percentage of Beers with just 1 review"
   ]
  },
  {
   "cell_type": "code",
   "execution_count": 214,
   "metadata": {},
   "outputs": [
    {
     "name": "stdout",
     "output_type": "stream",
     "text": [
      "18080\n",
      "44.86\n"
     ]
    }
   ],
   "source": [
    "print(reviewsperbeer.loc[reviewsperbeer['review_overall']==1].shape[0])\n",
    "print(round(100*(reviewsperbeer.loc[reviewsperbeer['review_overall']==1].shape[0]/reviewsperbeer.shape[0]),2))"
   ]
  },
  {
   "cell_type": "code",
   "execution_count": 344,
   "metadata": {},
   "outputs": [
    {
     "data": {
      "text/html": [
       "<div>\n",
       "<style scoped>\n",
       "    .dataframe tbody tr th:only-of-type {\n",
       "        vertical-align: middle;\n",
       "    }\n",
       "\n",
       "    .dataframe tbody tr th {\n",
       "        vertical-align: top;\n",
       "    }\n",
       "\n",
       "    .dataframe thead th {\n",
       "        text-align: right;\n",
       "    }\n",
       "</style>\n",
       "<table border=\"1\" class=\"dataframe\">\n",
       "  <thead>\n",
       "    <tr style=\"text-align: right;\">\n",
       "      <th></th>\n",
       "      <th>Total Beer Reviews</th>\n",
       "      <th>Review Frequency</th>\n",
       "    </tr>\n",
       "  </thead>\n",
       "  <tbody>\n",
       "    <tr>\n",
       "      <th>0</th>\n",
       "      <td>1</td>\n",
       "      <td>18080</td>\n",
       "    </tr>\n",
       "    <tr>\n",
       "      <th>1</th>\n",
       "      <td>2</td>\n",
       "      <td>6183</td>\n",
       "    </tr>\n",
       "    <tr>\n",
       "      <th>2</th>\n",
       "      <td>3</td>\n",
       "      <td>3079</td>\n",
       "    </tr>\n",
       "    <tr>\n",
       "      <th>3</th>\n",
       "      <td>4</td>\n",
       "      <td>1895</td>\n",
       "    </tr>\n",
       "    <tr>\n",
       "      <th>4</th>\n",
       "      <td>5</td>\n",
       "      <td>1350</td>\n",
       "    </tr>\n",
       "    <tr>\n",
       "      <th>5</th>\n",
       "      <td>6</td>\n",
       "      <td>959</td>\n",
       "    </tr>\n",
       "    <tr>\n",
       "      <th>6</th>\n",
       "      <td>7</td>\n",
       "      <td>785</td>\n",
       "    </tr>\n",
       "    <tr>\n",
       "      <th>7</th>\n",
       "      <td>8</td>\n",
       "      <td>556</td>\n",
       "    </tr>\n",
       "    <tr>\n",
       "      <th>8</th>\n",
       "      <td>9</td>\n",
       "      <td>478</td>\n",
       "    </tr>\n",
       "    <tr>\n",
       "      <th>9</th>\n",
       "      <td>10</td>\n",
       "      <td>401</td>\n",
       "    </tr>\n",
       "  </tbody>\n",
       "</table>\n",
       "</div>"
      ],
      "text/plain": [
       "   Total Beer Reviews  Review Frequency\n",
       "0                   1             18080\n",
       "1                   2              6183\n",
       "2                   3              3079\n",
       "3                   4              1895\n",
       "4                   5              1350\n",
       "5                   6               959\n",
       "6                   7               785\n",
       "7                   8               556\n",
       "8                   9               478\n",
       "9                  10               401"
      ]
     },
     "execution_count": 344,
     "metadata": {},
     "output_type": "execute_result"
    }
   ],
   "source": [
    "reviewsfrequency=reviewsperbeer.groupby('review_overall')['beer_beerid'].count().reset_index()\n",
    "reviewsfrequency.columns.values[:]=['Total Beer Reviews','Review Frequency']\n",
    "reviewsfrequency.head(10)"
   ]
  },
  {
   "cell_type": "markdown",
   "metadata": {},
   "source": [
    "##### From the above Analysis, we get the following highlighted points\n",
    " - There are 40308 distinct beers in total\n",
    " - Beers have reviews count in range of 1 to 977, beer - 2093 have highest number of reviews(977).\n",
    " - 18080 or 44.86% beers have only 1 review.\n",
    " - It seems that most beers get very few reviews. In fact very few beers have large enough number of reviews required for building recommendation system based on collaborative filtering.\n",
    " \n",
    "##### To find an ideal value of N its important that we choose beers having large enough number of reviews to avoid cold start problem. "
   ]
  },
  {
   "cell_type": "markdown",
   "metadata": {},
   "source": [
    "### Filtering beers having atleast 50 reviews"
   ]
  },
  {
   "cell_type": "code",
   "execution_count": 346,
   "metadata": {},
   "outputs": [
    {
     "data": {
      "text/html": [
       "<div>\n",
       "<style scoped>\n",
       "    .dataframe tbody tr th:only-of-type {\n",
       "        vertical-align: middle;\n",
       "    }\n",
       "\n",
       "    .dataframe tbody tr th {\n",
       "        vertical-align: top;\n",
       "    }\n",
       "\n",
       "    .dataframe thead th {\n",
       "        text-align: right;\n",
       "    }\n",
       "</style>\n",
       "<table border=\"1\" class=\"dataframe\">\n",
       "  <thead>\n",
       "    <tr style=\"text-align: right;\">\n",
       "      <th></th>\n",
       "      <th>beer_beerid</th>\n",
       "      <th>Total Review Count of Beer</th>\n",
       "    </tr>\n",
       "  </thead>\n",
       "  <tbody>\n",
       "    <tr>\n",
       "      <th>1574</th>\n",
       "      <td>2093</td>\n",
       "      <td>977</td>\n",
       "    </tr>\n",
       "    <tr>\n",
       "      <th>338</th>\n",
       "      <td>412</td>\n",
       "      <td>966</td>\n",
       "    </tr>\n",
       "    <tr>\n",
       "      <th>1427</th>\n",
       "      <td>1904</td>\n",
       "      <td>902</td>\n",
       "    </tr>\n",
       "    <tr>\n",
       "      <th>818</th>\n",
       "      <td>1093</td>\n",
       "      <td>840</td>\n",
       "    </tr>\n",
       "    <tr>\n",
       "      <th>78</th>\n",
       "      <td>92</td>\n",
       "      <td>812</td>\n",
       "    </tr>\n",
       "  </tbody>\n",
       "</table>\n",
       "</div>"
      ],
      "text/plain": [
       "      beer_beerid  Total Review Count of Beer\n",
       "1574         2093                         977\n",
       "338           412                         966\n",
       "1427         1904                         902\n",
       "818          1093                         840\n",
       "78             92                         812"
      ]
     },
     "execution_count": 346,
     "metadata": {},
     "output_type": "execute_result"
    }
   ],
   "source": [
    "above50reviewsperbeer = reviewsperbeer.loc[reviewsperbeer['review_overall'] >= 50]\n",
    "above50reviewsperbeer.columns.values[1]='Total Review Count of Beer'\n",
    "above50reviewsperbeer.head()"
   ]
  },
  {
   "cell_type": "markdown",
   "metadata": {},
   "source": [
    "### Again inspectingting the frequency of total reviews received by different beers"
   ]
  },
  {
   "cell_type": "code",
   "execution_count": 348,
   "metadata": {},
   "outputs": [
    {
     "data": {
      "image/png": "[encoded data removed]",
      "text/plain": [
       "<Figure size 800x400 with 1 Axes>"
      ]
     },
     "metadata": {},
     "output_type": "display_data"
    }
   ],
   "source": [
    "# Slightly alter the figure size to make it more horizontal.\n",
    "plt.figure(figsize=(8, 4), dpi=100, facecolor='w', edgecolor='k', frameon='True')\n",
    "sns.set_style(\"darkgrid\") # white/whitegrid/dark/darkgrid/ticks\n",
    "sns.set_context(\"paper\") # talk/poster\n",
    "\n",
    "plt.hist(above50reviewsperbeer['review_overall'],alpha=0.5,color='red', bins=30)\n",
    "# plot x axis label\n",
    "plt.xlabel('No of Reviews per Beer', color='r')\n",
    "# plot y axis label\n",
    "plt.ylabel('Frequency', color='r')\n",
    "# display the plot\n",
    "plt.show()"
   ]
  },
  {
   "cell_type": "markdown",
   "metadata": {},
   "source": [
    "### Finding all distinct reviewers & total beers they reveiwed"
   ]
  },
  {
   "cell_type": "code",
   "execution_count": 349,
   "metadata": {
    "scrolled": false
   },
   "outputs": [
    {
     "data": {
      "text/html": [
       "<div>\n",
       "<style scoped>\n",
       "    .dataframe tbody tr th:only-of-type {\n",
       "        vertical-align: middle;\n",
       "    }\n",
       "\n",
       "    .dataframe tbody tr th {\n",
       "        vertical-align: top;\n",
       "    }\n",
       "\n",
       "    .dataframe thead th {\n",
       "        text-align: right;\n",
       "    }\n",
       "</style>\n",
       "<table border=\"1\" class=\"dataframe\">\n",
       "  <thead>\n",
       "    <tr style=\"text-align: right;\">\n",
       "      <th></th>\n",
       "      <th>review_profilename</th>\n",
       "      <th>review_overall</th>\n",
       "    </tr>\n",
       "  </thead>\n",
       "  <tbody>\n",
       "    <tr>\n",
       "      <th>18188</th>\n",
       "      <td>northyorksammy</td>\n",
       "      <td>1842</td>\n",
       "    </tr>\n",
       "    <tr>\n",
       "      <th>17373</th>\n",
       "      <td>mikesgroove</td>\n",
       "      <td>1373</td>\n",
       "    </tr>\n",
       "    <tr>\n",
       "      <th>1629</th>\n",
       "      <td>BuckeyeNation</td>\n",
       "      <td>1336</td>\n",
       "    </tr>\n",
       "    <tr>\n",
       "      <th>8470</th>\n",
       "      <td>Thorpe429</td>\n",
       "      <td>1072</td>\n",
       "    </tr>\n",
       "    <tr>\n",
       "      <th>1910</th>\n",
       "      <td>ChainGangGuy</td>\n",
       "      <td>1046</td>\n",
       "    </tr>\n",
       "  </tbody>\n",
       "</table>\n",
       "</div>"
      ],
      "text/plain": [
       "      review_profilename  review_overall\n",
       "18188     northyorksammy            1842\n",
       "17373        mikesgroove            1373\n",
       "1629       BuckeyeNation            1336\n",
       "8470           Thorpe429            1072\n",
       "1910        ChainGangGuy            1046"
      ]
     },
     "execution_count": 349,
     "metadata": {},
     "output_type": "execute_result"
    }
   ],
   "source": [
    "reviewsperreviewer=beer_ratings.groupby('review_profilename')['review_overall'].count().reset_index().sort_values(by=['review_overall'],ascending=False)\n",
    "reviewsperreviewer.head()"
   ]
  },
  {
   "cell_type": "code",
   "execution_count": 352,
   "metadata": {},
   "outputs": [
    {
     "data": {
      "text/html": [
       "<div>\n",
       "<style scoped>\n",
       "    .dataframe tbody tr th:only-of-type {\n",
       "        vertical-align: middle;\n",
       "    }\n",
       "\n",
       "    .dataframe tbody tr th {\n",
       "        vertical-align: top;\n",
       "    }\n",
       "\n",
       "    .dataframe thead th {\n",
       "        text-align: right;\n",
       "    }\n",
       "</style>\n",
       "<table border=\"1\" class=\"dataframe\">\n",
       "  <thead>\n",
       "    <tr style=\"text-align: right;\">\n",
       "      <th></th>\n",
       "      <th>count</th>\n",
       "      <th>mean</th>\n",
       "      <th>std</th>\n",
       "      <th>min</th>\n",
       "      <th>25%</th>\n",
       "      <th>50%</th>\n",
       "      <th>75%</th>\n",
       "      <th>max</th>\n",
       "    </tr>\n",
       "  </thead>\n",
       "  <tbody>\n",
       "    <tr>\n",
       "      <th>Total Reviews by User</th>\n",
       "      <td>22497.0</td>\n",
       "      <td>21.09</td>\n",
       "      <td>65.39</td>\n",
       "      <td>1.0</td>\n",
       "      <td>1.0</td>\n",
       "      <td>3.0</td>\n",
       "      <td>11.0</td>\n",
       "      <td>1842.0</td>\n",
       "    </tr>\n",
       "  </tbody>\n",
       "</table>\n",
       "</div>"
      ],
      "text/plain": [
       "                         count   mean    std  min  25%  50%   75%     max\n",
       "Total Reviews by User  22497.0  21.09  65.39  1.0  1.0  3.0  11.0  1842.0"
      ]
     },
     "execution_count": 352,
     "metadata": {},
     "output_type": "execute_result"
    }
   ],
   "source": [
    "round(reviewsperreviewer.describe(),2).T"
   ]
  },
  {
   "cell_type": "markdown",
   "metadata": {},
   "source": [
    " - There are 22497 distinct beers in total\n",
    " - northyorksammy have reviewed the highest no of beers(1842)."
   ]
  },
  {
   "cell_type": "markdown",
   "metadata": {},
   "source": [
    "### Filtering beer database based on users who have reviewed atleast 30 beers each"
   ]
  },
  {
   "cell_type": "code",
   "execution_count": 353,
   "metadata": {
    "scrolled": true
   },
   "outputs": [
    {
     "data": {
      "text/html": [
       "<div>\n",
       "<style scoped>\n",
       "    .dataframe tbody tr th:only-of-type {\n",
       "        vertical-align: middle;\n",
       "    }\n",
       "\n",
       "    .dataframe tbody tr th {\n",
       "        vertical-align: top;\n",
       "    }\n",
       "\n",
       "    .dataframe thead th {\n",
       "        text-align: right;\n",
       "    }\n",
       "</style>\n",
       "<table border=\"1\" class=\"dataframe\">\n",
       "  <thead>\n",
       "    <tr style=\"text-align: right;\">\n",
       "      <th></th>\n",
       "      <th>review_profilename</th>\n",
       "      <th>Total Reviews by User</th>\n",
       "    </tr>\n",
       "  </thead>\n",
       "  <tbody>\n",
       "    <tr>\n",
       "      <th>18188</th>\n",
       "      <td>northyorksammy</td>\n",
       "      <td>1842</td>\n",
       "    </tr>\n",
       "    <tr>\n",
       "      <th>17373</th>\n",
       "      <td>mikesgroove</td>\n",
       "      <td>1373</td>\n",
       "    </tr>\n",
       "    <tr>\n",
       "      <th>1629</th>\n",
       "      <td>BuckeyeNation</td>\n",
       "      <td>1336</td>\n",
       "    </tr>\n",
       "    <tr>\n",
       "      <th>8470</th>\n",
       "      <td>Thorpe429</td>\n",
       "      <td>1072</td>\n",
       "    </tr>\n",
       "    <tr>\n",
       "      <th>1910</th>\n",
       "      <td>ChainGangGuy</td>\n",
       "      <td>1046</td>\n",
       "    </tr>\n",
       "  </tbody>\n",
       "</table>\n",
       "</div>"
      ],
      "text/plain": [
       "      review_profilename  Total Reviews by User\n",
       "18188     northyorksammy                   1842\n",
       "17373        mikesgroove                   1373\n",
       "1629       BuckeyeNation                   1336\n",
       "8470           Thorpe429                   1072\n",
       "1910        ChainGangGuy                   1046"
      ]
     },
     "execution_count": 353,
     "metadata": {},
     "output_type": "execute_result"
    }
   ],
   "source": [
    "above30reviewsperreviewer = reviewsperreviewer.loc[reviewsperreviewer['review_overall'] >= 30]\n",
    "above30reviewsperreviewer.columns.values[1]='Total Reviews by User'\n",
    "above30reviewsperreviewer.head()"
   ]
  },
  {
   "cell_type": "markdown",
   "metadata": {},
   "source": [
    "### Again inspectingting the frequency of total reviews reviewed by various reviewers"
   ]
  },
  {
   "cell_type": "code",
   "execution_count": 354,
   "metadata": {
    "scrolled": false
   },
   "outputs": [
    {
     "data": {
      "image/png": "[encoded data removed]",
      "text/plain": [
       "<Figure size 800x400 with 1 Axes>"
      ]
     },
     "metadata": {},
     "output_type": "display_data"
    }
   ],
   "source": [
    "# Slightly alter the figure size to make it more horizontal.\n",
    "plt.figure(figsize=(8, 4), dpi=100, facecolor='w', edgecolor='k', frameon='True')\n",
    "sns.set_style(\"darkgrid\") # white/whitegrid/dark/darkgrid/ticks\n",
    "sns.set_context(\"paper\") # talk/poster\n",
    "\n",
    "plt.hist(above30reviewsperreviewer['review_overall'],alpha=0.5,color='red', bins=30)\n",
    "# plot x axis label\n",
    "plt.xlabel('No of Reviews per Beer', color='r')\n",
    "# plot y axis label\n",
    "plt.ylabel('Frequency', color='r')\n",
    "# display the plot\n",
    "plt.show()"
   ]
  },
  {
   "cell_type": "markdown",
   "metadata": {},
   "source": [
    "### Filtering original data by these chosen beer and user ids"
   ]
  },
  {
   "cell_type": "code",
   "execution_count": 355,
   "metadata": {},
   "outputs": [
    {
     "data": {
      "text/plain": [
       "(230088, 5)"
      ]
     },
     "execution_count": 355,
     "metadata": {},
     "output_type": "execute_result"
    }
   ],
   "source": [
    "beers_for_recommendation = pd.merge(beer_ratings, above50reviewsperbeer, how='inner', on='beer_beerid')\n",
    "beers_for_recommendation = pd.merge(beers_for_recommendation, above30reviewsperreviewer, how='inner', on='review_profilename')\n",
    "beers_for_recommendation.shape"
   ]
  },
  {
   "cell_type": "code",
   "execution_count": 356,
   "metadata": {},
   "outputs": [
    {
     "data": {
      "text/html": [
       "<div>\n",
       "<style scoped>\n",
       "    .dataframe tbody tr th:only-of-type {\n",
       "        vertical-align: middle;\n",
       "    }\n",
       "\n",
       "    .dataframe tbody tr th {\n",
       "        vertical-align: top;\n",
       "    }\n",
       "\n",
       "    .dataframe thead th {\n",
       "        text-align: right;\n",
       "    }\n",
       "</style>\n",
       "<table border=\"1\" class=\"dataframe\">\n",
       "  <thead>\n",
       "    <tr style=\"text-align: right;\">\n",
       "      <th></th>\n",
       "      <th>beer_beerid</th>\n",
       "      <th>review_profilename</th>\n",
       "      <th>review_overall</th>\n",
       "      <th>Total Review Count of Beer</th>\n",
       "      <th>Total Reviews by User</th>\n",
       "    </tr>\n",
       "  </thead>\n",
       "  <tbody>\n",
       "    <tr>\n",
       "      <th>0</th>\n",
       "      <td>436</td>\n",
       "      <td>Brent</td>\n",
       "      <td>3.0</td>\n",
       "      <td>127</td>\n",
       "      <td>518</td>\n",
       "    </tr>\n",
       "    <tr>\n",
       "      <th>1</th>\n",
       "      <td>10784</td>\n",
       "      <td>Brent</td>\n",
       "      <td>4.0</td>\n",
       "      <td>119</td>\n",
       "      <td>518</td>\n",
       "    </tr>\n",
       "    <tr>\n",
       "      <th>2</th>\n",
       "      <td>16074</td>\n",
       "      <td>Brent</td>\n",
       "      <td>4.0</td>\n",
       "      <td>431</td>\n",
       "      <td>518</td>\n",
       "    </tr>\n",
       "    <tr>\n",
       "      <th>3</th>\n",
       "      <td>33644</td>\n",
       "      <td>Brent</td>\n",
       "      <td>4.0</td>\n",
       "      <td>261</td>\n",
       "      <td>518</td>\n",
       "    </tr>\n",
       "    <tr>\n",
       "      <th>4</th>\n",
       "      <td>1122</td>\n",
       "      <td>Brent</td>\n",
       "      <td>5.0</td>\n",
       "      <td>54</td>\n",
       "      <td>518</td>\n",
       "    </tr>\n",
       "  </tbody>\n",
       "</table>\n",
       "</div>"
      ],
      "text/plain": [
       "   beer_beerid review_profilename  review_overall  Total Review Count of Beer  \\\n",
       "0          436              Brent             3.0                         127   \n",
       "1        10784              Brent             4.0                         119   \n",
       "2        16074              Brent             4.0                         431   \n",
       "3        33644              Brent             4.0                         261   \n",
       "4         1122              Brent             5.0                          54   \n",
       "\n",
       "   Total Reviews by User  \n",
       "0                    518  \n",
       "1                    518  \n",
       "2                    518  \n",
       "3                    518  \n",
       "4                    518  "
      ]
     },
     "execution_count": 356,
     "metadata": {},
     "output_type": "execute_result"
    }
   ],
   "source": [
    "beers_for_recommendation.head()"
   ]
  },
  {
   "cell_type": "code",
   "execution_count": 357,
   "metadata": {
    "scrolled": true
   },
   "outputs": [
    {
     "data": {
      "text/html": [
       "<div>\n",
       "<style scoped>\n",
       "    .dataframe tbody tr th:only-of-type {\n",
       "        vertical-align: middle;\n",
       "    }\n",
       "\n",
       "    .dataframe tbody tr th {\n",
       "        vertical-align: top;\n",
       "    }\n",
       "\n",
       "    .dataframe thead th {\n",
       "        text-align: right;\n",
       "    }\n",
       "</style>\n",
       "<table border=\"1\" class=\"dataframe\">\n",
       "  <thead>\n",
       "    <tr style=\"text-align: right;\">\n",
       "      <th></th>\n",
       "      <th>count</th>\n",
       "      <th>mean</th>\n",
       "      <th>std</th>\n",
       "      <th>min</th>\n",
       "      <th>25%</th>\n",
       "      <th>50%</th>\n",
       "      <th>75%</th>\n",
       "      <th>max</th>\n",
       "    </tr>\n",
       "  </thead>\n",
       "  <tbody>\n",
       "    <tr>\n",
       "      <th>beer_beerid</th>\n",
       "      <td>230088.0</td>\n",
       "      <td>15773.718295</td>\n",
       "      <td>18910.919154</td>\n",
       "      <td>5.0</td>\n",
       "      <td>1089.0</td>\n",
       "      <td>4161.0</td>\n",
       "      <td>29619.0</td>\n",
       "      <td>75086.0</td>\n",
       "    </tr>\n",
       "    <tr>\n",
       "      <th>review_overall</th>\n",
       "      <td>230088.0</td>\n",
       "      <td>3.869528</td>\n",
       "      <td>0.678448</td>\n",
       "      <td>1.0</td>\n",
       "      <td>3.5</td>\n",
       "      <td>4.0</td>\n",
       "      <td>4.5</td>\n",
       "      <td>5.0</td>\n",
       "    </tr>\n",
       "    <tr>\n",
       "      <th>Total Review Count of Beer</th>\n",
       "      <td>230088.0</td>\n",
       "      <td>233.838583</td>\n",
       "      <td>185.349133</td>\n",
       "      <td>50.0</td>\n",
       "      <td>97.0</td>\n",
       "      <td>171.0</td>\n",
       "      <td>314.0</td>\n",
       "      <td>977.0</td>\n",
       "    </tr>\n",
       "    <tr>\n",
       "      <th>Total Reviews by User</th>\n",
       "      <td>230088.0</td>\n",
       "      <td>233.050581</td>\n",
       "      <td>229.966623</td>\n",
       "      <td>30.0</td>\n",
       "      <td>78.0</td>\n",
       "      <td>155.0</td>\n",
       "      <td>299.0</td>\n",
       "      <td>1842.0</td>\n",
       "    </tr>\n",
       "  </tbody>\n",
       "</table>\n",
       "</div>"
      ],
      "text/plain": [
       "                               count          mean           std   min  \\\n",
       "beer_beerid                 230088.0  15773.718295  18910.919154   5.0   \n",
       "review_overall              230088.0      3.869528      0.678448   1.0   \n",
       "Total Review Count of Beer  230088.0    233.838583    185.349133  50.0   \n",
       "Total Reviews by User       230088.0    233.050581    229.966623  30.0   \n",
       "\n",
       "                               25%     50%      75%      max  \n",
       "beer_beerid                 1089.0  4161.0  29619.0  75086.0  \n",
       "review_overall                 3.5     4.0      4.5      5.0  \n",
       "Total Review Count of Beer    97.0   171.0    314.0    977.0  \n",
       "Total Reviews by User         78.0   155.0    299.0   1842.0  "
      ]
     },
     "execution_count": 357,
     "metadata": {},
     "output_type": "execute_result"
    }
   ],
   "source": [
    "beers_for_recommendation.describe().T"
   ]
  },
  {
   "cell_type": "code",
   "execution_count": 358,
   "metadata": {},
   "outputs": [
    {
     "data": {
      "text/plain": [
       "BuckeyeNation     518\n",
       "mikesgroove       505\n",
       "BEERchitect       460\n",
       "northyorksammy    455\n",
       "WesWes            455\n",
       "Name: review_profilename, dtype: int64"
      ]
     },
     "execution_count": 358,
     "metadata": {},
     "output_type": "execute_result"
    }
   ],
   "source": [
    "beers_for_recommendation['review_profilename'].value_counts().head()"
   ]
  },
  {
   "cell_type": "markdown",
   "metadata": {},
   "source": [
    "##### This beer subset have substantial ratings by both users & beers."
   ]
  },
  {
   "cell_type": "markdown",
   "metadata": {},
   "source": [
    "## Step 4: Data Exploration"
   ]
  },
  {
   "cell_type": "code",
   "execution_count": 359,
   "metadata": {},
   "outputs": [
    {
     "data": {
      "text/html": [
       "<div>\n",
       "<style scoped>\n",
       "    .dataframe tbody tr th:only-of-type {\n",
       "        vertical-align: middle;\n",
       "    }\n",
       "\n",
       "    .dataframe tbody tr th {\n",
       "        vertical-align: top;\n",
       "    }\n",
       "\n",
       "    .dataframe thead th {\n",
       "        text-align: right;\n",
       "    }\n",
       "</style>\n",
       "<table border=\"1\" class=\"dataframe\">\n",
       "  <thead>\n",
       "    <tr style=\"text-align: right;\">\n",
       "      <th></th>\n",
       "      <th>beer_beerid</th>\n",
       "      <th>review_profilename</th>\n",
       "      <th>review_overall</th>\n",
       "      <th>Total Review Count of Beer</th>\n",
       "      <th>Total Reviews by User</th>\n",
       "    </tr>\n",
       "  </thead>\n",
       "  <tbody>\n",
       "    <tr>\n",
       "      <th>0</th>\n",
       "      <td>436</td>\n",
       "      <td>Brent</td>\n",
       "      <td>3.0</td>\n",
       "      <td>127</td>\n",
       "      <td>518</td>\n",
       "    </tr>\n",
       "    <tr>\n",
       "      <th>1</th>\n",
       "      <td>10784</td>\n",
       "      <td>Brent</td>\n",
       "      <td>4.0</td>\n",
       "      <td>119</td>\n",
       "      <td>518</td>\n",
       "    </tr>\n",
       "    <tr>\n",
       "      <th>2</th>\n",
       "      <td>16074</td>\n",
       "      <td>Brent</td>\n",
       "      <td>4.0</td>\n",
       "      <td>431</td>\n",
       "      <td>518</td>\n",
       "    </tr>\n",
       "    <tr>\n",
       "      <th>3</th>\n",
       "      <td>33644</td>\n",
       "      <td>Brent</td>\n",
       "      <td>4.0</td>\n",
       "      <td>261</td>\n",
       "      <td>518</td>\n",
       "    </tr>\n",
       "    <tr>\n",
       "      <th>4</th>\n",
       "      <td>1122</td>\n",
       "      <td>Brent</td>\n",
       "      <td>5.0</td>\n",
       "      <td>54</td>\n",
       "      <td>518</td>\n",
       "    </tr>\n",
       "  </tbody>\n",
       "</table>\n",
       "</div>"
      ],
      "text/plain": [
       "   beer_beerid review_profilename  review_overall  Total Review Count of Beer  \\\n",
       "0          436              Brent             3.0                         127   \n",
       "1        10784              Brent             4.0                         119   \n",
       "2        16074              Brent             4.0                         431   \n",
       "3        33644              Brent             4.0                         261   \n",
       "4         1122              Brent             5.0                          54   \n",
       "\n",
       "   Total Reviews by User  \n",
       "0                    518  \n",
       "1                    518  \n",
       "2                    518  \n",
       "3                    518  \n",
       "4                    518  "
      ]
     },
     "execution_count": 359,
     "metadata": {},
     "output_type": "execute_result"
    }
   ],
   "source": [
    "beers_for_recommendation.head()"
   ]
  },
  {
   "cell_type": "markdown",
   "metadata": {},
   "source": [
    "### What are the unique values of ratings?"
   ]
  },
  {
   "cell_type": "code",
   "execution_count": 360,
   "metadata": {},
   "outputs": [
    {
     "data": {
      "text/plain": [
       "[1.0, 1.5, 2.0, 2.5, 3.0, 3.5, 4.0, 4.5, 5.0]"
      ]
     },
     "execution_count": 360,
     "metadata": {},
     "output_type": "execute_result"
    }
   ],
   "source": [
    "sorted(beers_for_recommendation['review_overall'].unique())"
   ]
  },
  {
   "cell_type": "markdown",
   "metadata": {},
   "source": [
    "### Percentage Occurence of the Different Values of Ratings"
   ]
  },
  {
   "cell_type": "code",
   "execution_count": 362,
   "metadata": {},
   "outputs": [
    {
     "data": {
      "image/png": "[encoded data removed]",
      "text/plain": [
       "<Figure size 576x576 with 1 Axes>"
      ]
     },
     "metadata": {},
     "output_type": "display_data"
    }
   ],
   "source": [
    "from collections import Counter\n",
    "\n",
    "labels, values = zip(*Counter(beers_for_recommendation[\"review_overall\"]).items())\n",
    "colors = [\"#ff9999\", \"#99d8c9\", \"#2ca25f\", \"#99ff99\",\"#66b3ff\",\"#fdbb84\",\"#e34a33\",\"#bdbdbd\",\"#f7fcb9\",\"#99ff99\",\"#f7fcb9\",\"#fec44f\",\"#d95f0e\",\"#dd1c77\",\"#99ff99\"]\n",
    "explode = (0, 0, 0, 0, 0, 0, 0, 0.1, 0.2)\n",
    "piechart_df = (pd.DataFrame(list(values),list(labels)))\n",
    "piechart_df = piechart_df.reset_index()\n",
    "\n",
    "fig = plt.figure(figsize=[8,8])\n",
    "patches, texts, autotexts = plt.pie(piechart_df[0], labels=piechart_df[\"index\"], \\\n",
    "                                    startangle=90, colors = colors, autopct='%.1f%%', \\\n",
    "                                    shadow=True,explode=explode, textprops={'fontsize': 10})\n",
    "\n",
    "plt.title(\"%age Occurence of Ratings\", fontsize=14, loc='right')\n",
    "\n",
    "# Equal aspect ratio ensures that pie is drawn as a circle\n",
    "plt.axis('equal')  \n",
    "for autotext in autotexts:\n",
    "    autotext.set_color('blue')\n",
    "    autotext.set_fontsize('14')\n",
    "\n",
    "for text in texts:\n",
    "    text.set_color('red')\n",
    "    text.set_fontsize('16')    \n",
    "    \n",
    "    \n",
    "plt.tight_layout()    \n",
    "plt.show()"
   ]
  },
  {
   "cell_type": "markdown",
   "metadata": {},
   "source": [
    "### Visualise the Average Beer Ratings:"
   ]
  },
  {
   "cell_type": "code",
   "execution_count": 363,
   "metadata": {},
   "outputs": [
    {
     "data": {
      "text/html": [
       "<div>\n",
       "<style scoped>\n",
       "    .dataframe tbody tr th:only-of-type {\n",
       "        vertical-align: middle;\n",
       "    }\n",
       "\n",
       "    .dataframe tbody tr th {\n",
       "        vertical-align: top;\n",
       "    }\n",
       "\n",
       "    .dataframe thead th {\n",
       "        text-align: right;\n",
       "    }\n",
       "</style>\n",
       "<table border=\"1\" class=\"dataframe\">\n",
       "  <thead>\n",
       "    <tr style=\"text-align: right;\">\n",
       "      <th></th>\n",
       "      <th>review_overall</th>\n",
       "    </tr>\n",
       "    <tr>\n",
       "      <th>beer_beerid</th>\n",
       "      <th></th>\n",
       "    </tr>\n",
       "  </thead>\n",
       "  <tbody>\n",
       "    <tr>\n",
       "      <th>5</th>\n",
       "      <td>3.532609</td>\n",
       "    </tr>\n",
       "    <tr>\n",
       "      <th>6</th>\n",
       "      <td>3.707895</td>\n",
       "    </tr>\n",
       "    <tr>\n",
       "      <th>7</th>\n",
       "      <td>3.272109</td>\n",
       "    </tr>\n",
       "    <tr>\n",
       "      <th>10</th>\n",
       "      <td>3.859116</td>\n",
       "    </tr>\n",
       "    <tr>\n",
       "      <th>14</th>\n",
       "      <td>3.911765</td>\n",
       "    </tr>\n",
       "  </tbody>\n",
       "</table>\n",
       "</div>"
      ],
      "text/plain": [
       "             review_overall\n",
       "beer_beerid                \n",
       "5                  3.532609\n",
       "6                  3.707895\n",
       "7                  3.272109\n",
       "10                 3.859116\n",
       "14                 3.911765"
      ]
     },
     "execution_count": 363,
     "metadata": {},
     "output_type": "execute_result"
    }
   ],
   "source": [
    "beer_mean_rating = pd.DataFrame(beers_for_recommendation.groupby('beer_beerid')['review_overall'].mean())\n",
    "beer_mean_rating.head()"
   ]
  },
  {
   "cell_type": "code",
   "execution_count": 364,
   "metadata": {
    "scrolled": true
   },
   "outputs": [
    {
     "data": {
      "text/html": [
       "<div>\n",
       "<style scoped>\n",
       "    .dataframe tbody tr th:only-of-type {\n",
       "        vertical-align: middle;\n",
       "    }\n",
       "\n",
       "    .dataframe tbody tr th {\n",
       "        vertical-align: top;\n",
       "    }\n",
       "\n",
       "    .dataframe thead th {\n",
       "        text-align: right;\n",
       "    }\n",
       "</style>\n",
       "<table border=\"1\" class=\"dataframe\">\n",
       "  <thead>\n",
       "    <tr style=\"text-align: right;\">\n",
       "      <th></th>\n",
       "      <th>count</th>\n",
       "      <th>mean</th>\n",
       "      <th>std</th>\n",
       "      <th>min</th>\n",
       "      <th>25%</th>\n",
       "      <th>50%</th>\n",
       "      <th>75%</th>\n",
       "      <th>max</th>\n",
       "    </tr>\n",
       "  </thead>\n",
       "  <tbody>\n",
       "    <tr>\n",
       "      <th>review_overall</th>\n",
       "      <td>2064.0</td>\n",
       "      <td>3.805672</td>\n",
       "      <td>0.364112</td>\n",
       "      <td>1.258333</td>\n",
       "      <td>3.65592</td>\n",
       "      <td>3.869565</td>\n",
       "      <td>4.042882</td>\n",
       "      <td>4.636364</td>\n",
       "    </tr>\n",
       "  </tbody>\n",
       "</table>\n",
       "</div>"
      ],
      "text/plain": [
       "                 count      mean       std       min      25%       50%  \\\n",
       "review_overall  2064.0  3.805672  0.364112  1.258333  3.65592  3.869565   \n",
       "\n",
       "                     75%       max  \n",
       "review_overall  4.042882  4.636364  "
      ]
     },
     "execution_count": 364,
     "metadata": {},
     "output_type": "execute_result"
    }
   ],
   "source": [
    "pd.DataFrame(beer_mean_rating['review_overall']).describe().T"
   ]
  },
  {
   "cell_type": "code",
   "execution_count": 365,
   "metadata": {},
   "outputs": [
    {
     "data": {
      "image/png": "[encoded data removed]",
      "text/plain": [
       "<Figure size 1000x400 with 3 Axes>"
      ]
     },
     "metadata": {},
     "output_type": "display_data"
    }
   ],
   "source": [
    "# Slightly alter the figure size to make it more horizontal.\n",
    "plt.figure(figsize=(10,4), dpi=100, facecolor='w', edgecolor='k', frameon='True')\n",
    "sns.set_style(\"darkgrid\") # white/whitegrid/dark/ticks\n",
    "sns.set_context(\"paper\") # talk/poster\n",
    "\n",
    "# subplot 1\n",
    "plt.subplot(1, 3, 1)\n",
    "sns.boxplot(y=beer_mean_rating['review_overall'])\n",
    "plt.ylabel('Ratings', color='b')\n",
    "\n",
    "# subplot 3\n",
    "plt.subplot(1, 3, 2)\n",
    "plt.hist(beer_mean_rating['review_overall'],alpha=0.5,color='blue')\n",
    "plt.xlabel('Ratings', color='b')\n",
    "\n",
    "# subplot 3\n",
    "plt.subplot(1, 3, 3)\n",
    "sns.distplot(beer_mean_rating['review_overall'], color='blue', rug=True)\n",
    "plt.xlabel('Ratings', color='b')\n",
    "\n",
    "# Automatically adjust subplot params so that the subplotS fits in to the figure area.\n",
    "plt.tight_layout()\n",
    "\n",
    "# display the plot\n",
    "plt.show()"
   ]
  },
  {
   "cell_type": "markdown",
   "metadata": {},
   "source": [
    "##### The mean and median of average beer ratings are respectively `3.805672` & `3.869565`. Hence it almost follows a normal distribution."
   ]
  },
  {
   "cell_type": "markdown",
   "metadata": {},
   "source": [
    "### Visualise the Average User Ratings:"
   ]
  },
  {
   "cell_type": "code",
   "execution_count": 366,
   "metadata": {},
   "outputs": [
    {
     "data": {
      "text/html": [
       "<div>\n",
       "<style scoped>\n",
       "    .dataframe tbody tr th:only-of-type {\n",
       "        vertical-align: middle;\n",
       "    }\n",
       "\n",
       "    .dataframe tbody tr th {\n",
       "        vertical-align: top;\n",
       "    }\n",
       "\n",
       "    .dataframe thead th {\n",
       "        text-align: right;\n",
       "    }\n",
       "</style>\n",
       "<table border=\"1\" class=\"dataframe\">\n",
       "  <thead>\n",
       "    <tr style=\"text-align: right;\">\n",
       "      <th></th>\n",
       "      <th>review_overall</th>\n",
       "    </tr>\n",
       "    <tr>\n",
       "      <th>review_profilename</th>\n",
       "      <th></th>\n",
       "    </tr>\n",
       "  </thead>\n",
       "  <tbody>\n",
       "    <tr>\n",
       "      <th>0110x011</th>\n",
       "      <td>4.333333</td>\n",
       "    </tr>\n",
       "    <tr>\n",
       "      <th>05Harley</th>\n",
       "      <td>4.116667</td>\n",
       "    </tr>\n",
       "    <tr>\n",
       "      <th>100floods</th>\n",
       "      <td>4.155172</td>\n",
       "    </tr>\n",
       "    <tr>\n",
       "      <th>1759Girl</th>\n",
       "      <td>3.725000</td>\n",
       "    </tr>\n",
       "    <tr>\n",
       "      <th>1fastz28</th>\n",
       "      <td>3.875000</td>\n",
       "    </tr>\n",
       "  </tbody>\n",
       "</table>\n",
       "</div>"
      ],
      "text/plain": [
       "                    review_overall\n",
       "review_profilename                \n",
       "0110x011                  4.333333\n",
       "05Harley                  4.116667\n",
       "100floods                 4.155172\n",
       "1759Girl                  3.725000\n",
       "1fastz28                  3.875000"
      ]
     },
     "execution_count": 366,
     "metadata": {},
     "output_type": "execute_result"
    }
   ],
   "source": [
    "user_mean_rating = pd.DataFrame(beers_for_recommendation.groupby('review_profilename')['review_overall'].mean())\n",
    "user_mean_rating.head()"
   ]
  },
  {
   "cell_type": "code",
   "execution_count": 367,
   "metadata": {
    "scrolled": true
   },
   "outputs": [
    {
     "data": {
      "text/html": [
       "<div>\n",
       "<style scoped>\n",
       "    .dataframe tbody tr th:only-of-type {\n",
       "        vertical-align: middle;\n",
       "    }\n",
       "\n",
       "    .dataframe tbody tr th {\n",
       "        vertical-align: top;\n",
       "    }\n",
       "\n",
       "    .dataframe thead th {\n",
       "        text-align: right;\n",
       "    }\n",
       "</style>\n",
       "<table border=\"1\" class=\"dataframe\">\n",
       "  <thead>\n",
       "    <tr style=\"text-align: right;\">\n",
       "      <th></th>\n",
       "      <th>count</th>\n",
       "      <th>mean</th>\n",
       "      <th>std</th>\n",
       "      <th>min</th>\n",
       "      <th>25%</th>\n",
       "      <th>50%</th>\n",
       "      <th>75%</th>\n",
       "      <th>max</th>\n",
       "    </tr>\n",
       "  </thead>\n",
       "  <tbody>\n",
       "    <tr>\n",
       "      <th>review_overall</th>\n",
       "      <td>3176.0</td>\n",
       "      <td>3.875033</td>\n",
       "      <td>0.219189</td>\n",
       "      <td>2.833333</td>\n",
       "      <td>3.75</td>\n",
       "      <td>3.901286</td>\n",
       "      <td>4.022727</td>\n",
       "      <td>4.456522</td>\n",
       "    </tr>\n",
       "  </tbody>\n",
       "</table>\n",
       "</div>"
      ],
      "text/plain": [
       "                 count      mean       std       min   25%       50%  \\\n",
       "review_overall  3176.0  3.875033  0.219189  2.833333  3.75  3.901286   \n",
       "\n",
       "                     75%       max  \n",
       "review_overall  4.022727  4.456522  "
      ]
     },
     "execution_count": 367,
     "metadata": {},
     "output_type": "execute_result"
    }
   ],
   "source": [
    "pd.DataFrame(user_mean_rating['review_overall']).describe().T"
   ]
  },
  {
   "cell_type": "code",
   "execution_count": 368,
   "metadata": {},
   "outputs": [
    {
     "data": {
      "image/png": "[encoded data removed]",
      "text/plain": [
       "<Figure size 1000x400 with 3 Axes>"
      ]
     },
     "metadata": {},
     "output_type": "display_data"
    }
   ],
   "source": [
    "# Slightly alter the figure size to make it more horizontal.\n",
    "plt.figure(figsize=(10,4), dpi=100, facecolor='w', edgecolor='k', frameon='True')\n",
    "sns.set_style(\"darkgrid\") # white/whitegrid/dark/ticks\n",
    "sns.set_context(\"paper\") # talk/poster\n",
    "\n",
    "# subplot 1\n",
    "plt.subplot(1, 3, 1)\n",
    "sns.boxplot(y=user_mean_rating['review_overall'])\n",
    "plt.ylabel('Ratings', color='b')\n",
    "\n",
    "# subplot 3\n",
    "plt.subplot(1, 3, 2)\n",
    "plt.hist(user_mean_rating['review_overall'],alpha=0.5,color='blue')\n",
    "plt.xlabel('Ratings', color='b')\n",
    "\n",
    "# subplot 3\n",
    "plt.subplot(1, 3, 3)\n",
    "sns.distplot(user_mean_rating['review_overall'], color='blue', rug=True)\n",
    "plt.xlabel('Ratings', color='b')\n",
    "\n",
    "# Automatically adjust subplot params so that the subplotS fits in to the figure area.\n",
    "plt.tight_layout()\n",
    "\n",
    "# display the plot\n",
    "plt.show()"
   ]
  },
  {
   "cell_type": "markdown",
   "metadata": {},
   "source": [
    "##### The mean and median of average beer ratings are respectively `3.875033` & `3.901286`. Hence it almost follows a normal distribution."
   ]
  },
  {
   "cell_type": "markdown",
   "metadata": {},
   "source": [
    "### Visualise the Average Number of Ratings given to Beers:"
   ]
  },
  {
   "cell_type": "code",
   "execution_count": 370,
   "metadata": {},
   "outputs": [
    {
     "data": {
      "text/html": [
       "<div>\n",
       "<style scoped>\n",
       "    .dataframe tbody tr th:only-of-type {\n",
       "        vertical-align: middle;\n",
       "    }\n",
       "\n",
       "    .dataframe tbody tr th {\n",
       "        vertical-align: top;\n",
       "    }\n",
       "\n",
       "    .dataframe thead th {\n",
       "        text-align: right;\n",
       "    }\n",
       "</style>\n",
       "<table border=\"1\" class=\"dataframe\">\n",
       "  <thead>\n",
       "    <tr style=\"text-align: right;\">\n",
       "      <th></th>\n",
       "      <th>review_overall</th>\n",
       "    </tr>\n",
       "    <tr>\n",
       "      <th>beer_beerid</th>\n",
       "      <th></th>\n",
       "    </tr>\n",
       "  </thead>\n",
       "  <tbody>\n",
       "    <tr>\n",
       "      <th>5</th>\n",
       "      <td>92</td>\n",
       "    </tr>\n",
       "    <tr>\n",
       "      <th>6</th>\n",
       "      <td>190</td>\n",
       "    </tr>\n",
       "    <tr>\n",
       "      <th>7</th>\n",
       "      <td>147</td>\n",
       "    </tr>\n",
       "    <tr>\n",
       "      <th>10</th>\n",
       "      <td>181</td>\n",
       "    </tr>\n",
       "    <tr>\n",
       "      <th>14</th>\n",
       "      <td>51</td>\n",
       "    </tr>\n",
       "  </tbody>\n",
       "</table>\n",
       "</div>"
      ],
      "text/plain": [
       "             review_overall\n",
       "beer_beerid                \n",
       "5                        92\n",
       "6                       190\n",
       "7                       147\n",
       "10                      181\n",
       "14                       51"
      ]
     },
     "execution_count": 370,
     "metadata": {},
     "output_type": "execute_result"
    }
   ],
   "source": [
    "mean_beer_review_count = pd.DataFrame(beers_for_recommendation.groupby('beer_beerid')['review_overall'].count())\n",
    "mean_beer_review_count.head()"
   ]
  },
  {
   "cell_type": "code",
   "execution_count": 371,
   "metadata": {
    "scrolled": true
   },
   "outputs": [
    {
     "data": {
      "text/html": [
       "<div>\n",
       "<style scoped>\n",
       "    .dataframe tbody tr th:only-of-type {\n",
       "        vertical-align: middle;\n",
       "    }\n",
       "\n",
       "    .dataframe tbody tr th {\n",
       "        vertical-align: top;\n",
       "    }\n",
       "\n",
       "    .dataframe thead th {\n",
       "        text-align: right;\n",
       "    }\n",
       "</style>\n",
       "<table border=\"1\" class=\"dataframe\">\n",
       "  <thead>\n",
       "    <tr style=\"text-align: right;\">\n",
       "      <th></th>\n",
       "      <th>count</th>\n",
       "      <th>mean</th>\n",
       "      <th>std</th>\n",
       "      <th>min</th>\n",
       "      <th>25%</th>\n",
       "      <th>50%</th>\n",
       "      <th>75%</th>\n",
       "      <th>max</th>\n",
       "    </tr>\n",
       "  </thead>\n",
       "  <tbody>\n",
       "    <tr>\n",
       "      <th>review_overall</th>\n",
       "      <td>2064.0</td>\n",
       "      <td>111.476744</td>\n",
       "      <td>83.272159</td>\n",
       "      <td>26.0</td>\n",
       "      <td>57.0</td>\n",
       "      <td>82.0</td>\n",
       "      <td>133.0</td>\n",
       "      <td>600.0</td>\n",
       "    </tr>\n",
       "  </tbody>\n",
       "</table>\n",
       "</div>"
      ],
      "text/plain": [
       "                 count        mean        std   min   25%   50%    75%    max\n",
       "review_overall  2064.0  111.476744  83.272159  26.0  57.0  82.0  133.0  600.0"
      ]
     },
     "execution_count": 371,
     "metadata": {},
     "output_type": "execute_result"
    }
   ],
   "source": [
    "pd.DataFrame(mean_beer_review_count['review_overall']).describe().T"
   ]
  },
  {
   "cell_type": "code",
   "execution_count": 372,
   "metadata": {},
   "outputs": [
    {
     "data": {
      "image/png": "[encoded data removed]",
      "text/plain": [
       "<Figure size 1000x400 with 3 Axes>"
      ]
     },
     "metadata": {},
     "output_type": "display_data"
    }
   ],
   "source": [
    "# Slightly alter the figure size to make it more horizontal.\n",
    "plt.figure(figsize=(10,4), dpi=100, facecolor='w', edgecolor='k', frameon='True')\n",
    "sns.set_style(\"darkgrid\") # white/whitegrid/dark/ticks\n",
    "sns.set_context(\"paper\") # talk/poster\n",
    "\n",
    "# subplot 1\n",
    "plt.subplot(1, 3, 1)\n",
    "sns.boxplot(y=mean_beer_review_count['review_overall'])\n",
    "plt.ylabel('Ratings', color='b')\n",
    "\n",
    "# subplot 3\n",
    "plt.subplot(1, 3, 2)\n",
    "plt.hist(mean_beer_review_count['review_overall'],alpha=0.5,color='blue')\n",
    "plt.xlabel('Ratings', color='b')\n",
    "\n",
    "# subplot 3\n",
    "plt.subplot(1, 3, 3)\n",
    "sns.distplot(mean_beer_review_count['review_overall'], color='blue', rug=True)\n",
    "plt.xlabel('Ratings', color='b')\n",
    "\n",
    "# Automatically adjust subplot params so that the subplotS fits in to the figure area.\n",
    "plt.tight_layout()\n",
    "\n",
    "# display the plot\n",
    "plt.show()"
   ]
  },
  {
   "cell_type": "markdown",
   "metadata": {},
   "source": [
    "##### The mean and median of beer review count are respectively `111.5` & `82.0`. Hence it almost follows a normal distribution but is left skewed."
   ]
  },
  {
   "cell_type": "markdown",
   "metadata": {},
   "source": [
    "### Visualise the Average Number of Ratings given by the Users:"
   ]
  },
  {
   "cell_type": "code",
   "execution_count": 378,
   "metadata": {},
   "outputs": [
    {
     "data": {
      "text/html": [
       "<div>\n",
       "<style scoped>\n",
       "    .dataframe tbody tr th:only-of-type {\n",
       "        vertical-align: middle;\n",
       "    }\n",
       "\n",
       "    .dataframe tbody tr th {\n",
       "        vertical-align: top;\n",
       "    }\n",
       "\n",
       "    .dataframe thead th {\n",
       "        text-align: right;\n",
       "    }\n",
       "</style>\n",
       "<table border=\"1\" class=\"dataframe\">\n",
       "  <thead>\n",
       "    <tr style=\"text-align: right;\">\n",
       "      <th></th>\n",
       "      <th>review_overall</th>\n",
       "    </tr>\n",
       "    <tr>\n",
       "      <th>review_profilename</th>\n",
       "      <th></th>\n",
       "    </tr>\n",
       "  </thead>\n",
       "  <tbody>\n",
       "    <tr>\n",
       "      <th>0110x011</th>\n",
       "      <td>30</td>\n",
       "    </tr>\n",
       "    <tr>\n",
       "      <th>05Harley</th>\n",
       "      <td>30</td>\n",
       "    </tr>\n",
       "    <tr>\n",
       "      <th>100floods</th>\n",
       "      <td>29</td>\n",
       "    </tr>\n",
       "    <tr>\n",
       "      <th>1759Girl</th>\n",
       "      <td>40</td>\n",
       "    </tr>\n",
       "    <tr>\n",
       "      <th>1fastz28</th>\n",
       "      <td>96</td>\n",
       "    </tr>\n",
       "  </tbody>\n",
       "</table>\n",
       "</div>"
      ],
      "text/plain": [
       "                    review_overall\n",
       "review_profilename                \n",
       "0110x011                        30\n",
       "05Harley                        30\n",
       "100floods                       29\n",
       "1759Girl                        40\n",
       "1fastz28                        96"
      ]
     },
     "execution_count": 378,
     "metadata": {},
     "output_type": "execute_result"
    }
   ],
   "source": [
    "mean_user_review_count = pd.DataFrame(beers_for_recommendation.groupby('review_profilename')['review_overall'].count())\n",
    "mean_user_review_count.head()"
   ]
  },
  {
   "cell_type": "code",
   "execution_count": 379,
   "metadata": {
    "scrolled": true
   },
   "outputs": [
    {
     "data": {
      "text/html": [
       "<div>\n",
       "<style scoped>\n",
       "    .dataframe tbody tr th:only-of-type {\n",
       "        vertical-align: middle;\n",
       "    }\n",
       "\n",
       "    .dataframe tbody tr th {\n",
       "        vertical-align: top;\n",
       "    }\n",
       "\n",
       "    .dataframe thead th {\n",
       "        text-align: right;\n",
       "    }\n",
       "</style>\n",
       "<table border=\"1\" class=\"dataframe\">\n",
       "  <thead>\n",
       "    <tr style=\"text-align: right;\">\n",
       "      <th></th>\n",
       "      <th>count</th>\n",
       "      <th>mean</th>\n",
       "      <th>std</th>\n",
       "      <th>min</th>\n",
       "      <th>25%</th>\n",
       "      <th>50%</th>\n",
       "      <th>75%</th>\n",
       "      <th>max</th>\n",
       "    </tr>\n",
       "  </thead>\n",
       "  <tbody>\n",
       "    <tr>\n",
       "      <th>review_overall</th>\n",
       "      <td>3176.0</td>\n",
       "      <td>72.445844</td>\n",
       "      <td>64.243583</td>\n",
       "      <td>2.0</td>\n",
       "      <td>31.0</td>\n",
       "      <td>49.0</td>\n",
       "      <td>89.0</td>\n",
       "      <td>518.0</td>\n",
       "    </tr>\n",
       "  </tbody>\n",
       "</table>\n",
       "</div>"
      ],
      "text/plain": [
       "                 count       mean        std  min   25%   50%   75%    max\n",
       "review_overall  3176.0  72.445844  64.243583  2.0  31.0  49.0  89.0  518.0"
      ]
     },
     "execution_count": 379,
     "metadata": {},
     "output_type": "execute_result"
    }
   ],
   "source": [
    "pd.DataFrame(mean_user_review_count['review_overall']).describe().T"
   ]
  },
  {
   "cell_type": "code",
   "execution_count": 380,
   "metadata": {},
   "outputs": [
    {
     "data": {
      "image/png": "[encoded data removed]",
      "text/plain": [
       "<Figure size 1000x400 with 3 Axes>"
      ]
     },
     "metadata": {},
     "output_type": "display_data"
    }
   ],
   "source": [
    "# Slightly alter the figure size to make it more horizontal.\n",
    "plt.figure(figsize=(10,4), dpi=100, facecolor='w', edgecolor='k', frameon='True')\n",
    "sns.set_style(\"darkgrid\") # white/whitegrid/dark/ticks\n",
    "sns.set_context(\"paper\") # talk/poster\n",
    "\n",
    "# subplot 1\n",
    "plt.subplot(1, 3, 1)\n",
    "sns.boxplot(y=mean_user_review_count['review_overall'])\n",
    "plt.ylabel('Ratings', color='b')\n",
    "\n",
    "# subplot 3\n",
    "plt.subplot(1, 3, 2)\n",
    "plt.hist(mean_user_review_count['review_overall'],alpha=0.5,color='blue')\n",
    "plt.xlabel('Ratings', color='b')\n",
    "\n",
    "# subplot 3\n",
    "plt.subplot(1, 3, 3)\n",
    "sns.distplot(mean_user_review_count['review_overall'], color='blue', rug=True)\n",
    "plt.xlabel('Ratings', color='b')\n",
    "\n",
    "# Automatically adjust subplot params so that the subplotS fits in to the figure area.\n",
    "plt.tight_layout()\n",
    "\n",
    "# display the plot\n",
    "plt.show()"
   ]
  },
  {
   "cell_type": "markdown",
   "metadata": {},
   "source": [
    "##### The mean and median of user review count are respectively `72.4` & `49.0`. Hence it almost follows a normal distribution but is left skewed."
   ]
  },
  {
   "cell_type": "markdown",
   "metadata": {},
   "source": [
    "## Step 5: Recommendation Models"
   ]
  },
  {
   "cell_type": "markdown",
   "metadata": {},
   "source": [
    "### Dividing the dataset into train and test"
   ]
  },
  {
   "cell_type": "code",
   "execution_count": 381,
   "metadata": {},
   "outputs": [],
   "source": [
    "from sklearn.model_selection import train_test_split\n",
    "train, test = train_test_split(beers_for_recommendation, test_size=0.30, random_state=31)"
   ]
  },
  {
   "cell_type": "code",
   "execution_count": 382,
   "metadata": {
    "scrolled": true
   },
   "outputs": [
    {
     "name": "stdout",
     "output_type": "stream",
     "text": [
      "(161061, 5)\n",
      "(69027, 5)\n"
     ]
    }
   ],
   "source": [
    "print(train.shape)\n",
    "print(test.shape)"
   ]
  },
  {
   "cell_type": "code",
   "execution_count": 383,
   "metadata": {},
   "outputs": [
    {
     "data": {
      "text/html": [
       "<div>\n",
       "<style scoped>\n",
       "    .dataframe tbody tr th:only-of-type {\n",
       "        vertical-align: middle;\n",
       "    }\n",
       "\n",
       "    .dataframe tbody tr th {\n",
       "        vertical-align: top;\n",
       "    }\n",
       "\n",
       "    .dataframe thead th {\n",
       "        text-align: right;\n",
       "    }\n",
       "</style>\n",
       "<table border=\"1\" class=\"dataframe\">\n",
       "  <thead>\n",
       "    <tr style=\"text-align: right;\">\n",
       "      <th></th>\n",
       "      <th>beer_beerid</th>\n",
       "      <th>review_profilename</th>\n",
       "      <th>review_overall</th>\n",
       "      <th>Total Review Count of Beer</th>\n",
       "      <th>Total Reviews by User</th>\n",
       "    </tr>\n",
       "  </thead>\n",
       "  <tbody>\n",
       "    <tr>\n",
       "      <th>57389</th>\n",
       "      <td>92</td>\n",
       "      <td>zhanson88</td>\n",
       "      <td>4.0</td>\n",
       "      <td>812</td>\n",
       "      <td>111</td>\n",
       "    </tr>\n",
       "    <tr>\n",
       "      <th>123535</th>\n",
       "      <td>34315</td>\n",
       "      <td>dyan</td>\n",
       "      <td>4.5</td>\n",
       "      <td>95</td>\n",
       "      <td>459</td>\n",
       "    </tr>\n",
       "    <tr>\n",
       "      <th>158813</th>\n",
       "      <td>31731</td>\n",
       "      <td>FickleBeast</td>\n",
       "      <td>3.0</td>\n",
       "      <td>82</td>\n",
       "      <td>96</td>\n",
       "    </tr>\n",
       "    <tr>\n",
       "      <th>148974</th>\n",
       "      <td>42533</td>\n",
       "      <td>Gmann</td>\n",
       "      <td>4.0</td>\n",
       "      <td>343</td>\n",
       "      <td>406</td>\n",
       "    </tr>\n",
       "    <tr>\n",
       "      <th>226161</th>\n",
       "      <td>47731</td>\n",
       "      <td>jcartamdg</td>\n",
       "      <td>4.0</td>\n",
       "      <td>132</td>\n",
       "      <td>38</td>\n",
       "    </tr>\n",
       "  </tbody>\n",
       "</table>\n",
       "</div>"
      ],
      "text/plain": [
       "        beer_beerid review_profilename  review_overall  \\\n",
       "57389            92          zhanson88             4.0   \n",
       "123535        34315               dyan             4.5   \n",
       "158813        31731        FickleBeast             3.0   \n",
       "148974        42533              Gmann             4.0   \n",
       "226161        47731          jcartamdg             4.0   \n",
       "\n",
       "        Total Review Count of Beer  Total Reviews by User  \n",
       "57389                          812                    111  \n",
       "123535                          95                    459  \n",
       "158813                          82                     96  \n",
       "148974                         343                    406  \n",
       "226161                         132                     38  "
      ]
     },
     "execution_count": 383,
     "metadata": {},
     "output_type": "execute_result"
    }
   ],
   "source": [
    "train.head()"
   ]
  },
  {
   "cell_type": "markdown",
   "metadata": {},
   "source": [
    "### User Based Similarity"
   ]
  },
  {
   "cell_type": "code",
   "execution_count": 384,
   "metadata": {},
   "outputs": [],
   "source": [
    "# pivot ratings into beer features\n",
    "df_beer_features = train.pivot(\n",
    "    index='review_profilename',\n",
    "    columns='beer_beerid',\n",
    "    values='review_overall'\n",
    ").fillna(0)"
   ]
  },
  {
   "cell_type": "code",
   "execution_count": 385,
   "metadata": {},
   "outputs": [
    {
     "data": {
      "text/html": [
       "<div>\n",
       "<style scoped>\n",
       "    .dataframe tbody tr th:only-of-type {\n",
       "        vertical-align: middle;\n",
       "    }\n",
       "\n",
       "    .dataframe tbody tr th {\n",
       "        vertical-align: top;\n",
       "    }\n",
       "\n",
       "    .dataframe thead th {\n",
       "        text-align: right;\n",
       "    }\n",
       "</style>\n",
       "<table border=\"1\" class=\"dataframe\">\n",
       "  <thead>\n",
       "    <tr style=\"text-align: right;\">\n",
       "      <th>beer_beerid</th>\n",
       "      <th>5</th>\n",
       "      <th>6</th>\n",
       "      <th>7</th>\n",
       "      <th>10</th>\n",
       "      <th>14</th>\n",
       "      <th>15</th>\n",
       "      <th>17</th>\n",
       "      <th>19</th>\n",
       "      <th>30</th>\n",
       "      <th>31</th>\n",
       "      <th>...</th>\n",
       "      <th>72138</th>\n",
       "      <th>73131</th>\n",
       "      <th>74123</th>\n",
       "      <th>74272</th>\n",
       "      <th>74323</th>\n",
       "      <th>74390</th>\n",
       "      <th>74548</th>\n",
       "      <th>74579</th>\n",
       "      <th>74986</th>\n",
       "      <th>75086</th>\n",
       "    </tr>\n",
       "    <tr>\n",
       "      <th>review_profilename</th>\n",
       "      <th></th>\n",
       "      <th></th>\n",
       "      <th></th>\n",
       "      <th></th>\n",
       "      <th></th>\n",
       "      <th></th>\n",
       "      <th></th>\n",
       "      <th></th>\n",
       "      <th></th>\n",
       "      <th></th>\n",
       "      <th></th>\n",
       "      <th></th>\n",
       "      <th></th>\n",
       "      <th></th>\n",
       "      <th></th>\n",
       "      <th></th>\n",
       "      <th></th>\n",
       "      <th></th>\n",
       "      <th></th>\n",
       "      <th></th>\n",
       "      <th></th>\n",
       "    </tr>\n",
       "  </thead>\n",
       "  <tbody>\n",
       "    <tr>\n",
       "      <th>0110x011</th>\n",
       "      <td>0.0</td>\n",
       "      <td>0.0</td>\n",
       "      <td>0.0</td>\n",
       "      <td>0.0</td>\n",
       "      <td>0.0</td>\n",
       "      <td>0.0</td>\n",
       "      <td>0.0</td>\n",
       "      <td>0.0</td>\n",
       "      <td>0.0</td>\n",
       "      <td>0.0</td>\n",
       "      <td>...</td>\n",
       "      <td>0.0</td>\n",
       "      <td>0.0</td>\n",
       "      <td>0.0</td>\n",
       "      <td>0.0</td>\n",
       "      <td>0.0</td>\n",
       "      <td>0.0</td>\n",
       "      <td>0.0</td>\n",
       "      <td>0.0</td>\n",
       "      <td>0.0</td>\n",
       "      <td>0.0</td>\n",
       "    </tr>\n",
       "    <tr>\n",
       "      <th>05Harley</th>\n",
       "      <td>0.0</td>\n",
       "      <td>0.0</td>\n",
       "      <td>0.0</td>\n",
       "      <td>0.0</td>\n",
       "      <td>0.0</td>\n",
       "      <td>0.0</td>\n",
       "      <td>0.0</td>\n",
       "      <td>0.0</td>\n",
       "      <td>0.0</td>\n",
       "      <td>0.0</td>\n",
       "      <td>...</td>\n",
       "      <td>0.0</td>\n",
       "      <td>0.0</td>\n",
       "      <td>0.0</td>\n",
       "      <td>0.0</td>\n",
       "      <td>0.0</td>\n",
       "      <td>0.0</td>\n",
       "      <td>0.0</td>\n",
       "      <td>0.0</td>\n",
       "      <td>0.0</td>\n",
       "      <td>0.0</td>\n",
       "    </tr>\n",
       "    <tr>\n",
       "      <th>100floods</th>\n",
       "      <td>0.0</td>\n",
       "      <td>0.0</td>\n",
       "      <td>0.0</td>\n",
       "      <td>0.0</td>\n",
       "      <td>0.0</td>\n",
       "      <td>0.0</td>\n",
       "      <td>0.0</td>\n",
       "      <td>0.0</td>\n",
       "      <td>0.0</td>\n",
       "      <td>0.0</td>\n",
       "      <td>...</td>\n",
       "      <td>0.0</td>\n",
       "      <td>0.0</td>\n",
       "      <td>0.0</td>\n",
       "      <td>0.0</td>\n",
       "      <td>0.0</td>\n",
       "      <td>0.0</td>\n",
       "      <td>0.0</td>\n",
       "      <td>0.0</td>\n",
       "      <td>0.0</td>\n",
       "      <td>0.0</td>\n",
       "    </tr>\n",
       "    <tr>\n",
       "      <th>1759Girl</th>\n",
       "      <td>0.0</td>\n",
       "      <td>0.0</td>\n",
       "      <td>0.0</td>\n",
       "      <td>0.0</td>\n",
       "      <td>0.0</td>\n",
       "      <td>0.0</td>\n",
       "      <td>0.0</td>\n",
       "      <td>0.0</td>\n",
       "      <td>0.0</td>\n",
       "      <td>0.0</td>\n",
       "      <td>...</td>\n",
       "      <td>0.0</td>\n",
       "      <td>0.0</td>\n",
       "      <td>0.0</td>\n",
       "      <td>0.0</td>\n",
       "      <td>0.0</td>\n",
       "      <td>0.0</td>\n",
       "      <td>0.0</td>\n",
       "      <td>0.0</td>\n",
       "      <td>0.0</td>\n",
       "      <td>0.0</td>\n",
       "    </tr>\n",
       "    <tr>\n",
       "      <th>1fastz28</th>\n",
       "      <td>0.0</td>\n",
       "      <td>3.5</td>\n",
       "      <td>0.0</td>\n",
       "      <td>4.0</td>\n",
       "      <td>0.0</td>\n",
       "      <td>0.0</td>\n",
       "      <td>0.0</td>\n",
       "      <td>0.0</td>\n",
       "      <td>0.0</td>\n",
       "      <td>0.0</td>\n",
       "      <td>...</td>\n",
       "      <td>0.0</td>\n",
       "      <td>0.0</td>\n",
       "      <td>3.5</td>\n",
       "      <td>0.0</td>\n",
       "      <td>0.0</td>\n",
       "      <td>0.0</td>\n",
       "      <td>0.0</td>\n",
       "      <td>0.0</td>\n",
       "      <td>0.0</td>\n",
       "      <td>0.0</td>\n",
       "    </tr>\n",
       "  </tbody>\n",
       "</table>\n",
       "<p>5 rows × 2064 columns</p>\n",
       "</div>"
      ],
      "text/plain": [
       "beer_beerid         5      6      7      10     14     15     17     19     \\\n",
       "review_profilename                                                           \n",
       "0110x011              0.0    0.0    0.0    0.0    0.0    0.0    0.0    0.0   \n",
       "05Harley              0.0    0.0    0.0    0.0    0.0    0.0    0.0    0.0   \n",
       "100floods             0.0    0.0    0.0    0.0    0.0    0.0    0.0    0.0   \n",
       "1759Girl              0.0    0.0    0.0    0.0    0.0    0.0    0.0    0.0   \n",
       "1fastz28              0.0    3.5    0.0    4.0    0.0    0.0    0.0    0.0   \n",
       "\n",
       "beer_beerid         30     31     ...    72138  73131  74123  74272  74323  \\\n",
       "review_profilename                ...                                        \n",
       "0110x011              0.0    0.0  ...      0.0    0.0    0.0    0.0    0.0   \n",
       "05Harley              0.0    0.0  ...      0.0    0.0    0.0    0.0    0.0   \n",
       "100floods             0.0    0.0  ...      0.0    0.0    0.0    0.0    0.0   \n",
       "1759Girl              0.0    0.0  ...      0.0    0.0    0.0    0.0    0.0   \n",
       "1fastz28              0.0    0.0  ...      0.0    0.0    3.5    0.0    0.0   \n",
       "\n",
       "beer_beerid         74390  74548  74579  74986  75086  \n",
       "review_profilename                                     \n",
       "0110x011              0.0    0.0    0.0    0.0    0.0  \n",
       "05Harley              0.0    0.0    0.0    0.0    0.0  \n",
       "100floods             0.0    0.0    0.0    0.0    0.0  \n",
       "1759Girl              0.0    0.0    0.0    0.0    0.0  \n",
       "1fastz28              0.0    0.0    0.0    0.0    0.0  \n",
       "\n",
       "[5 rows x 2064 columns]"
      ]
     },
     "execution_count": 385,
     "metadata": {},
     "output_type": "execute_result"
    }
   ],
   "source": [
    "df_beer_features.head()"
   ]
  },
  {
   "cell_type": "code",
   "execution_count": 386,
   "metadata": {},
   "outputs": [
    {
     "data": {
      "text/plain": [
       "(3176, 2064)"
      ]
     },
     "execution_count": 386,
     "metadata": {},
     "output_type": "execute_result"
    }
   ],
   "source": [
    "df_beer_features.shape"
   ]
  },
  {
   "cell_type": "markdown",
   "metadata": {},
   "source": [
    "##### The training data set has 3176 reviewers and 2064 beers."
   ]
  },
  {
   "cell_type": "markdown",
   "metadata": {},
   "source": [
    "### Copy train and test dataset\n",
    "These dataset will be used for prediction and evaluation. \n",
    "- Dummy train will be used later for prediction of the beers which has not been rated by the user. To ignore the beers rated by the user, we will mark it as 0 during prediction. The beers not rated by user is marked as 1 for prediction. \n",
    "- Dummy test will be used for evaluation. To evaluate, we will only make prediction on the beers rated by the user. So, this is marked as 1. This is just opposite of dummy_train."
   ]
  },
  {
   "cell_type": "code",
   "execution_count": 387,
   "metadata": {},
   "outputs": [],
   "source": [
    "dummy_train = train.copy()\n",
    "dummy_test = test.copy()"
   ]
  },
  {
   "cell_type": "code",
   "execution_count": 388,
   "metadata": {},
   "outputs": [],
   "source": [
    "dummy_train['review_overall'] = dummy_train['review_overall'].apply(lambda x: 0 if x>=1 else 1)\n",
    "dummy_test['review_overall'] = dummy_test['review_overall'].apply(lambda x: 1 if x>=1 else 0)"
   ]
  },
  {
   "cell_type": "code",
   "execution_count": 390,
   "metadata": {},
   "outputs": [
    {
     "name": "stdout",
     "output_type": "stream",
     "text": [
      "(161061, 5)\n",
      "(69027, 5)\n"
     ]
    }
   ],
   "source": [
    "print(dummy_train.shape)\n",
    "print(dummy_test.shape)"
   ]
  },
  {
   "cell_type": "code",
   "execution_count": 391,
   "metadata": {},
   "outputs": [],
   "source": [
    "# The movies not rated by user is marked as 1 for prediction. \n",
    "dummy_train = dummy_train.pivot(\n",
    "    index='review_profilename',\n",
    "    columns='beer_beerid',\n",
    "    values='review_overall'\n",
    ").fillna(1)\n",
    "\n",
    "# The movies not rated by user is marked as 0 for evaluation. \n",
    "dummy_test = dummy_test.pivot(\n",
    "    index='review_profilename',\n",
    "    columns='beer_beerid',\n",
    "    values='review_overall'\n",
    ").fillna(0)"
   ]
  },
  {
   "cell_type": "code",
   "execution_count": 392,
   "metadata": {},
   "outputs": [
    {
     "data": {
      "text/html": [
       "<div>\n",
       "<style scoped>\n",
       "    .dataframe tbody tr th:only-of-type {\n",
       "        vertical-align: middle;\n",
       "    }\n",
       "\n",
       "    .dataframe tbody tr th {\n",
       "        vertical-align: top;\n",
       "    }\n",
       "\n",
       "    .dataframe thead th {\n",
       "        text-align: right;\n",
       "    }\n",
       "</style>\n",
       "<table border=\"1\" class=\"dataframe\">\n",
       "  <thead>\n",
       "    <tr style=\"text-align: right;\">\n",
       "      <th>beer_beerid</th>\n",
       "      <th>5</th>\n",
       "      <th>6</th>\n",
       "      <th>7</th>\n",
       "      <th>10</th>\n",
       "      <th>14</th>\n",
       "      <th>15</th>\n",
       "      <th>17</th>\n",
       "      <th>19</th>\n",
       "      <th>30</th>\n",
       "      <th>31</th>\n",
       "      <th>...</th>\n",
       "      <th>72138</th>\n",
       "      <th>73131</th>\n",
       "      <th>74123</th>\n",
       "      <th>74272</th>\n",
       "      <th>74323</th>\n",
       "      <th>74390</th>\n",
       "      <th>74548</th>\n",
       "      <th>74579</th>\n",
       "      <th>74986</th>\n",
       "      <th>75086</th>\n",
       "    </tr>\n",
       "    <tr>\n",
       "      <th>review_profilename</th>\n",
       "      <th></th>\n",
       "      <th></th>\n",
       "      <th></th>\n",
       "      <th></th>\n",
       "      <th></th>\n",
       "      <th></th>\n",
       "      <th></th>\n",
       "      <th></th>\n",
       "      <th></th>\n",
       "      <th></th>\n",
       "      <th></th>\n",
       "      <th></th>\n",
       "      <th></th>\n",
       "      <th></th>\n",
       "      <th></th>\n",
       "      <th></th>\n",
       "      <th></th>\n",
       "      <th></th>\n",
       "      <th></th>\n",
       "      <th></th>\n",
       "      <th></th>\n",
       "    </tr>\n",
       "  </thead>\n",
       "  <tbody>\n",
       "    <tr>\n",
       "      <th>0110x011</th>\n",
       "      <td>1.0</td>\n",
       "      <td>1.0</td>\n",
       "      <td>1.0</td>\n",
       "      <td>1.0</td>\n",
       "      <td>1.0</td>\n",
       "      <td>1.0</td>\n",
       "      <td>1.0</td>\n",
       "      <td>1.0</td>\n",
       "      <td>1.0</td>\n",
       "      <td>1.0</td>\n",
       "      <td>...</td>\n",
       "      <td>1.0</td>\n",
       "      <td>1.0</td>\n",
       "      <td>1.0</td>\n",
       "      <td>1.0</td>\n",
       "      <td>1.0</td>\n",
       "      <td>1.0</td>\n",
       "      <td>1.0</td>\n",
       "      <td>1.0</td>\n",
       "      <td>1.0</td>\n",
       "      <td>1.0</td>\n",
       "    </tr>\n",
       "    <tr>\n",
       "      <th>05Harley</th>\n",
       "      <td>1.0</td>\n",
       "      <td>1.0</td>\n",
       "      <td>1.0</td>\n",
       "      <td>1.0</td>\n",
       "      <td>1.0</td>\n",
       "      <td>1.0</td>\n",
       "      <td>1.0</td>\n",
       "      <td>1.0</td>\n",
       "      <td>1.0</td>\n",
       "      <td>1.0</td>\n",
       "      <td>...</td>\n",
       "      <td>1.0</td>\n",
       "      <td>1.0</td>\n",
       "      <td>1.0</td>\n",
       "      <td>1.0</td>\n",
       "      <td>1.0</td>\n",
       "      <td>1.0</td>\n",
       "      <td>1.0</td>\n",
       "      <td>1.0</td>\n",
       "      <td>1.0</td>\n",
       "      <td>1.0</td>\n",
       "    </tr>\n",
       "    <tr>\n",
       "      <th>100floods</th>\n",
       "      <td>1.0</td>\n",
       "      <td>1.0</td>\n",
       "      <td>1.0</td>\n",
       "      <td>1.0</td>\n",
       "      <td>1.0</td>\n",
       "      <td>1.0</td>\n",
       "      <td>1.0</td>\n",
       "      <td>1.0</td>\n",
       "      <td>1.0</td>\n",
       "      <td>1.0</td>\n",
       "      <td>...</td>\n",
       "      <td>1.0</td>\n",
       "      <td>1.0</td>\n",
       "      <td>1.0</td>\n",
       "      <td>1.0</td>\n",
       "      <td>1.0</td>\n",
       "      <td>1.0</td>\n",
       "      <td>1.0</td>\n",
       "      <td>1.0</td>\n",
       "      <td>1.0</td>\n",
       "      <td>1.0</td>\n",
       "    </tr>\n",
       "    <tr>\n",
       "      <th>1759Girl</th>\n",
       "      <td>1.0</td>\n",
       "      <td>1.0</td>\n",
       "      <td>1.0</td>\n",
       "      <td>1.0</td>\n",
       "      <td>1.0</td>\n",
       "      <td>1.0</td>\n",
       "      <td>1.0</td>\n",
       "      <td>1.0</td>\n",
       "      <td>1.0</td>\n",
       "      <td>1.0</td>\n",
       "      <td>...</td>\n",
       "      <td>1.0</td>\n",
       "      <td>1.0</td>\n",
       "      <td>1.0</td>\n",
       "      <td>1.0</td>\n",
       "      <td>1.0</td>\n",
       "      <td>1.0</td>\n",
       "      <td>1.0</td>\n",
       "      <td>1.0</td>\n",
       "      <td>1.0</td>\n",
       "      <td>1.0</td>\n",
       "    </tr>\n",
       "    <tr>\n",
       "      <th>1fastz28</th>\n",
       "      <td>1.0</td>\n",
       "      <td>0.0</td>\n",
       "      <td>1.0</td>\n",
       "      <td>0.0</td>\n",
       "      <td>1.0</td>\n",
       "      <td>1.0</td>\n",
       "      <td>1.0</td>\n",
       "      <td>1.0</td>\n",
       "      <td>1.0</td>\n",
       "      <td>1.0</td>\n",
       "      <td>...</td>\n",
       "      <td>1.0</td>\n",
       "      <td>1.0</td>\n",
       "      <td>0.0</td>\n",
       "      <td>1.0</td>\n",
       "      <td>1.0</td>\n",
       "      <td>1.0</td>\n",
       "      <td>1.0</td>\n",
       "      <td>1.0</td>\n",
       "      <td>1.0</td>\n",
       "      <td>1.0</td>\n",
       "    </tr>\n",
       "  </tbody>\n",
       "</table>\n",
       "<p>5 rows × 2064 columns</p>\n",
       "</div>"
      ],
      "text/plain": [
       "beer_beerid         5      6      7      10     14     15     17     19     \\\n",
       "review_profilename                                                           \n",
       "0110x011              1.0    1.0    1.0    1.0    1.0    1.0    1.0    1.0   \n",
       "05Harley              1.0    1.0    1.0    1.0    1.0    1.0    1.0    1.0   \n",
       "100floods             1.0    1.0    1.0    1.0    1.0    1.0    1.0    1.0   \n",
       "1759Girl              1.0    1.0    1.0    1.0    1.0    1.0    1.0    1.0   \n",
       "1fastz28              1.0    0.0    1.0    0.0    1.0    1.0    1.0    1.0   \n",
       "\n",
       "beer_beerid         30     31     ...    72138  73131  74123  74272  74323  \\\n",
       "review_profilename                ...                                        \n",
       "0110x011              1.0    1.0  ...      1.0    1.0    1.0    1.0    1.0   \n",
       "05Harley              1.0    1.0  ...      1.0    1.0    1.0    1.0    1.0   \n",
       "100floods             1.0    1.0  ...      1.0    1.0    1.0    1.0    1.0   \n",
       "1759Girl              1.0    1.0  ...      1.0    1.0    1.0    1.0    1.0   \n",
       "1fastz28              1.0    1.0  ...      1.0    1.0    0.0    1.0    1.0   \n",
       "\n",
       "beer_beerid         74390  74548  74579  74986  75086  \n",
       "review_profilename                                     \n",
       "0110x011              1.0    1.0    1.0    1.0    1.0  \n",
       "05Harley              1.0    1.0    1.0    1.0    1.0  \n",
       "100floods             1.0    1.0    1.0    1.0    1.0  \n",
       "1759Girl              1.0    1.0    1.0    1.0    1.0  \n",
       "1fastz28              1.0    1.0    1.0    1.0    1.0  \n",
       "\n",
       "[5 rows x 2064 columns]"
      ]
     },
     "execution_count": 392,
     "metadata": {},
     "output_type": "execute_result"
    }
   ],
   "source": [
    "dummy_train.head()"
   ]
  },
  {
   "cell_type": "code",
   "execution_count": 393,
   "metadata": {},
   "outputs": [
    {
     "data": {
      "text/html": [
       "<div>\n",
       "<style scoped>\n",
       "    .dataframe tbody tr th:only-of-type {\n",
       "        vertical-align: middle;\n",
       "    }\n",
       "\n",
       "    .dataframe tbody tr th {\n",
       "        vertical-align: top;\n",
       "    }\n",
       "\n",
       "    .dataframe thead th {\n",
       "        text-align: right;\n",
       "    }\n",
       "</style>\n",
       "<table border=\"1\" class=\"dataframe\">\n",
       "  <thead>\n",
       "    <tr style=\"text-align: right;\">\n",
       "      <th>beer_beerid</th>\n",
       "      <th>5</th>\n",
       "      <th>6</th>\n",
       "      <th>7</th>\n",
       "      <th>10</th>\n",
       "      <th>14</th>\n",
       "      <th>15</th>\n",
       "      <th>17</th>\n",
       "      <th>19</th>\n",
       "      <th>30</th>\n",
       "      <th>31</th>\n",
       "      <th>...</th>\n",
       "      <th>72138</th>\n",
       "      <th>73131</th>\n",
       "      <th>74123</th>\n",
       "      <th>74272</th>\n",
       "      <th>74323</th>\n",
       "      <th>74390</th>\n",
       "      <th>74548</th>\n",
       "      <th>74579</th>\n",
       "      <th>74986</th>\n",
       "      <th>75086</th>\n",
       "    </tr>\n",
       "    <tr>\n",
       "      <th>review_profilename</th>\n",
       "      <th></th>\n",
       "      <th></th>\n",
       "      <th></th>\n",
       "      <th></th>\n",
       "      <th></th>\n",
       "      <th></th>\n",
       "      <th></th>\n",
       "      <th></th>\n",
       "      <th></th>\n",
       "      <th></th>\n",
       "      <th></th>\n",
       "      <th></th>\n",
       "      <th></th>\n",
       "      <th></th>\n",
       "      <th></th>\n",
       "      <th></th>\n",
       "      <th></th>\n",
       "      <th></th>\n",
       "      <th></th>\n",
       "      <th></th>\n",
       "      <th></th>\n",
       "    </tr>\n",
       "  </thead>\n",
       "  <tbody>\n",
       "    <tr>\n",
       "      <th>0110x011</th>\n",
       "      <td>0.0</td>\n",
       "      <td>0.0</td>\n",
       "      <td>0.0</td>\n",
       "      <td>0.0</td>\n",
       "      <td>0.0</td>\n",
       "      <td>0.0</td>\n",
       "      <td>0.0</td>\n",
       "      <td>0.0</td>\n",
       "      <td>0.0</td>\n",
       "      <td>0.0</td>\n",
       "      <td>...</td>\n",
       "      <td>0.0</td>\n",
       "      <td>0.0</td>\n",
       "      <td>0.0</td>\n",
       "      <td>0.0</td>\n",
       "      <td>0.0</td>\n",
       "      <td>0.0</td>\n",
       "      <td>0.0</td>\n",
       "      <td>0.0</td>\n",
       "      <td>0.0</td>\n",
       "      <td>0.0</td>\n",
       "    </tr>\n",
       "    <tr>\n",
       "      <th>05Harley</th>\n",
       "      <td>0.0</td>\n",
       "      <td>0.0</td>\n",
       "      <td>0.0</td>\n",
       "      <td>0.0</td>\n",
       "      <td>0.0</td>\n",
       "      <td>0.0</td>\n",
       "      <td>0.0</td>\n",
       "      <td>0.0</td>\n",
       "      <td>0.0</td>\n",
       "      <td>0.0</td>\n",
       "      <td>...</td>\n",
       "      <td>0.0</td>\n",
       "      <td>0.0</td>\n",
       "      <td>0.0</td>\n",
       "      <td>0.0</td>\n",
       "      <td>0.0</td>\n",
       "      <td>0.0</td>\n",
       "      <td>0.0</td>\n",
       "      <td>0.0</td>\n",
       "      <td>0.0</td>\n",
       "      <td>0.0</td>\n",
       "    </tr>\n",
       "    <tr>\n",
       "      <th>100floods</th>\n",
       "      <td>0.0</td>\n",
       "      <td>0.0</td>\n",
       "      <td>0.0</td>\n",
       "      <td>0.0</td>\n",
       "      <td>0.0</td>\n",
       "      <td>0.0</td>\n",
       "      <td>0.0</td>\n",
       "      <td>0.0</td>\n",
       "      <td>0.0</td>\n",
       "      <td>0.0</td>\n",
       "      <td>...</td>\n",
       "      <td>0.0</td>\n",
       "      <td>0.0</td>\n",
       "      <td>0.0</td>\n",
       "      <td>0.0</td>\n",
       "      <td>0.0</td>\n",
       "      <td>0.0</td>\n",
       "      <td>0.0</td>\n",
       "      <td>0.0</td>\n",
       "      <td>0.0</td>\n",
       "      <td>0.0</td>\n",
       "    </tr>\n",
       "    <tr>\n",
       "      <th>1759Girl</th>\n",
       "      <td>0.0</td>\n",
       "      <td>0.0</td>\n",
       "      <td>0.0</td>\n",
       "      <td>0.0</td>\n",
       "      <td>0.0</td>\n",
       "      <td>0.0</td>\n",
       "      <td>0.0</td>\n",
       "      <td>0.0</td>\n",
       "      <td>0.0</td>\n",
       "      <td>0.0</td>\n",
       "      <td>...</td>\n",
       "      <td>0.0</td>\n",
       "      <td>0.0</td>\n",
       "      <td>0.0</td>\n",
       "      <td>0.0</td>\n",
       "      <td>0.0</td>\n",
       "      <td>0.0</td>\n",
       "      <td>0.0</td>\n",
       "      <td>0.0</td>\n",
       "      <td>0.0</td>\n",
       "      <td>0.0</td>\n",
       "    </tr>\n",
       "    <tr>\n",
       "      <th>1fastz28</th>\n",
       "      <td>0.0</td>\n",
       "      <td>0.0</td>\n",
       "      <td>0.0</td>\n",
       "      <td>0.0</td>\n",
       "      <td>0.0</td>\n",
       "      <td>0.0</td>\n",
       "      <td>0.0</td>\n",
       "      <td>0.0</td>\n",
       "      <td>0.0</td>\n",
       "      <td>0.0</td>\n",
       "      <td>...</td>\n",
       "      <td>0.0</td>\n",
       "      <td>0.0</td>\n",
       "      <td>0.0</td>\n",
       "      <td>0.0</td>\n",
       "      <td>0.0</td>\n",
       "      <td>0.0</td>\n",
       "      <td>0.0</td>\n",
       "      <td>0.0</td>\n",
       "      <td>0.0</td>\n",
       "      <td>0.0</td>\n",
       "    </tr>\n",
       "  </tbody>\n",
       "</table>\n",
       "<p>5 rows × 2064 columns</p>\n",
       "</div>"
      ],
      "text/plain": [
       "beer_beerid         5      6      7      10     14     15     17     19     \\\n",
       "review_profilename                                                           \n",
       "0110x011              0.0    0.0    0.0    0.0    0.0    0.0    0.0    0.0   \n",
       "05Harley              0.0    0.0    0.0    0.0    0.0    0.0    0.0    0.0   \n",
       "100floods             0.0    0.0    0.0    0.0    0.0    0.0    0.0    0.0   \n",
       "1759Girl              0.0    0.0    0.0    0.0    0.0    0.0    0.0    0.0   \n",
       "1fastz28              0.0    0.0    0.0    0.0    0.0    0.0    0.0    0.0   \n",
       "\n",
       "beer_beerid         30     31     ...    72138  73131  74123  74272  74323  \\\n",
       "review_profilename                ...                                        \n",
       "0110x011              0.0    0.0  ...      0.0    0.0    0.0    0.0    0.0   \n",
       "05Harley              0.0    0.0  ...      0.0    0.0    0.0    0.0    0.0   \n",
       "100floods             0.0    0.0  ...      0.0    0.0    0.0    0.0    0.0   \n",
       "1759Girl              0.0    0.0  ...      0.0    0.0    0.0    0.0    0.0   \n",
       "1fastz28              0.0    0.0  ...      0.0    0.0    0.0    0.0    0.0   \n",
       "\n",
       "beer_beerid         74390  74548  74579  74986  75086  \n",
       "review_profilename                                     \n",
       "0110x011              0.0    0.0    0.0    0.0    0.0  \n",
       "05Harley              0.0    0.0    0.0    0.0    0.0  \n",
       "100floods             0.0    0.0    0.0    0.0    0.0  \n",
       "1759Girl              0.0    0.0    0.0    0.0    0.0  \n",
       "1fastz28              0.0    0.0    0.0    0.0    0.0  \n",
       "\n",
       "[5 rows x 2064 columns]"
      ]
     },
     "execution_count": 393,
     "metadata": {},
     "output_type": "execute_result"
    }
   ],
   "source": [
    "dummy_test.head()"
   ]
  },
  {
   "cell_type": "markdown",
   "metadata": {},
   "source": [
    "### User Similarity Matrix (Using Cosine Similarity)"
   ]
  },
  {
   "cell_type": "code",
   "execution_count": 394,
   "metadata": {},
   "outputs": [
    {
     "name": "stdout",
     "output_type": "stream",
     "text": [
      "[[1.         0.         0.0602183  ... 0.         0.         0.        ]\n",
      " [0.         1.         0.10346685 ... 0.03699533 0.0236273  0.        ]\n",
      " [0.0602183  0.10346685 1.         ... 0.0406859  0.04209458 0.        ]\n",
      " ...\n",
      " [0.         0.03699533 0.0406859  ... 1.         0.         0.        ]\n",
      " [0.         0.0236273  0.04209458 ... 0.         1.         0.        ]\n",
      " [0.         0.         0.         ... 0.         0.         1.        ]]\n"
     ]
    }
   ],
   "source": [
    "from sklearn.metrics.pairwise import pairwise_distances\n",
    "\n",
    "# User Similarity Matrix\n",
    "reviewer_correlation = 1 - pairwise_distances(df_beer_features, metric='cosine')\n",
    "reviewer_correlation[np.isnan(reviewer_correlation)] = 0\n",
    "print(reviewer_correlation)"
   ]
  },
  {
   "cell_type": "code",
   "execution_count": 395,
   "metadata": {},
   "outputs": [
    {
     "data": {
      "text/plain": [
       "(3176, 3176)"
      ]
     },
     "execution_count": 395,
     "metadata": {},
     "output_type": "execute_result"
    }
   ],
   "source": [
    "reviewer_correlation.shape"
   ]
  },
  {
   "cell_type": "markdown",
   "metadata": {},
   "source": [
    "##### The training data set has 3176 reviewers and 2064 beers. The correlation matrix for user-based similarity will be of the shape 3176 x 3176. This matrix indicates to what extent the users are related to other users."
   ]
  },
  {
   "cell_type": "markdown",
   "metadata": {},
   "source": [
    "### Using adjusted Cosine \n",
    "\n",
    "#### Adjusted cosine similarity is used for user-user similarity, as different users can have different behaviour. A user will rate in the range of 1-3 star for the worst to best beer, whereas a different user will rate in the range of 1-5 star for the same set of beers. To bring both the users on par, the ratings are normalised using adjusted cosine similarity."
   ]
  },
  {
   "cell_type": "markdown",
   "metadata": {},
   "source": [
    "### Here, not removing the NaN values and calculating the mean only for the beers rated by the user"
   ]
  },
  {
   "cell_type": "code",
   "execution_count": 396,
   "metadata": {},
   "outputs": [],
   "source": [
    "beer_features_user = train.pivot(\n",
    "    index='review_profilename',\n",
    "    columns='beer_beerid',\n",
    "    values='review_overall'\n",
    ")"
   ]
  },
  {
   "cell_type": "code",
   "execution_count": 397,
   "metadata": {},
   "outputs": [
    {
     "data": {
      "text/html": [
       "<div>\n",
       "<style scoped>\n",
       "    .dataframe tbody tr th:only-of-type {\n",
       "        vertical-align: middle;\n",
       "    }\n",
       "\n",
       "    .dataframe tbody tr th {\n",
       "        vertical-align: top;\n",
       "    }\n",
       "\n",
       "    .dataframe thead th {\n",
       "        text-align: right;\n",
       "    }\n",
       "</style>\n",
       "<table border=\"1\" class=\"dataframe\">\n",
       "  <thead>\n",
       "    <tr style=\"text-align: right;\">\n",
       "      <th>beer_beerid</th>\n",
       "      <th>5</th>\n",
       "      <th>6</th>\n",
       "      <th>7</th>\n",
       "      <th>10</th>\n",
       "      <th>14</th>\n",
       "      <th>15</th>\n",
       "      <th>17</th>\n",
       "      <th>19</th>\n",
       "      <th>30</th>\n",
       "      <th>31</th>\n",
       "      <th>...</th>\n",
       "      <th>72138</th>\n",
       "      <th>73131</th>\n",
       "      <th>74123</th>\n",
       "      <th>74272</th>\n",
       "      <th>74323</th>\n",
       "      <th>74390</th>\n",
       "      <th>74548</th>\n",
       "      <th>74579</th>\n",
       "      <th>74986</th>\n",
       "      <th>75086</th>\n",
       "    </tr>\n",
       "    <tr>\n",
       "      <th>review_profilename</th>\n",
       "      <th></th>\n",
       "      <th></th>\n",
       "      <th></th>\n",
       "      <th></th>\n",
       "      <th></th>\n",
       "      <th></th>\n",
       "      <th></th>\n",
       "      <th></th>\n",
       "      <th></th>\n",
       "      <th></th>\n",
       "      <th></th>\n",
       "      <th></th>\n",
       "      <th></th>\n",
       "      <th></th>\n",
       "      <th></th>\n",
       "      <th></th>\n",
       "      <th></th>\n",
       "      <th></th>\n",
       "      <th></th>\n",
       "      <th></th>\n",
       "      <th></th>\n",
       "    </tr>\n",
       "  </thead>\n",
       "  <tbody>\n",
       "    <tr>\n",
       "      <th>0110x011</th>\n",
       "      <td>NaN</td>\n",
       "      <td>NaN</td>\n",
       "      <td>NaN</td>\n",
       "      <td>NaN</td>\n",
       "      <td>NaN</td>\n",
       "      <td>NaN</td>\n",
       "      <td>NaN</td>\n",
       "      <td>NaN</td>\n",
       "      <td>NaN</td>\n",
       "      <td>NaN</td>\n",
       "      <td>...</td>\n",
       "      <td>NaN</td>\n",
       "      <td>NaN</td>\n",
       "      <td>NaN</td>\n",
       "      <td>NaN</td>\n",
       "      <td>NaN</td>\n",
       "      <td>NaN</td>\n",
       "      <td>NaN</td>\n",
       "      <td>NaN</td>\n",
       "      <td>NaN</td>\n",
       "      <td>NaN</td>\n",
       "    </tr>\n",
       "    <tr>\n",
       "      <th>05Harley</th>\n",
       "      <td>NaN</td>\n",
       "      <td>NaN</td>\n",
       "      <td>NaN</td>\n",
       "      <td>NaN</td>\n",
       "      <td>NaN</td>\n",
       "      <td>NaN</td>\n",
       "      <td>NaN</td>\n",
       "      <td>NaN</td>\n",
       "      <td>NaN</td>\n",
       "      <td>NaN</td>\n",
       "      <td>...</td>\n",
       "      <td>NaN</td>\n",
       "      <td>NaN</td>\n",
       "      <td>NaN</td>\n",
       "      <td>NaN</td>\n",
       "      <td>NaN</td>\n",
       "      <td>NaN</td>\n",
       "      <td>NaN</td>\n",
       "      <td>NaN</td>\n",
       "      <td>NaN</td>\n",
       "      <td>NaN</td>\n",
       "    </tr>\n",
       "    <tr>\n",
       "      <th>100floods</th>\n",
       "      <td>NaN</td>\n",
       "      <td>NaN</td>\n",
       "      <td>NaN</td>\n",
       "      <td>NaN</td>\n",
       "      <td>NaN</td>\n",
       "      <td>NaN</td>\n",
       "      <td>NaN</td>\n",
       "      <td>NaN</td>\n",
       "      <td>NaN</td>\n",
       "      <td>NaN</td>\n",
       "      <td>...</td>\n",
       "      <td>NaN</td>\n",
       "      <td>NaN</td>\n",
       "      <td>NaN</td>\n",
       "      <td>NaN</td>\n",
       "      <td>NaN</td>\n",
       "      <td>NaN</td>\n",
       "      <td>NaN</td>\n",
       "      <td>NaN</td>\n",
       "      <td>NaN</td>\n",
       "      <td>NaN</td>\n",
       "    </tr>\n",
       "    <tr>\n",
       "      <th>1759Girl</th>\n",
       "      <td>NaN</td>\n",
       "      <td>NaN</td>\n",
       "      <td>NaN</td>\n",
       "      <td>NaN</td>\n",
       "      <td>NaN</td>\n",
       "      <td>NaN</td>\n",
       "      <td>NaN</td>\n",
       "      <td>NaN</td>\n",
       "      <td>NaN</td>\n",
       "      <td>NaN</td>\n",
       "      <td>...</td>\n",
       "      <td>NaN</td>\n",
       "      <td>NaN</td>\n",
       "      <td>NaN</td>\n",
       "      <td>NaN</td>\n",
       "      <td>NaN</td>\n",
       "      <td>NaN</td>\n",
       "      <td>NaN</td>\n",
       "      <td>NaN</td>\n",
       "      <td>NaN</td>\n",
       "      <td>NaN</td>\n",
       "    </tr>\n",
       "    <tr>\n",
       "      <th>1fastz28</th>\n",
       "      <td>NaN</td>\n",
       "      <td>3.5</td>\n",
       "      <td>NaN</td>\n",
       "      <td>4.0</td>\n",
       "      <td>NaN</td>\n",
       "      <td>NaN</td>\n",
       "      <td>NaN</td>\n",
       "      <td>NaN</td>\n",
       "      <td>NaN</td>\n",
       "      <td>NaN</td>\n",
       "      <td>...</td>\n",
       "      <td>NaN</td>\n",
       "      <td>NaN</td>\n",
       "      <td>3.5</td>\n",
       "      <td>NaN</td>\n",
       "      <td>NaN</td>\n",
       "      <td>NaN</td>\n",
       "      <td>NaN</td>\n",
       "      <td>NaN</td>\n",
       "      <td>NaN</td>\n",
       "      <td>NaN</td>\n",
       "    </tr>\n",
       "  </tbody>\n",
       "</table>\n",
       "<p>5 rows × 2064 columns</p>\n",
       "</div>"
      ],
      "text/plain": [
       "beer_beerid         5      6      7      10     14     15     17     19     \\\n",
       "review_profilename                                                           \n",
       "0110x011              NaN    NaN    NaN    NaN    NaN    NaN    NaN    NaN   \n",
       "05Harley              NaN    NaN    NaN    NaN    NaN    NaN    NaN    NaN   \n",
       "100floods             NaN    NaN    NaN    NaN    NaN    NaN    NaN    NaN   \n",
       "1759Girl              NaN    NaN    NaN    NaN    NaN    NaN    NaN    NaN   \n",
       "1fastz28              NaN    3.5    NaN    4.0    NaN    NaN    NaN    NaN   \n",
       "\n",
       "beer_beerid         30     31     ...    72138  73131  74123  74272  74323  \\\n",
       "review_profilename                ...                                        \n",
       "0110x011              NaN    NaN  ...      NaN    NaN    NaN    NaN    NaN   \n",
       "05Harley              NaN    NaN  ...      NaN    NaN    NaN    NaN    NaN   \n",
       "100floods             NaN    NaN  ...      NaN    NaN    NaN    NaN    NaN   \n",
       "1759Girl              NaN    NaN  ...      NaN    NaN    NaN    NaN    NaN   \n",
       "1fastz28              NaN    NaN  ...      NaN    NaN    3.5    NaN    NaN   \n",
       "\n",
       "beer_beerid         74390  74548  74579  74986  75086  \n",
       "review_profilename                                     \n",
       "0110x011              NaN    NaN    NaN    NaN    NaN  \n",
       "05Harley              NaN    NaN    NaN    NaN    NaN  \n",
       "100floods             NaN    NaN    NaN    NaN    NaN  \n",
       "1759Girl              NaN    NaN    NaN    NaN    NaN  \n",
       "1fastz28              NaN    NaN    NaN    NaN    NaN  \n",
       "\n",
       "[5 rows x 2064 columns]"
      ]
     },
     "execution_count": 397,
     "metadata": {},
     "output_type": "execute_result"
    }
   ],
   "source": [
    "beer_features_user.head()"
   ]
  },
  {
   "cell_type": "markdown",
   "metadata": {},
   "source": [
    "### Normalising the rating of the movie for each user around 0 mean"
   ]
  },
  {
   "cell_type": "code",
   "execution_count": 398,
   "metadata": {},
   "outputs": [],
   "source": [
    "mean = np.nanmean(beer_features_user, axis=1)\n",
    "df_subtracted_user = (beer_features_user.T-mean).T"
   ]
  },
  {
   "cell_type": "code",
   "execution_count": 399,
   "metadata": {
    "scrolled": false
   },
   "outputs": [
    {
     "data": {
      "text/html": [
       "<div>\n",
       "<style scoped>\n",
       "    .dataframe tbody tr th:only-of-type {\n",
       "        vertical-align: middle;\n",
       "    }\n",
       "\n",
       "    .dataframe tbody tr th {\n",
       "        vertical-align: top;\n",
       "    }\n",
       "\n",
       "    .dataframe thead th {\n",
       "        text-align: right;\n",
       "    }\n",
       "</style>\n",
       "<table border=\"1\" class=\"dataframe\">\n",
       "  <thead>\n",
       "    <tr style=\"text-align: right;\">\n",
       "      <th>beer_beerid</th>\n",
       "      <th>5</th>\n",
       "      <th>6</th>\n",
       "      <th>7</th>\n",
       "      <th>10</th>\n",
       "      <th>14</th>\n",
       "      <th>15</th>\n",
       "      <th>17</th>\n",
       "      <th>19</th>\n",
       "      <th>30</th>\n",
       "      <th>31</th>\n",
       "      <th>...</th>\n",
       "      <th>72138</th>\n",
       "      <th>73131</th>\n",
       "      <th>74123</th>\n",
       "      <th>74272</th>\n",
       "      <th>74323</th>\n",
       "      <th>74390</th>\n",
       "      <th>74548</th>\n",
       "      <th>74579</th>\n",
       "      <th>74986</th>\n",
       "      <th>75086</th>\n",
       "    </tr>\n",
       "    <tr>\n",
       "      <th>review_profilename</th>\n",
       "      <th></th>\n",
       "      <th></th>\n",
       "      <th></th>\n",
       "      <th></th>\n",
       "      <th></th>\n",
       "      <th></th>\n",
       "      <th></th>\n",
       "      <th></th>\n",
       "      <th></th>\n",
       "      <th></th>\n",
       "      <th></th>\n",
       "      <th></th>\n",
       "      <th></th>\n",
       "      <th></th>\n",
       "      <th></th>\n",
       "      <th></th>\n",
       "      <th></th>\n",
       "      <th></th>\n",
       "      <th></th>\n",
       "      <th></th>\n",
       "      <th></th>\n",
       "    </tr>\n",
       "  </thead>\n",
       "  <tbody>\n",
       "    <tr>\n",
       "      <th>0110x011</th>\n",
       "      <td>NaN</td>\n",
       "      <td>NaN</td>\n",
       "      <td>NaN</td>\n",
       "      <td>NaN</td>\n",
       "      <td>NaN</td>\n",
       "      <td>NaN</td>\n",
       "      <td>NaN</td>\n",
       "      <td>NaN</td>\n",
       "      <td>NaN</td>\n",
       "      <td>NaN</td>\n",
       "      <td>...</td>\n",
       "      <td>NaN</td>\n",
       "      <td>NaN</td>\n",
       "      <td>NaN</td>\n",
       "      <td>NaN</td>\n",
       "      <td>NaN</td>\n",
       "      <td>NaN</td>\n",
       "      <td>NaN</td>\n",
       "      <td>NaN</td>\n",
       "      <td>NaN</td>\n",
       "      <td>NaN</td>\n",
       "    </tr>\n",
       "    <tr>\n",
       "      <th>05Harley</th>\n",
       "      <td>NaN</td>\n",
       "      <td>NaN</td>\n",
       "      <td>NaN</td>\n",
       "      <td>NaN</td>\n",
       "      <td>NaN</td>\n",
       "      <td>NaN</td>\n",
       "      <td>NaN</td>\n",
       "      <td>NaN</td>\n",
       "      <td>NaN</td>\n",
       "      <td>NaN</td>\n",
       "      <td>...</td>\n",
       "      <td>NaN</td>\n",
       "      <td>NaN</td>\n",
       "      <td>NaN</td>\n",
       "      <td>NaN</td>\n",
       "      <td>NaN</td>\n",
       "      <td>NaN</td>\n",
       "      <td>NaN</td>\n",
       "      <td>NaN</td>\n",
       "      <td>NaN</td>\n",
       "      <td>NaN</td>\n",
       "    </tr>\n",
       "    <tr>\n",
       "      <th>100floods</th>\n",
       "      <td>NaN</td>\n",
       "      <td>NaN</td>\n",
       "      <td>NaN</td>\n",
       "      <td>NaN</td>\n",
       "      <td>NaN</td>\n",
       "      <td>NaN</td>\n",
       "      <td>NaN</td>\n",
       "      <td>NaN</td>\n",
       "      <td>NaN</td>\n",
       "      <td>NaN</td>\n",
       "      <td>...</td>\n",
       "      <td>NaN</td>\n",
       "      <td>NaN</td>\n",
       "      <td>NaN</td>\n",
       "      <td>NaN</td>\n",
       "      <td>NaN</td>\n",
       "      <td>NaN</td>\n",
       "      <td>NaN</td>\n",
       "      <td>NaN</td>\n",
       "      <td>NaN</td>\n",
       "      <td>NaN</td>\n",
       "    </tr>\n",
       "    <tr>\n",
       "      <th>1759Girl</th>\n",
       "      <td>NaN</td>\n",
       "      <td>NaN</td>\n",
       "      <td>NaN</td>\n",
       "      <td>NaN</td>\n",
       "      <td>NaN</td>\n",
       "      <td>NaN</td>\n",
       "      <td>NaN</td>\n",
       "      <td>NaN</td>\n",
       "      <td>NaN</td>\n",
       "      <td>NaN</td>\n",
       "      <td>...</td>\n",
       "      <td>NaN</td>\n",
       "      <td>NaN</td>\n",
       "      <td>NaN</td>\n",
       "      <td>NaN</td>\n",
       "      <td>NaN</td>\n",
       "      <td>NaN</td>\n",
       "      <td>NaN</td>\n",
       "      <td>NaN</td>\n",
       "      <td>NaN</td>\n",
       "      <td>NaN</td>\n",
       "    </tr>\n",
       "    <tr>\n",
       "      <th>1fastz28</th>\n",
       "      <td>NaN</td>\n",
       "      <td>-0.414286</td>\n",
       "      <td>NaN</td>\n",
       "      <td>0.085714</td>\n",
       "      <td>NaN</td>\n",
       "      <td>NaN</td>\n",
       "      <td>NaN</td>\n",
       "      <td>NaN</td>\n",
       "      <td>NaN</td>\n",
       "      <td>NaN</td>\n",
       "      <td>...</td>\n",
       "      <td>NaN</td>\n",
       "      <td>NaN</td>\n",
       "      <td>-0.414286</td>\n",
       "      <td>NaN</td>\n",
       "      <td>NaN</td>\n",
       "      <td>NaN</td>\n",
       "      <td>NaN</td>\n",
       "      <td>NaN</td>\n",
       "      <td>NaN</td>\n",
       "      <td>NaN</td>\n",
       "    </tr>\n",
       "  </tbody>\n",
       "</table>\n",
       "<p>5 rows × 2064 columns</p>\n",
       "</div>"
      ],
      "text/plain": [
       "beer_beerid         5         6      7         10     14     15     17     \\\n",
       "review_profilename                                                          \n",
       "0110x011              NaN       NaN    NaN       NaN    NaN    NaN    NaN   \n",
       "05Harley              NaN       NaN    NaN       NaN    NaN    NaN    NaN   \n",
       "100floods             NaN       NaN    NaN       NaN    NaN    NaN    NaN   \n",
       "1759Girl              NaN       NaN    NaN       NaN    NaN    NaN    NaN   \n",
       "1fastz28              NaN -0.414286    NaN  0.085714    NaN    NaN    NaN   \n",
       "\n",
       "beer_beerid         19     30     31     ...    72138  73131     74123  74272  \\\n",
       "review_profilename                       ...                                    \n",
       "0110x011              NaN    NaN    NaN  ...      NaN    NaN       NaN    NaN   \n",
       "05Harley              NaN    NaN    NaN  ...      NaN    NaN       NaN    NaN   \n",
       "100floods             NaN    NaN    NaN  ...      NaN    NaN       NaN    NaN   \n",
       "1759Girl              NaN    NaN    NaN  ...      NaN    NaN       NaN    NaN   \n",
       "1fastz28              NaN    NaN    NaN  ...      NaN    NaN -0.414286    NaN   \n",
       "\n",
       "beer_beerid         74323  74390  74548  74579  74986  75086  \n",
       "review_profilename                                            \n",
       "0110x011              NaN    NaN    NaN    NaN    NaN    NaN  \n",
       "05Harley              NaN    NaN    NaN    NaN    NaN    NaN  \n",
       "100floods             NaN    NaN    NaN    NaN    NaN    NaN  \n",
       "1759Girl              NaN    NaN    NaN    NaN    NaN    NaN  \n",
       "1fastz28              NaN    NaN    NaN    NaN    NaN    NaN  \n",
       "\n",
       "[5 rows x 2064 columns]"
      ]
     },
     "execution_count": 399,
     "metadata": {},
     "output_type": "execute_result"
    }
   ],
   "source": [
    "df_subtracted_user.head()"
   ]
  },
  {
   "cell_type": "markdown",
   "metadata": {},
   "source": [
    "### Finding cosine similarity"
   ]
  },
  {
   "cell_type": "code",
   "execution_count": 400,
   "metadata": {
    "scrolled": false
   },
   "outputs": [
    {
     "name": "stdout",
     "output_type": "stream",
     "text": [
      "[[ 1.          0.         -0.06414558 ...  0.          0.\n",
      "   0.        ]\n",
      " [ 0.          1.         -0.00228504 ... -0.05790255  0.06023922\n",
      "   0.        ]\n",
      " [-0.06414558 -0.00228504  1.         ... -0.03519429  0.00183073\n",
      "   0.        ]\n",
      " ...\n",
      " [ 0.         -0.05790255 -0.03519429 ...  1.          0.\n",
      "   0.        ]\n",
      " [ 0.          0.06023922  0.00183073 ...  0.          1.\n",
      "   0.        ]\n",
      " [ 0.          0.          0.         ...  0.          0.\n",
      "   1.        ]]\n"
     ]
    }
   ],
   "source": [
    "from sklearn.metrics.pairwise import pairwise_distances\n",
    "\n",
    "# User Similarity Matrix\n",
    "reviewer_correlation = 1 - pairwise_distances(df_subtracted_user.fillna(0), metric='cosine')\n",
    "reviewer_correlation[np.isnan(reviewer_correlation)] = 0\n",
    "print(reviewer_correlation)"
   ]
  },
  {
   "cell_type": "markdown",
   "metadata": {},
   "source": [
    "### First 10 Reviewers"
   ]
  },
  {
   "cell_type": "code",
   "execution_count": 401,
   "metadata": {},
   "outputs": [
    {
     "data": {
      "text/plain": [
       "array(['0110x011', '05Harley', '100floods', '1759Girl', '1fastz28',\n",
       "       '32hoss32', '3Vandoo', '4000qtrap', '4DAloveofSTOUT', '51mmz0rz'],\n",
       "      dtype=object)"
      ]
     },
     "execution_count": 401,
     "metadata": {},
     "output_type": "execute_result"
    }
   ],
   "source": [
    "Fst_10_reviewers = df_subtracted_user.index[0:10].values\n",
    "Fst_10_reviewers"
   ]
  },
  {
   "cell_type": "markdown",
   "metadata": {},
   "source": [
    "### Similarity amongst First 10 Reviewers"
   ]
  },
  {
   "cell_type": "code",
   "execution_count": 402,
   "metadata": {
    "scrolled": true
   },
   "outputs": [
    {
     "data": {
      "text/html": [
       "<div>\n",
       "<style scoped>\n",
       "    .dataframe tbody tr th:only-of-type {\n",
       "        vertical-align: middle;\n",
       "    }\n",
       "\n",
       "    .dataframe tbody tr th {\n",
       "        vertical-align: top;\n",
       "    }\n",
       "\n",
       "    .dataframe thead th {\n",
       "        text-align: right;\n",
       "    }\n",
       "</style>\n",
       "<table border=\"1\" class=\"dataframe\">\n",
       "  <thead>\n",
       "    <tr style=\"text-align: right;\">\n",
       "      <th></th>\n",
       "      <th>0110x011</th>\n",
       "      <th>05Harley</th>\n",
       "      <th>100floods</th>\n",
       "      <th>1759Girl</th>\n",
       "      <th>1fastz28</th>\n",
       "      <th>32hoss32</th>\n",
       "      <th>3Vandoo</th>\n",
       "      <th>4000qtrap</th>\n",
       "      <th>4DAloveofSTOUT</th>\n",
       "      <th>51mmz0rz</th>\n",
       "    </tr>\n",
       "  </thead>\n",
       "  <tbody>\n",
       "    <tr>\n",
       "      <th>0110x011</th>\n",
       "      <td>1.000000</td>\n",
       "      <td>0.000000</td>\n",
       "      <td>-0.064146</td>\n",
       "      <td>0.000000</td>\n",
       "      <td>0.000000</td>\n",
       "      <td>0.000000</td>\n",
       "      <td>0.000000</td>\n",
       "      <td>0.000000</td>\n",
       "      <td>-0.048598</td>\n",
       "      <td>0.000000</td>\n",
       "    </tr>\n",
       "    <tr>\n",
       "      <th>05Harley</th>\n",
       "      <td>0.000000</td>\n",
       "      <td>1.000000</td>\n",
       "      <td>-0.002285</td>\n",
       "      <td>0.027213</td>\n",
       "      <td>0.021043</td>\n",
       "      <td>0.000000</td>\n",
       "      <td>0.000000</td>\n",
       "      <td>-0.027866</td>\n",
       "      <td>0.000000</td>\n",
       "      <td>0.074008</td>\n",
       "    </tr>\n",
       "    <tr>\n",
       "      <th>100floods</th>\n",
       "      <td>-0.064146</td>\n",
       "      <td>-0.002285</td>\n",
       "      <td>1.000000</td>\n",
       "      <td>0.000000</td>\n",
       "      <td>0.032335</td>\n",
       "      <td>0.000000</td>\n",
       "      <td>0.000000</td>\n",
       "      <td>-0.039199</td>\n",
       "      <td>0.000000</td>\n",
       "      <td>0.044493</td>\n",
       "    </tr>\n",
       "    <tr>\n",
       "      <th>1759Girl</th>\n",
       "      <td>0.000000</td>\n",
       "      <td>0.027213</td>\n",
       "      <td>0.000000</td>\n",
       "      <td>1.000000</td>\n",
       "      <td>0.042364</td>\n",
       "      <td>0.000000</td>\n",
       "      <td>0.199153</td>\n",
       "      <td>0.002470</td>\n",
       "      <td>0.000000</td>\n",
       "      <td>-0.024930</td>\n",
       "    </tr>\n",
       "    <tr>\n",
       "      <th>1fastz28</th>\n",
       "      <td>0.000000</td>\n",
       "      <td>0.021043</td>\n",
       "      <td>0.032335</td>\n",
       "      <td>0.042364</td>\n",
       "      <td>1.000000</td>\n",
       "      <td>0.084836</td>\n",
       "      <td>0.012997</td>\n",
       "      <td>-0.001427</td>\n",
       "      <td>-0.002544</td>\n",
       "      <td>0.000000</td>\n",
       "    </tr>\n",
       "    <tr>\n",
       "      <th>32hoss32</th>\n",
       "      <td>0.000000</td>\n",
       "      <td>0.000000</td>\n",
       "      <td>0.000000</td>\n",
       "      <td>0.000000</td>\n",
       "      <td>0.084836</td>\n",
       "      <td>1.000000</td>\n",
       "      <td>0.000000</td>\n",
       "      <td>0.000000</td>\n",
       "      <td>0.000000</td>\n",
       "      <td>-0.000395</td>\n",
       "    </tr>\n",
       "    <tr>\n",
       "      <th>3Vandoo</th>\n",
       "      <td>0.000000</td>\n",
       "      <td>0.000000</td>\n",
       "      <td>0.000000</td>\n",
       "      <td>0.199153</td>\n",
       "      <td>0.012997</td>\n",
       "      <td>0.000000</td>\n",
       "      <td>1.000000</td>\n",
       "      <td>-0.025303</td>\n",
       "      <td>0.000000</td>\n",
       "      <td>0.000000</td>\n",
       "    </tr>\n",
       "    <tr>\n",
       "      <th>4000qtrap</th>\n",
       "      <td>0.000000</td>\n",
       "      <td>-0.027866</td>\n",
       "      <td>-0.039199</td>\n",
       "      <td>0.002470</td>\n",
       "      <td>-0.001427</td>\n",
       "      <td>0.000000</td>\n",
       "      <td>-0.025303</td>\n",
       "      <td>1.000000</td>\n",
       "      <td>0.000000</td>\n",
       "      <td>0.000000</td>\n",
       "    </tr>\n",
       "    <tr>\n",
       "      <th>4DAloveofSTOUT</th>\n",
       "      <td>-0.048598</td>\n",
       "      <td>0.000000</td>\n",
       "      <td>0.000000</td>\n",
       "      <td>0.000000</td>\n",
       "      <td>-0.002544</td>\n",
       "      <td>0.000000</td>\n",
       "      <td>0.000000</td>\n",
       "      <td>0.000000</td>\n",
       "      <td>1.000000</td>\n",
       "      <td>0.000000</td>\n",
       "    </tr>\n",
       "    <tr>\n",
       "      <th>51mmz0rz</th>\n",
       "      <td>0.000000</td>\n",
       "      <td>0.074008</td>\n",
       "      <td>0.044493</td>\n",
       "      <td>-0.024930</td>\n",
       "      <td>0.000000</td>\n",
       "      <td>-0.000395</td>\n",
       "      <td>0.000000</td>\n",
       "      <td>0.000000</td>\n",
       "      <td>0.000000</td>\n",
       "      <td>1.000000</td>\n",
       "    </tr>\n",
       "  </tbody>\n",
       "</table>\n",
       "</div>"
      ],
      "text/plain": [
       "                0110x011  05Harley  100floods  1759Girl  1fastz28  32hoss32  \\\n",
       "0110x011        1.000000  0.000000  -0.064146  0.000000  0.000000  0.000000   \n",
       "05Harley        0.000000  1.000000  -0.002285  0.027213  0.021043  0.000000   \n",
       "100floods      -0.064146 -0.002285   1.000000  0.000000  0.032335  0.000000   \n",
       "1759Girl        0.000000  0.027213   0.000000  1.000000  0.042364  0.000000   \n",
       "1fastz28        0.000000  0.021043   0.032335  0.042364  1.000000  0.084836   \n",
       "32hoss32        0.000000  0.000000   0.000000  0.000000  0.084836  1.000000   \n",
       "3Vandoo         0.000000  0.000000   0.000000  0.199153  0.012997  0.000000   \n",
       "4000qtrap       0.000000 -0.027866  -0.039199  0.002470 -0.001427  0.000000   \n",
       "4DAloveofSTOUT -0.048598  0.000000   0.000000  0.000000 -0.002544  0.000000   \n",
       "51mmz0rz        0.000000  0.074008   0.044493 -0.024930  0.000000 -0.000395   \n",
       "\n",
       "                 3Vandoo  4000qtrap  4DAloveofSTOUT  51mmz0rz  \n",
       "0110x011        0.000000   0.000000       -0.048598  0.000000  \n",
       "05Harley        0.000000  -0.027866        0.000000  0.074008  \n",
       "100floods       0.000000  -0.039199        0.000000  0.044493  \n",
       "1759Girl        0.199153   0.002470        0.000000 -0.024930  \n",
       "1fastz28        0.012997  -0.001427       -0.002544  0.000000  \n",
       "32hoss32        0.000000   0.000000        0.000000 -0.000395  \n",
       "3Vandoo         1.000000  -0.025303        0.000000  0.000000  \n",
       "4000qtrap      -0.025303   1.000000        0.000000  0.000000  \n",
       "4DAloveofSTOUT  0.000000   0.000000        1.000000  0.000000  \n",
       "51mmz0rz        0.000000   0.000000        0.000000  1.000000  "
      ]
     },
     "execution_count": 402,
     "metadata": {},
     "output_type": "execute_result"
    }
   ],
   "source": [
    "Fst_10_reviewers_corr = pd.DataFrame(reviewer_correlation[:10,:10])\n",
    "Fst_10_reviewers_corr.columns = Fst_10_reviewers\n",
    "Fst_10_reviewers_corr.index = Fst_10_reviewers\n",
    "Fst_10_reviewers_corr"
   ]
  },
  {
   "cell_type": "code",
   "execution_count": 403,
   "metadata": {},
   "outputs": [
    {
     "data": {
      "image/png": "[encoded data removed]",
      "text/plain": [
       "<Figure size 720x720 with 2 Axes>"
      ]
     },
     "metadata": {},
     "output_type": "display_data"
    }
   ],
   "source": [
    "# buildin a heatmap of correlation of first 10 users\n",
    "plt.figure(figsize=(10,10))\n",
    "\n",
    "sns.heatmap(Fst_10_reviewers_corr, cmap=\"YlGnBu\", linewidths = 0.5, annot=True,square = True, fmt=\".3f\")\n",
    "plt.title('Similarity amongst First 10 Reviewers', size = 16, color = 'b');\n",
    "plt.xticks(fontsize=12)\n",
    "plt.yticks(fontsize=12)\n",
    "\n",
    "# Automatically adjust subplot params so that the subplotS fits in to the figure area.\n",
    "plt.tight_layout()\n",
    "\n",
    "# display the plot\n",
    "plt.show()"
   ]
  },
  {
   "cell_type": "markdown",
   "metadata": {},
   "source": [
    "### Prediction on Training Set"
   ]
  },
  {
   "cell_type": "markdown",
   "metadata": {},
   "source": [
    "Doing the prediction for the reviewers who are positively related with other reviewers, and not the reviewers which are negatively related as we are interested in the reviewers which are more similar to the current reviewers. So, ignoring the correlation for values less than 0. "
   ]
  },
  {
   "cell_type": "code",
   "execution_count": 404,
   "metadata": {},
   "outputs": [
    {
     "data": {
      "text/plain": [
       "array([[1.        , 0.        , 0.        , ..., 0.        , 0.        ,\n",
       "        0.        ],\n",
       "       [0.        , 1.        , 0.        , ..., 0.        , 0.06023922,\n",
       "        0.        ],\n",
       "       [0.        , 0.        , 1.        , ..., 0.        , 0.00183073,\n",
       "        0.        ],\n",
       "       ...,\n",
       "       [0.        , 0.        , 0.        , ..., 1.        , 0.        ,\n",
       "        0.        ],\n",
       "       [0.        , 0.06023922, 0.00183073, ..., 0.        , 1.        ,\n",
       "        0.        ],\n",
       "       [0.        , 0.        , 0.        , ..., 0.        , 0.        ,\n",
       "        1.        ]])"
      ]
     },
     "execution_count": 404,
     "metadata": {},
     "output_type": "execute_result"
    }
   ],
   "source": [
    "reviewer_correlation[reviewer_correlation<0]=0\n",
    "reviewer_correlation"
   ]
  },
  {
   "cell_type": "markdown",
   "metadata": {},
   "source": [
    "##### Rating predicted for the reviewer (for beers rated as well as not rated) is the weighted sum of correlation with the beer rating."
   ]
  },
  {
   "cell_type": "code",
   "execution_count": 405,
   "metadata": {},
   "outputs": [
    {
     "data": {
      "text/plain": [
       "array([[0.60740569, 1.72279843, 1.36537555, ..., 0.62420766, 2.78695303,\n",
       "        0.99231436],\n",
       "       [1.64187597, 2.19901147, 0.68375015, ..., 0.77148987, 2.04906253,\n",
       "        0.87085684],\n",
       "       [0.50868217, 1.82480268, 1.04838097, ..., 0.4432223 , 1.66992617,\n",
       "        1.01367289],\n",
       "       ...,\n",
       "       [5.4615181 , 9.28403854, 6.24694338, ..., 1.13753439, 2.05371077,\n",
       "        2.43409095],\n",
       "       [1.94987669, 7.03871264, 4.32649666, ..., 1.48588393, 3.63541061,\n",
       "        2.413668  ],\n",
       "       [2.79919408, 5.30058669, 4.10148393, ..., 0.7447872 , 1.28456455,\n",
       "        1.13771762]])"
      ]
     },
     "execution_count": 405,
     "metadata": {},
     "output_type": "execute_result"
    }
   ],
   "source": [
    "reviewer_predicted_ratings = np.dot(reviewer_correlation, beer_features_user.fillna(0))\n",
    "reviewer_predicted_ratings"
   ]
  },
  {
   "cell_type": "code",
   "execution_count": 406,
   "metadata": {},
   "outputs": [
    {
     "data": {
      "text/plain": [
       "(3176, 2064)"
      ]
     },
     "execution_count": 406,
     "metadata": {},
     "output_type": "execute_result"
    }
   ],
   "source": [
    "reviewer_predicted_ratings.shape"
   ]
  },
  {
   "cell_type": "markdown",
   "metadata": {},
   "source": [
    "##### The training data set has `3176 reviewers` and `2064 beers`. The correlation matrix for user-based similarity will be of the shape `3176 x 3176`. This matrix indicates to what extent the users are related to other users.\n",
    "\n",
    "##### Multiplying correlation matrix with 'beer_feature' (rating by the reviewer) of shape `3176 x 2064` will give the user-based recommender matrix of shape `3176 x 2064`. \n",
    "\n",
    "##### This matrix will contain the user-based rating of all the beers, including the beers not rated by the reviewer, based on the correlation with other reviewers. Thus, we can find the Beer-Recommendation for a reviewer by filtering out the rating given by that reviewer (using 'dummy_train').\n"
   ]
  },
  {
   "cell_type": "markdown",
   "metadata": {},
   "source": [
    "*Since we are interested only in the beers not reviewed by the reviewer, we will ignore the beers rated by the reviewer by making it zero. We do this by multiplying it with 'dummy_train' dataframe.* "
   ]
  },
  {
   "cell_type": "code",
   "execution_count": 407,
   "metadata": {
    "scrolled": true
   },
   "outputs": [
    {
     "data": {
      "text/html": [
       "<div>\n",
       "<style scoped>\n",
       "    .dataframe tbody tr th:only-of-type {\n",
       "        vertical-align: middle;\n",
       "    }\n",
       "\n",
       "    .dataframe tbody tr th {\n",
       "        vertical-align: top;\n",
       "    }\n",
       "\n",
       "    .dataframe thead th {\n",
       "        text-align: right;\n",
       "    }\n",
       "</style>\n",
       "<table border=\"1\" class=\"dataframe\">\n",
       "  <thead>\n",
       "    <tr style=\"text-align: right;\">\n",
       "      <th>beer_beerid</th>\n",
       "      <th>5</th>\n",
       "      <th>6</th>\n",
       "      <th>7</th>\n",
       "      <th>10</th>\n",
       "      <th>14</th>\n",
       "      <th>15</th>\n",
       "      <th>17</th>\n",
       "      <th>19</th>\n",
       "      <th>30</th>\n",
       "      <th>31</th>\n",
       "      <th>...</th>\n",
       "      <th>72138</th>\n",
       "      <th>73131</th>\n",
       "      <th>74123</th>\n",
       "      <th>74272</th>\n",
       "      <th>74323</th>\n",
       "      <th>74390</th>\n",
       "      <th>74548</th>\n",
       "      <th>74579</th>\n",
       "      <th>74986</th>\n",
       "      <th>75086</th>\n",
       "    </tr>\n",
       "    <tr>\n",
       "      <th>review_profilename</th>\n",
       "      <th></th>\n",
       "      <th></th>\n",
       "      <th></th>\n",
       "      <th></th>\n",
       "      <th></th>\n",
       "      <th></th>\n",
       "      <th></th>\n",
       "      <th></th>\n",
       "      <th></th>\n",
       "      <th></th>\n",
       "      <th></th>\n",
       "      <th></th>\n",
       "      <th></th>\n",
       "      <th></th>\n",
       "      <th></th>\n",
       "      <th></th>\n",
       "      <th></th>\n",
       "      <th></th>\n",
       "      <th></th>\n",
       "      <th></th>\n",
       "      <th></th>\n",
       "    </tr>\n",
       "  </thead>\n",
       "  <tbody>\n",
       "    <tr>\n",
       "      <th>0110x011</th>\n",
       "      <td>0.607406</td>\n",
       "      <td>1.722798</td>\n",
       "      <td>1.365376</td>\n",
       "      <td>2.133627</td>\n",
       "      <td>0.369895</td>\n",
       "      <td>0.383252</td>\n",
       "      <td>2.128028</td>\n",
       "      <td>1.836918</td>\n",
       "      <td>2.817660</td>\n",
       "      <td>1.975254</td>\n",
       "      <td>...</td>\n",
       "      <td>3.390042</td>\n",
       "      <td>0.677360</td>\n",
       "      <td>0.326128</td>\n",
       "      <td>0.253216</td>\n",
       "      <td>0.442418</td>\n",
       "      <td>0.547199</td>\n",
       "      <td>0.265393</td>\n",
       "      <td>0.624208</td>\n",
       "      <td>2.786953</td>\n",
       "      <td>0.992314</td>\n",
       "    </tr>\n",
       "    <tr>\n",
       "      <th>05Harley</th>\n",
       "      <td>1.641876</td>\n",
       "      <td>2.199011</td>\n",
       "      <td>0.683750</td>\n",
       "      <td>4.119564</td>\n",
       "      <td>1.142683</td>\n",
       "      <td>0.498070</td>\n",
       "      <td>2.202979</td>\n",
       "      <td>2.498159</td>\n",
       "      <td>6.628212</td>\n",
       "      <td>3.453936</td>\n",
       "      <td>...</td>\n",
       "      <td>2.962885</td>\n",
       "      <td>1.561487</td>\n",
       "      <td>1.674791</td>\n",
       "      <td>1.224707</td>\n",
       "      <td>1.361091</td>\n",
       "      <td>0.912850</td>\n",
       "      <td>0.302531</td>\n",
       "      <td>0.771490</td>\n",
       "      <td>2.049063</td>\n",
       "      <td>0.870857</td>\n",
       "    </tr>\n",
       "    <tr>\n",
       "      <th>100floods</th>\n",
       "      <td>0.508682</td>\n",
       "      <td>1.824803</td>\n",
       "      <td>1.048381</td>\n",
       "      <td>2.556826</td>\n",
       "      <td>0.508363</td>\n",
       "      <td>0.473822</td>\n",
       "      <td>2.041114</td>\n",
       "      <td>0.524179</td>\n",
       "      <td>4.925649</td>\n",
       "      <td>2.787559</td>\n",
       "      <td>...</td>\n",
       "      <td>2.772751</td>\n",
       "      <td>1.099367</td>\n",
       "      <td>0.921139</td>\n",
       "      <td>0.799246</td>\n",
       "      <td>0.928896</td>\n",
       "      <td>0.406420</td>\n",
       "      <td>0.375718</td>\n",
       "      <td>0.443222</td>\n",
       "      <td>1.669926</td>\n",
       "      <td>1.013673</td>\n",
       "    </tr>\n",
       "    <tr>\n",
       "      <th>1759Girl</th>\n",
       "      <td>3.654447</td>\n",
       "      <td>5.765699</td>\n",
       "      <td>5.281095</td>\n",
       "      <td>5.064425</td>\n",
       "      <td>1.357946</td>\n",
       "      <td>1.871067</td>\n",
       "      <td>5.197184</td>\n",
       "      <td>4.365944</td>\n",
       "      <td>13.376856</td>\n",
       "      <td>11.673933</td>\n",
       "      <td>...</td>\n",
       "      <td>8.238620</td>\n",
       "      <td>1.740618</td>\n",
       "      <td>2.625025</td>\n",
       "      <td>1.563181</td>\n",
       "      <td>0.776449</td>\n",
       "      <td>2.044254</td>\n",
       "      <td>0.757676</td>\n",
       "      <td>1.002973</td>\n",
       "      <td>3.981609</td>\n",
       "      <td>2.350628</td>\n",
       "    </tr>\n",
       "    <tr>\n",
       "      <th>1fastz28</th>\n",
       "      <td>4.260667</td>\n",
       "      <td>0.000000</td>\n",
       "      <td>4.846008</td>\n",
       "      <td>0.000000</td>\n",
       "      <td>1.676340</td>\n",
       "      <td>2.468645</td>\n",
       "      <td>7.305227</td>\n",
       "      <td>6.270055</td>\n",
       "      <td>17.198941</td>\n",
       "      <td>12.667486</td>\n",
       "      <td>...</td>\n",
       "      <td>6.401570</td>\n",
       "      <td>2.171791</td>\n",
       "      <td>0.000000</td>\n",
       "      <td>2.319006</td>\n",
       "      <td>2.686793</td>\n",
       "      <td>2.116601</td>\n",
       "      <td>1.817929</td>\n",
       "      <td>1.473303</td>\n",
       "      <td>3.677687</td>\n",
       "      <td>3.638288</td>\n",
       "    </tr>\n",
       "  </tbody>\n",
       "</table>\n",
       "<p>5 rows × 2064 columns</p>\n",
       "</div>"
      ],
      "text/plain": [
       "beer_beerid            5         6         7         10        14     \\\n",
       "review_profilename                                                     \n",
       "0110x011            0.607406  1.722798  1.365376  2.133627  0.369895   \n",
       "05Harley            1.641876  2.199011  0.683750  4.119564  1.142683   \n",
       "100floods           0.508682  1.824803  1.048381  2.556826  0.508363   \n",
       "1759Girl            3.654447  5.765699  5.281095  5.064425  1.357946   \n",
       "1fastz28            4.260667  0.000000  4.846008  0.000000  1.676340   \n",
       "\n",
       "beer_beerid            15        17        19         30         31     \\\n",
       "review_profilename                                                       \n",
       "0110x011            0.383252  2.128028  1.836918   2.817660   1.975254   \n",
       "05Harley            0.498070  2.202979  2.498159   6.628212   3.453936   \n",
       "100floods           0.473822  2.041114  0.524179   4.925649   2.787559   \n",
       "1759Girl            1.871067  5.197184  4.365944  13.376856  11.673933   \n",
       "1fastz28            2.468645  7.305227  6.270055  17.198941  12.667486   \n",
       "\n",
       "beer_beerid           ...        72138     73131     74123     74272  \\\n",
       "review_profilename    ...                                              \n",
       "0110x011              ...     3.390042  0.677360  0.326128  0.253216   \n",
       "05Harley              ...     2.962885  1.561487  1.674791  1.224707   \n",
       "100floods             ...     2.772751  1.099367  0.921139  0.799246   \n",
       "1759Girl              ...     8.238620  1.740618  2.625025  1.563181   \n",
       "1fastz28              ...     6.401570  2.171791  0.000000  2.319006   \n",
       "\n",
       "beer_beerid            74323     74390     74548     74579     74986     75086  \n",
       "review_profilename                                                              \n",
       "0110x011            0.442418  0.547199  0.265393  0.624208  2.786953  0.992314  \n",
       "05Harley            1.361091  0.912850  0.302531  0.771490  2.049063  0.870857  \n",
       "100floods           0.928896  0.406420  0.375718  0.443222  1.669926  1.013673  \n",
       "1759Girl            0.776449  2.044254  0.757676  1.002973  3.981609  2.350628  \n",
       "1fastz28            2.686793  2.116601  1.817929  1.473303  3.677687  3.638288  \n",
       "\n",
       "[5 rows x 2064 columns]"
      ]
     },
     "execution_count": 407,
     "metadata": {},
     "output_type": "execute_result"
    }
   ],
   "source": [
    "reviewer_final_rating = np.multiply(reviewer_predicted_ratings,dummy_train)\n",
    "reviewer_final_rating.head()"
   ]
  },
  {
   "cell_type": "markdown",
   "metadata": {},
   "source": [
    "### Item Based Similarity"
   ]
  },
  {
   "cell_type": "markdown",
   "metadata": {},
   "source": [
    "Taking the transpose of the rating matrix to normalize the rating around the mean for different movie ID. In the user based similarity, we had taken mean for each user intead of each movie. "
   ]
  },
  {
   "cell_type": "code",
   "execution_count": 408,
   "metadata": {},
   "outputs": [
    {
     "data": {
      "text/html": [
       "<div>\n",
       "<style scoped>\n",
       "    .dataframe tbody tr th:only-of-type {\n",
       "        vertical-align: middle;\n",
       "    }\n",
       "\n",
       "    .dataframe tbody tr th {\n",
       "        vertical-align: top;\n",
       "    }\n",
       "\n",
       "    .dataframe thead th {\n",
       "        text-align: right;\n",
       "    }\n",
       "</style>\n",
       "<table border=\"1\" class=\"dataframe\">\n",
       "  <thead>\n",
       "    <tr style=\"text-align: right;\">\n",
       "      <th>review_profilename</th>\n",
       "      <th>0110x011</th>\n",
       "      <th>05Harley</th>\n",
       "      <th>100floods</th>\n",
       "      <th>1759Girl</th>\n",
       "      <th>1fastz28</th>\n",
       "      <th>32hoss32</th>\n",
       "      <th>3Vandoo</th>\n",
       "      <th>4000qtrap</th>\n",
       "      <th>4DAloveofSTOUT</th>\n",
       "      <th>51mmz0rz</th>\n",
       "      <th>...</th>\n",
       "      <th>zerk</th>\n",
       "      <th>zerofear13</th>\n",
       "      <th>zhanson88</th>\n",
       "      <th>zimm421</th>\n",
       "      <th>zjungleist</th>\n",
       "      <th>zoolzoo</th>\n",
       "      <th>zoso1967</th>\n",
       "      <th>zoso493</th>\n",
       "      <th>zrab11</th>\n",
       "      <th>zymurgy4all</th>\n",
       "    </tr>\n",
       "    <tr>\n",
       "      <th>beer_beerid</th>\n",
       "      <th></th>\n",
       "      <th></th>\n",
       "      <th></th>\n",
       "      <th></th>\n",
       "      <th></th>\n",
       "      <th></th>\n",
       "      <th></th>\n",
       "      <th></th>\n",
       "      <th></th>\n",
       "      <th></th>\n",
       "      <th></th>\n",
       "      <th></th>\n",
       "      <th></th>\n",
       "      <th></th>\n",
       "      <th></th>\n",
       "      <th></th>\n",
       "      <th></th>\n",
       "      <th></th>\n",
       "      <th></th>\n",
       "      <th></th>\n",
       "      <th></th>\n",
       "    </tr>\n",
       "  </thead>\n",
       "  <tbody>\n",
       "    <tr>\n",
       "      <th>5</th>\n",
       "      <td>NaN</td>\n",
       "      <td>NaN</td>\n",
       "      <td>NaN</td>\n",
       "      <td>NaN</td>\n",
       "      <td>NaN</td>\n",
       "      <td>NaN</td>\n",
       "      <td>NaN</td>\n",
       "      <td>NaN</td>\n",
       "      <td>NaN</td>\n",
       "      <td>NaN</td>\n",
       "      <td>...</td>\n",
       "      <td>NaN</td>\n",
       "      <td>NaN</td>\n",
       "      <td>NaN</td>\n",
       "      <td>NaN</td>\n",
       "      <td>NaN</td>\n",
       "      <td>NaN</td>\n",
       "      <td>NaN</td>\n",
       "      <td>NaN</td>\n",
       "      <td>NaN</td>\n",
       "      <td>NaN</td>\n",
       "    </tr>\n",
       "    <tr>\n",
       "      <th>6</th>\n",
       "      <td>NaN</td>\n",
       "      <td>NaN</td>\n",
       "      <td>NaN</td>\n",
       "      <td>NaN</td>\n",
       "      <td>3.5</td>\n",
       "      <td>NaN</td>\n",
       "      <td>NaN</td>\n",
       "      <td>NaN</td>\n",
       "      <td>NaN</td>\n",
       "      <td>NaN</td>\n",
       "      <td>...</td>\n",
       "      <td>NaN</td>\n",
       "      <td>NaN</td>\n",
       "      <td>NaN</td>\n",
       "      <td>NaN</td>\n",
       "      <td>NaN</td>\n",
       "      <td>NaN</td>\n",
       "      <td>NaN</td>\n",
       "      <td>NaN</td>\n",
       "      <td>NaN</td>\n",
       "      <td>NaN</td>\n",
       "    </tr>\n",
       "    <tr>\n",
       "      <th>7</th>\n",
       "      <td>NaN</td>\n",
       "      <td>NaN</td>\n",
       "      <td>NaN</td>\n",
       "      <td>NaN</td>\n",
       "      <td>NaN</td>\n",
       "      <td>NaN</td>\n",
       "      <td>NaN</td>\n",
       "      <td>NaN</td>\n",
       "      <td>NaN</td>\n",
       "      <td>NaN</td>\n",
       "      <td>...</td>\n",
       "      <td>NaN</td>\n",
       "      <td>3.0</td>\n",
       "      <td>NaN</td>\n",
       "      <td>NaN</td>\n",
       "      <td>NaN</td>\n",
       "      <td>NaN</td>\n",
       "      <td>NaN</td>\n",
       "      <td>NaN</td>\n",
       "      <td>NaN</td>\n",
       "      <td>NaN</td>\n",
       "    </tr>\n",
       "    <tr>\n",
       "      <th>10</th>\n",
       "      <td>NaN</td>\n",
       "      <td>NaN</td>\n",
       "      <td>NaN</td>\n",
       "      <td>NaN</td>\n",
       "      <td>4.0</td>\n",
       "      <td>NaN</td>\n",
       "      <td>NaN</td>\n",
       "      <td>NaN</td>\n",
       "      <td>NaN</td>\n",
       "      <td>NaN</td>\n",
       "      <td>...</td>\n",
       "      <td>NaN</td>\n",
       "      <td>NaN</td>\n",
       "      <td>NaN</td>\n",
       "      <td>NaN</td>\n",
       "      <td>NaN</td>\n",
       "      <td>NaN</td>\n",
       "      <td>NaN</td>\n",
       "      <td>NaN</td>\n",
       "      <td>NaN</td>\n",
       "      <td>NaN</td>\n",
       "    </tr>\n",
       "    <tr>\n",
       "      <th>14</th>\n",
       "      <td>NaN</td>\n",
       "      <td>NaN</td>\n",
       "      <td>NaN</td>\n",
       "      <td>NaN</td>\n",
       "      <td>NaN</td>\n",
       "      <td>NaN</td>\n",
       "      <td>NaN</td>\n",
       "      <td>NaN</td>\n",
       "      <td>NaN</td>\n",
       "      <td>NaN</td>\n",
       "      <td>...</td>\n",
       "      <td>NaN</td>\n",
       "      <td>NaN</td>\n",
       "      <td>NaN</td>\n",
       "      <td>NaN</td>\n",
       "      <td>NaN</td>\n",
       "      <td>NaN</td>\n",
       "      <td>NaN</td>\n",
       "      <td>NaN</td>\n",
       "      <td>NaN</td>\n",
       "      <td>NaN</td>\n",
       "    </tr>\n",
       "  </tbody>\n",
       "</table>\n",
       "<p>5 rows × 3176 columns</p>\n",
       "</div>"
      ],
      "text/plain": [
       "review_profilename  0110x011  05Harley  100floods  1759Girl  1fastz28  \\\n",
       "beer_beerid                                                             \n",
       "5                        NaN       NaN        NaN       NaN       NaN   \n",
       "6                        NaN       NaN        NaN       NaN       3.5   \n",
       "7                        NaN       NaN        NaN       NaN       NaN   \n",
       "10                       NaN       NaN        NaN       NaN       4.0   \n",
       "14                       NaN       NaN        NaN       NaN       NaN   \n",
       "\n",
       "review_profilename  32hoss32  3Vandoo  4000qtrap  4DAloveofSTOUT  51mmz0rz  \\\n",
       "beer_beerid                                                                  \n",
       "5                        NaN      NaN        NaN             NaN       NaN   \n",
       "6                        NaN      NaN        NaN             NaN       NaN   \n",
       "7                        NaN      NaN        NaN             NaN       NaN   \n",
       "10                       NaN      NaN        NaN             NaN       NaN   \n",
       "14                       NaN      NaN        NaN             NaN       NaN   \n",
       "\n",
       "review_profilename     ...       zerk  zerofear13  zhanson88  zimm421  \\\n",
       "beer_beerid            ...                                              \n",
       "5                      ...        NaN         NaN        NaN      NaN   \n",
       "6                      ...        NaN         NaN        NaN      NaN   \n",
       "7                      ...        NaN         3.0        NaN      NaN   \n",
       "10                     ...        NaN         NaN        NaN      NaN   \n",
       "14                     ...        NaN         NaN        NaN      NaN   \n",
       "\n",
       "review_profilename  zjungleist  zoolzoo  zoso1967  zoso493  zrab11  \\\n",
       "beer_beerid                                                          \n",
       "5                          NaN      NaN       NaN      NaN     NaN   \n",
       "6                          NaN      NaN       NaN      NaN     NaN   \n",
       "7                          NaN      NaN       NaN      NaN     NaN   \n",
       "10                         NaN      NaN       NaN      NaN     NaN   \n",
       "14                         NaN      NaN       NaN      NaN     NaN   \n",
       "\n",
       "review_profilename  zymurgy4all  \n",
       "beer_beerid                      \n",
       "5                           NaN  \n",
       "6                           NaN  \n",
       "7                           NaN  \n",
       "10                          NaN  \n",
       "14                          NaN  \n",
       "\n",
       "[5 rows x 3176 columns]"
      ]
     },
     "execution_count": 408,
     "metadata": {},
     "output_type": "execute_result"
    }
   ],
   "source": [
    "beer_features_item = train.pivot(\n",
    "    index='review_profilename',\n",
    "    columns='beer_beerid',\n",
    "    values='review_overall'\n",
    ").T\n",
    "beer_features_item.head()"
   ]
  },
  {
   "cell_type": "markdown",
   "metadata": {},
   "source": [
    "Normalising the movie rating for each movie"
   ]
  },
  {
   "cell_type": "code",
   "execution_count": 409,
   "metadata": {},
   "outputs": [],
   "source": [
    "mean = np.nanmean(beer_features_item, axis=1)\n",
    "df_subtracted_item = (beer_features_item.T-mean).T"
   ]
  },
  {
   "cell_type": "code",
   "execution_count": 410,
   "metadata": {},
   "outputs": [
    {
     "data": {
      "text/html": [
       "<div>\n",
       "<style scoped>\n",
       "    .dataframe tbody tr th:only-of-type {\n",
       "        vertical-align: middle;\n",
       "    }\n",
       "\n",
       "    .dataframe tbody tr th {\n",
       "        vertical-align: top;\n",
       "    }\n",
       "\n",
       "    .dataframe thead th {\n",
       "        text-align: right;\n",
       "    }\n",
       "</style>\n",
       "<table border=\"1\" class=\"dataframe\">\n",
       "  <thead>\n",
       "    <tr style=\"text-align: right;\">\n",
       "      <th>review_profilename</th>\n",
       "      <th>0110x011</th>\n",
       "      <th>05Harley</th>\n",
       "      <th>100floods</th>\n",
       "      <th>1759Girl</th>\n",
       "      <th>1fastz28</th>\n",
       "      <th>32hoss32</th>\n",
       "      <th>3Vandoo</th>\n",
       "      <th>4000qtrap</th>\n",
       "      <th>4DAloveofSTOUT</th>\n",
       "      <th>51mmz0rz</th>\n",
       "      <th>...</th>\n",
       "      <th>zerk</th>\n",
       "      <th>zerofear13</th>\n",
       "      <th>zhanson88</th>\n",
       "      <th>zimm421</th>\n",
       "      <th>zjungleist</th>\n",
       "      <th>zoolzoo</th>\n",
       "      <th>zoso1967</th>\n",
       "      <th>zoso493</th>\n",
       "      <th>zrab11</th>\n",
       "      <th>zymurgy4all</th>\n",
       "    </tr>\n",
       "    <tr>\n",
       "      <th>beer_beerid</th>\n",
       "      <th></th>\n",
       "      <th></th>\n",
       "      <th></th>\n",
       "      <th></th>\n",
       "      <th></th>\n",
       "      <th></th>\n",
       "      <th></th>\n",
       "      <th></th>\n",
       "      <th></th>\n",
       "      <th></th>\n",
       "      <th></th>\n",
       "      <th></th>\n",
       "      <th></th>\n",
       "      <th></th>\n",
       "      <th></th>\n",
       "      <th></th>\n",
       "      <th></th>\n",
       "      <th></th>\n",
       "      <th></th>\n",
       "      <th></th>\n",
       "      <th></th>\n",
       "    </tr>\n",
       "  </thead>\n",
       "  <tbody>\n",
       "    <tr>\n",
       "      <th>5</th>\n",
       "      <td>NaN</td>\n",
       "      <td>NaN</td>\n",
       "      <td>NaN</td>\n",
       "      <td>NaN</td>\n",
       "      <td>NaN</td>\n",
       "      <td>NaN</td>\n",
       "      <td>NaN</td>\n",
       "      <td>NaN</td>\n",
       "      <td>NaN</td>\n",
       "      <td>NaN</td>\n",
       "      <td>...</td>\n",
       "      <td>NaN</td>\n",
       "      <td>NaN</td>\n",
       "      <td>NaN</td>\n",
       "      <td>NaN</td>\n",
       "      <td>NaN</td>\n",
       "      <td>NaN</td>\n",
       "      <td>NaN</td>\n",
       "      <td>NaN</td>\n",
       "      <td>NaN</td>\n",
       "      <td>NaN</td>\n",
       "    </tr>\n",
       "    <tr>\n",
       "      <th>6</th>\n",
       "      <td>NaN</td>\n",
       "      <td>NaN</td>\n",
       "      <td>NaN</td>\n",
       "      <td>NaN</td>\n",
       "      <td>-0.209559</td>\n",
       "      <td>NaN</td>\n",
       "      <td>NaN</td>\n",
       "      <td>NaN</td>\n",
       "      <td>NaN</td>\n",
       "      <td>NaN</td>\n",
       "      <td>...</td>\n",
       "      <td>NaN</td>\n",
       "      <td>NaN</td>\n",
       "      <td>NaN</td>\n",
       "      <td>NaN</td>\n",
       "      <td>NaN</td>\n",
       "      <td>NaN</td>\n",
       "      <td>NaN</td>\n",
       "      <td>NaN</td>\n",
       "      <td>NaN</td>\n",
       "      <td>NaN</td>\n",
       "    </tr>\n",
       "    <tr>\n",
       "      <th>7</th>\n",
       "      <td>NaN</td>\n",
       "      <td>NaN</td>\n",
       "      <td>NaN</td>\n",
       "      <td>NaN</td>\n",
       "      <td>NaN</td>\n",
       "      <td>NaN</td>\n",
       "      <td>NaN</td>\n",
       "      <td>NaN</td>\n",
       "      <td>NaN</td>\n",
       "      <td>NaN</td>\n",
       "      <td>...</td>\n",
       "      <td>NaN</td>\n",
       "      <td>-0.227273</td>\n",
       "      <td>NaN</td>\n",
       "      <td>NaN</td>\n",
       "      <td>NaN</td>\n",
       "      <td>NaN</td>\n",
       "      <td>NaN</td>\n",
       "      <td>NaN</td>\n",
       "      <td>NaN</td>\n",
       "      <td>NaN</td>\n",
       "    </tr>\n",
       "    <tr>\n",
       "      <th>10</th>\n",
       "      <td>NaN</td>\n",
       "      <td>NaN</td>\n",
       "      <td>NaN</td>\n",
       "      <td>NaN</td>\n",
       "      <td>0.153226</td>\n",
       "      <td>NaN</td>\n",
       "      <td>NaN</td>\n",
       "      <td>NaN</td>\n",
       "      <td>NaN</td>\n",
       "      <td>NaN</td>\n",
       "      <td>...</td>\n",
       "      <td>NaN</td>\n",
       "      <td>NaN</td>\n",
       "      <td>NaN</td>\n",
       "      <td>NaN</td>\n",
       "      <td>NaN</td>\n",
       "      <td>NaN</td>\n",
       "      <td>NaN</td>\n",
       "      <td>NaN</td>\n",
       "      <td>NaN</td>\n",
       "      <td>NaN</td>\n",
       "    </tr>\n",
       "    <tr>\n",
       "      <th>14</th>\n",
       "      <td>NaN</td>\n",
       "      <td>NaN</td>\n",
       "      <td>NaN</td>\n",
       "      <td>NaN</td>\n",
       "      <td>NaN</td>\n",
       "      <td>NaN</td>\n",
       "      <td>NaN</td>\n",
       "      <td>NaN</td>\n",
       "      <td>NaN</td>\n",
       "      <td>NaN</td>\n",
       "      <td>...</td>\n",
       "      <td>NaN</td>\n",
       "      <td>NaN</td>\n",
       "      <td>NaN</td>\n",
       "      <td>NaN</td>\n",
       "      <td>NaN</td>\n",
       "      <td>NaN</td>\n",
       "      <td>NaN</td>\n",
       "      <td>NaN</td>\n",
       "      <td>NaN</td>\n",
       "      <td>NaN</td>\n",
       "    </tr>\n",
       "  </tbody>\n",
       "</table>\n",
       "<p>5 rows × 3176 columns</p>\n",
       "</div>"
      ],
      "text/plain": [
       "review_profilename  0110x011  05Harley  100floods  1759Girl  1fastz28  \\\n",
       "beer_beerid                                                             \n",
       "5                        NaN       NaN        NaN       NaN       NaN   \n",
       "6                        NaN       NaN        NaN       NaN -0.209559   \n",
       "7                        NaN       NaN        NaN       NaN       NaN   \n",
       "10                       NaN       NaN        NaN       NaN  0.153226   \n",
       "14                       NaN       NaN        NaN       NaN       NaN   \n",
       "\n",
       "review_profilename  32hoss32  3Vandoo  4000qtrap  4DAloveofSTOUT  51mmz0rz  \\\n",
       "beer_beerid                                                                  \n",
       "5                        NaN      NaN        NaN             NaN       NaN   \n",
       "6                        NaN      NaN        NaN             NaN       NaN   \n",
       "7                        NaN      NaN        NaN             NaN       NaN   \n",
       "10                       NaN      NaN        NaN             NaN       NaN   \n",
       "14                       NaN      NaN        NaN             NaN       NaN   \n",
       "\n",
       "review_profilename     ...       zerk  zerofear13  zhanson88  zimm421  \\\n",
       "beer_beerid            ...                                              \n",
       "5                      ...        NaN         NaN        NaN      NaN   \n",
       "6                      ...        NaN         NaN        NaN      NaN   \n",
       "7                      ...        NaN   -0.227273        NaN      NaN   \n",
       "10                     ...        NaN         NaN        NaN      NaN   \n",
       "14                     ...        NaN         NaN        NaN      NaN   \n",
       "\n",
       "review_profilename  zjungleist  zoolzoo  zoso1967  zoso493  zrab11  \\\n",
       "beer_beerid                                                          \n",
       "5                          NaN      NaN       NaN      NaN     NaN   \n",
       "6                          NaN      NaN       NaN      NaN     NaN   \n",
       "7                          NaN      NaN       NaN      NaN     NaN   \n",
       "10                         NaN      NaN       NaN      NaN     NaN   \n",
       "14                         NaN      NaN       NaN      NaN     NaN   \n",
       "\n",
       "review_profilename  zymurgy4all  \n",
       "beer_beerid                      \n",
       "5                           NaN  \n",
       "6                           NaN  \n",
       "7                           NaN  \n",
       "10                          NaN  \n",
       "14                          NaN  \n",
       "\n",
       "[5 rows x 3176 columns]"
      ]
     },
     "execution_count": 410,
     "metadata": {},
     "output_type": "execute_result"
    }
   ],
   "source": [
    "df_subtracted_item.head()"
   ]
  },
  {
   "cell_type": "markdown",
   "metadata": {},
   "source": [
    "Finding the cosine similarity. Note that since the data is normalised, both the cosine metric and correlation metric will give the same value. "
   ]
  },
  {
   "cell_type": "code",
   "execution_count": 411,
   "metadata": {},
   "outputs": [
    {
     "name": "stdout",
     "output_type": "stream",
     "text": [
      "[[ 1.         -0.04400353  0.10450266 ...  0.          0.01444095\n",
      "   0.        ]\n",
      " [-0.04400353  1.          0.09372582 ...  0.0850787   0.0028846\n",
      "   0.        ]\n",
      " [ 0.10450266  0.09372582  1.         ...  0.0035514   0.00416595\n",
      "  -0.00307617]\n",
      " ...\n",
      " [ 0.          0.0850787   0.0035514  ...  1.         -0.00953562\n",
      "   0.02076853]\n",
      " [ 0.01444095  0.0028846   0.00416595 ... -0.00953562  1.\n",
      "  -0.01370386]\n",
      " [ 0.          0.         -0.00307617 ...  0.02076853 -0.01370386\n",
      "   1.        ]]\n"
     ]
    }
   ],
   "source": [
    "from sklearn.metrics.pairwise import pairwise_distances\n",
    "\n",
    "# User Similarity Matrix\n",
    "beer_correlation = 1 - pairwise_distances(df_subtracted_item.fillna(0), metric='cosine')\n",
    "beer_correlation[np.isnan(beer_correlation)] = 0\n",
    "print(beer_correlation)"
   ]
  },
  {
   "cell_type": "markdown",
   "metadata": {},
   "source": [
    "### First 10 Beers"
   ]
  },
  {
   "cell_type": "code",
   "execution_count": 412,
   "metadata": {},
   "outputs": [
    {
     "data": {
      "text/plain": [
       "array([ 5,  6,  7, 10, 14, 15, 17, 19, 30, 31], dtype=int64)"
      ]
     },
     "execution_count": 412,
     "metadata": {},
     "output_type": "execute_result"
    }
   ],
   "source": [
    "Fst_10_Beers = df_subtracted_item.index[0:10].values\n",
    "Fst_10_Beers"
   ]
  },
  {
   "cell_type": "markdown",
   "metadata": {},
   "source": [
    "### Similarity amongst First 10 Beers"
   ]
  },
  {
   "cell_type": "code",
   "execution_count": 413,
   "metadata": {
    "scrolled": true
   },
   "outputs": [
    {
     "data": {
      "text/html": [
       "<div>\n",
       "<style scoped>\n",
       "    .dataframe tbody tr th:only-of-type {\n",
       "        vertical-align: middle;\n",
       "    }\n",
       "\n",
       "    .dataframe tbody tr th {\n",
       "        vertical-align: top;\n",
       "    }\n",
       "\n",
       "    .dataframe thead th {\n",
       "        text-align: right;\n",
       "    }\n",
       "</style>\n",
       "<table border=\"1\" class=\"dataframe\">\n",
       "  <thead>\n",
       "    <tr style=\"text-align: right;\">\n",
       "      <th></th>\n",
       "      <th>5</th>\n",
       "      <th>6</th>\n",
       "      <th>7</th>\n",
       "      <th>10</th>\n",
       "      <th>14</th>\n",
       "      <th>15</th>\n",
       "      <th>17</th>\n",
       "      <th>19</th>\n",
       "      <th>30</th>\n",
       "      <th>31</th>\n",
       "    </tr>\n",
       "  </thead>\n",
       "  <tbody>\n",
       "    <tr>\n",
       "      <th>5</th>\n",
       "      <td>1.000000</td>\n",
       "      <td>-0.044004</td>\n",
       "      <td>0.104503</td>\n",
       "      <td>-0.029471</td>\n",
       "      <td>-0.010378</td>\n",
       "      <td>-0.008061</td>\n",
       "      <td>-0.027961</td>\n",
       "      <td>-0.046848</td>\n",
       "      <td>-0.006448</td>\n",
       "      <td>0.016354</td>\n",
       "    </tr>\n",
       "    <tr>\n",
       "      <th>6</th>\n",
       "      <td>-0.044004</td>\n",
       "      <td>1.000000</td>\n",
       "      <td>0.093726</td>\n",
       "      <td>0.022307</td>\n",
       "      <td>0.017416</td>\n",
       "      <td>0.004390</td>\n",
       "      <td>0.004319</td>\n",
       "      <td>-0.019156</td>\n",
       "      <td>-0.032116</td>\n",
       "      <td>-0.002920</td>\n",
       "    </tr>\n",
       "    <tr>\n",
       "      <th>7</th>\n",
       "      <td>0.104503</td>\n",
       "      <td>0.093726</td>\n",
       "      <td>1.000000</td>\n",
       "      <td>-0.030013</td>\n",
       "      <td>-0.078204</td>\n",
       "      <td>-0.007661</td>\n",
       "      <td>0.026361</td>\n",
       "      <td>-0.051896</td>\n",
       "      <td>-0.037479</td>\n",
       "      <td>-0.024096</td>\n",
       "    </tr>\n",
       "    <tr>\n",
       "      <th>10</th>\n",
       "      <td>-0.029471</td>\n",
       "      <td>0.022307</td>\n",
       "      <td>-0.030013</td>\n",
       "      <td>1.000000</td>\n",
       "      <td>0.066272</td>\n",
       "      <td>0.059567</td>\n",
       "      <td>-0.003229</td>\n",
       "      <td>0.033588</td>\n",
       "      <td>0.007894</td>\n",
       "      <td>-0.024459</td>\n",
       "    </tr>\n",
       "    <tr>\n",
       "      <th>14</th>\n",
       "      <td>-0.010378</td>\n",
       "      <td>0.017416</td>\n",
       "      <td>-0.078204</td>\n",
       "      <td>0.066272</td>\n",
       "      <td>1.000000</td>\n",
       "      <td>0.099416</td>\n",
       "      <td>0.008963</td>\n",
       "      <td>0.034474</td>\n",
       "      <td>0.034500</td>\n",
       "      <td>-0.025723</td>\n",
       "    </tr>\n",
       "    <tr>\n",
       "      <th>15</th>\n",
       "      <td>-0.008061</td>\n",
       "      <td>0.004390</td>\n",
       "      <td>-0.007661</td>\n",
       "      <td>0.059567</td>\n",
       "      <td>0.099416</td>\n",
       "      <td>1.000000</td>\n",
       "      <td>-0.010017</td>\n",
       "      <td>0.032583</td>\n",
       "      <td>0.037086</td>\n",
       "      <td>0.025630</td>\n",
       "    </tr>\n",
       "    <tr>\n",
       "      <th>17</th>\n",
       "      <td>-0.027961</td>\n",
       "      <td>0.004319</td>\n",
       "      <td>0.026361</td>\n",
       "      <td>-0.003229</td>\n",
       "      <td>0.008963</td>\n",
       "      <td>-0.010017</td>\n",
       "      <td>1.000000</td>\n",
       "      <td>0.015526</td>\n",
       "      <td>-0.017780</td>\n",
       "      <td>0.072509</td>\n",
       "    </tr>\n",
       "    <tr>\n",
       "      <th>19</th>\n",
       "      <td>-0.046848</td>\n",
       "      <td>-0.019156</td>\n",
       "      <td>-0.051896</td>\n",
       "      <td>0.033588</td>\n",
       "      <td>0.034474</td>\n",
       "      <td>0.032583</td>\n",
       "      <td>0.015526</td>\n",
       "      <td>1.000000</td>\n",
       "      <td>-0.014294</td>\n",
       "      <td>-0.027806</td>\n",
       "    </tr>\n",
       "    <tr>\n",
       "      <th>30</th>\n",
       "      <td>-0.006448</td>\n",
       "      <td>-0.032116</td>\n",
       "      <td>-0.037479</td>\n",
       "      <td>0.007894</td>\n",
       "      <td>0.034500</td>\n",
       "      <td>0.037086</td>\n",
       "      <td>-0.017780</td>\n",
       "      <td>-0.014294</td>\n",
       "      <td>1.000000</td>\n",
       "      <td>0.024280</td>\n",
       "    </tr>\n",
       "    <tr>\n",
       "      <th>31</th>\n",
       "      <td>0.016354</td>\n",
       "      <td>-0.002920</td>\n",
       "      <td>-0.024096</td>\n",
       "      <td>-0.024459</td>\n",
       "      <td>-0.025723</td>\n",
       "      <td>0.025630</td>\n",
       "      <td>0.072509</td>\n",
       "      <td>-0.027806</td>\n",
       "      <td>0.024280</td>\n",
       "      <td>1.000000</td>\n",
       "    </tr>\n",
       "  </tbody>\n",
       "</table>\n",
       "</div>"
      ],
      "text/plain": [
       "          5         6         7         10        14        15        17  \\\n",
       "5   1.000000 -0.044004  0.104503 -0.029471 -0.010378 -0.008061 -0.027961   \n",
       "6  -0.044004  1.000000  0.093726  0.022307  0.017416  0.004390  0.004319   \n",
       "7   0.104503  0.093726  1.000000 -0.030013 -0.078204 -0.007661  0.026361   \n",
       "10 -0.029471  0.022307 -0.030013  1.000000  0.066272  0.059567 -0.003229   \n",
       "14 -0.010378  0.017416 -0.078204  0.066272  1.000000  0.099416  0.008963   \n",
       "15 -0.008061  0.004390 -0.007661  0.059567  0.099416  1.000000 -0.010017   \n",
       "17 -0.027961  0.004319  0.026361 -0.003229  0.008963 -0.010017  1.000000   \n",
       "19 -0.046848 -0.019156 -0.051896  0.033588  0.034474  0.032583  0.015526   \n",
       "30 -0.006448 -0.032116 -0.037479  0.007894  0.034500  0.037086 -0.017780   \n",
       "31  0.016354 -0.002920 -0.024096 -0.024459 -0.025723  0.025630  0.072509   \n",
       "\n",
       "          19        30        31  \n",
       "5  -0.046848 -0.006448  0.016354  \n",
       "6  -0.019156 -0.032116 -0.002920  \n",
       "7  -0.051896 -0.037479 -0.024096  \n",
       "10  0.033588  0.007894 -0.024459  \n",
       "14  0.034474  0.034500 -0.025723  \n",
       "15  0.032583  0.037086  0.025630  \n",
       "17  0.015526 -0.017780  0.072509  \n",
       "19  1.000000 -0.014294 -0.027806  \n",
       "30 -0.014294  1.000000  0.024280  \n",
       "31 -0.027806  0.024280  1.000000  "
      ]
     },
     "execution_count": 413,
     "metadata": {},
     "output_type": "execute_result"
    }
   ],
   "source": [
    "Fst_10_beers_corr = pd.DataFrame(beer_correlation[:10,:10])\n",
    "Fst_10_beers_corr.columns = Fst_10_Beers\n",
    "Fst_10_beers_corr.index = Fst_10_Beers\n",
    "Fst_10_beers_corr"
   ]
  },
  {
   "cell_type": "code",
   "execution_count": 414,
   "metadata": {},
   "outputs": [
    {
     "data": {
      "image/png": "[encoded data removed]",
      "text/plain": [
       "<Figure size 720x720 with 2 Axes>"
      ]
     },
     "metadata": {},
     "output_type": "display_data"
    }
   ],
   "source": [
    "# buildin a heatmap of correlation of first 10 users\n",
    "plt.figure(figsize=(10,10))\n",
    "\n",
    "sns.heatmap(Fst_10_beers_corr, cmap=\"YlGnBu\", linewidths = 0.5, annot=True,square = True, fmt=\".3f\")\n",
    "plt.title('Similarity amongst First 10 Beers', size = 16, color = 'b');\n",
    "plt.xticks(fontsize=12)\n",
    "plt.yticks(fontsize=12)\n",
    "\n",
    "# Automatically adjust subplot params so that the subplotS fits in to the figure area.\n",
    "plt.tight_layout()\n",
    "\n",
    "# display the plot\n",
    "plt.show()"
   ]
  },
  {
   "cell_type": "markdown",
   "metadata": {},
   "source": [
    "### Prediction on the Training Set"
   ]
  },
  {
   "cell_type": "markdown",
   "metadata": {},
   "source": [
    "Filtering the correlation only for which the value is greater than 0. (Positively correlated)"
   ]
  },
  {
   "cell_type": "code",
   "execution_count": 415,
   "metadata": {},
   "outputs": [
    {
     "data": {
      "text/plain": [
       "array([[1.        , 0.        , 0.10450266, ..., 0.        , 0.01444095,\n",
       "        0.        ],\n",
       "       [0.        , 1.        , 0.09372582, ..., 0.0850787 , 0.0028846 ,\n",
       "        0.        ],\n",
       "       [0.10450266, 0.09372582, 1.        , ..., 0.0035514 , 0.00416595,\n",
       "        0.        ],\n",
       "       ...,\n",
       "       [0.        , 0.0850787 , 0.0035514 , ..., 1.        , 0.        ,\n",
       "        0.02076853],\n",
       "       [0.01444095, 0.0028846 , 0.00416595, ..., 0.        , 1.        ,\n",
       "        0.        ],\n",
       "       [0.        , 0.        , 0.        , ..., 0.02076853, 0.        ,\n",
       "        1.        ]])"
      ]
     },
     "execution_count": 415,
     "metadata": {},
     "output_type": "execute_result"
    }
   ],
   "source": [
    "beer_correlation[beer_correlation<0]=0\n",
    "beer_correlation"
   ]
  },
  {
   "cell_type": "code",
   "execution_count": 416,
   "metadata": {},
   "outputs": [
    {
     "data": {
      "text/plain": [
       "array([[0.34235531, 0.75140313, 0.3725019 , ..., 0.4798347 , 0.51727737,\n",
       "        0.77667071],\n",
       "       [0.71201797, 0.61201673, 0.74136727, ..., 0.29537101, 0.96046555,\n",
       "        0.70915081],\n",
       "       [0.4610979 , 0.57293613, 0.84695463, ..., 0.44862372, 1.62539371,\n",
       "        1.21536412],\n",
       "       ...,\n",
       "       [1.05588008, 1.64889637, 1.67259081, ..., 0.39409505, 0.7575991 ,\n",
       "        1.69761257],\n",
       "       [1.05237359, 1.68876966, 1.94192558, ..., 1.24434921, 1.03048876,\n",
       "        1.72885155],\n",
       "       [0.77920154, 0.98848806, 1.95106329, ..., 0.22335889, 0.2721665 ,\n",
       "        0.45937481]])"
      ]
     },
     "execution_count": 416,
     "metadata": {},
     "output_type": "execute_result"
    }
   ],
   "source": [
    "beer_predicted_ratings = np.dot((beer_features_item.fillna(0).T),beer_correlation)\n",
    "beer_predicted_ratings"
   ]
  },
  {
   "cell_type": "code",
   "execution_count": 417,
   "metadata": {},
   "outputs": [
    {
     "data": {
      "text/plain": [
       "(3176, 2064)"
      ]
     },
     "execution_count": 417,
     "metadata": {},
     "output_type": "execute_result"
    }
   ],
   "source": [
    "beer_predicted_ratings.shape"
   ]
  },
  {
   "cell_type": "code",
   "execution_count": 418,
   "metadata": {},
   "outputs": [
    {
     "data": {
      "text/plain": [
       "(3176, 2064)"
      ]
     },
     "execution_count": 418,
     "metadata": {},
     "output_type": "execute_result"
    }
   ],
   "source": [
    "dummy_train.shape"
   ]
  },
  {
   "cell_type": "markdown",
   "metadata": {},
   "source": [
    "### Filtering the rating only for the movies not rated by the user for recommendation"
   ]
  },
  {
   "cell_type": "code",
   "execution_count": 419,
   "metadata": {},
   "outputs": [
    {
     "data": {
      "text/html": [
       "<div>\n",
       "<style scoped>\n",
       "    .dataframe tbody tr th:only-of-type {\n",
       "        vertical-align: middle;\n",
       "    }\n",
       "\n",
       "    .dataframe tbody tr th {\n",
       "        vertical-align: top;\n",
       "    }\n",
       "\n",
       "    .dataframe thead th {\n",
       "        text-align: right;\n",
       "    }\n",
       "</style>\n",
       "<table border=\"1\" class=\"dataframe\">\n",
       "  <thead>\n",
       "    <tr style=\"text-align: right;\">\n",
       "      <th>beer_beerid</th>\n",
       "      <th>5</th>\n",
       "      <th>6</th>\n",
       "      <th>7</th>\n",
       "      <th>10</th>\n",
       "      <th>14</th>\n",
       "      <th>15</th>\n",
       "      <th>17</th>\n",
       "      <th>19</th>\n",
       "      <th>30</th>\n",
       "      <th>31</th>\n",
       "      <th>...</th>\n",
       "      <th>72138</th>\n",
       "      <th>73131</th>\n",
       "      <th>74123</th>\n",
       "      <th>74272</th>\n",
       "      <th>74323</th>\n",
       "      <th>74390</th>\n",
       "      <th>74548</th>\n",
       "      <th>74579</th>\n",
       "      <th>74986</th>\n",
       "      <th>75086</th>\n",
       "    </tr>\n",
       "    <tr>\n",
       "      <th>review_profilename</th>\n",
       "      <th></th>\n",
       "      <th></th>\n",
       "      <th></th>\n",
       "      <th></th>\n",
       "      <th></th>\n",
       "      <th></th>\n",
       "      <th></th>\n",
       "      <th></th>\n",
       "      <th></th>\n",
       "      <th></th>\n",
       "      <th></th>\n",
       "      <th></th>\n",
       "      <th></th>\n",
       "      <th></th>\n",
       "      <th></th>\n",
       "      <th></th>\n",
       "      <th></th>\n",
       "      <th></th>\n",
       "      <th></th>\n",
       "      <th></th>\n",
       "      <th></th>\n",
       "    </tr>\n",
       "  </thead>\n",
       "  <tbody>\n",
       "    <tr>\n",
       "      <th>0110x011</th>\n",
       "      <td>0.342355</td>\n",
       "      <td>0.751403</td>\n",
       "      <td>0.372502</td>\n",
       "      <td>0.373032</td>\n",
       "      <td>0.438093</td>\n",
       "      <td>0.606722</td>\n",
       "      <td>1.266867</td>\n",
       "      <td>0.346784</td>\n",
       "      <td>1.825658</td>\n",
       "      <td>0.633090</td>\n",
       "      <td>...</td>\n",
       "      <td>1.191960</td>\n",
       "      <td>0.412804</td>\n",
       "      <td>0.409965</td>\n",
       "      <td>0.477528</td>\n",
       "      <td>0.291183</td>\n",
       "      <td>0.658500</td>\n",
       "      <td>0.153989</td>\n",
       "      <td>0.479835</td>\n",
       "      <td>0.517277</td>\n",
       "      <td>0.776671</td>\n",
       "    </tr>\n",
       "    <tr>\n",
       "      <th>05Harley</th>\n",
       "      <td>0.712018</td>\n",
       "      <td>0.612017</td>\n",
       "      <td>0.741367</td>\n",
       "      <td>0.816150</td>\n",
       "      <td>1.197436</td>\n",
       "      <td>1.189673</td>\n",
       "      <td>0.377426</td>\n",
       "      <td>0.574105</td>\n",
       "      <td>1.825379</td>\n",
       "      <td>0.655822</td>\n",
       "      <td>...</td>\n",
       "      <td>0.852472</td>\n",
       "      <td>0.167492</td>\n",
       "      <td>0.283364</td>\n",
       "      <td>0.594851</td>\n",
       "      <td>0.426807</td>\n",
       "      <td>0.882157</td>\n",
       "      <td>1.132680</td>\n",
       "      <td>0.295371</td>\n",
       "      <td>0.960466</td>\n",
       "      <td>0.709151</td>\n",
       "    </tr>\n",
       "    <tr>\n",
       "      <th>100floods</th>\n",
       "      <td>0.461098</td>\n",
       "      <td>0.572936</td>\n",
       "      <td>0.846955</td>\n",
       "      <td>0.399168</td>\n",
       "      <td>0.330429</td>\n",
       "      <td>0.904166</td>\n",
       "      <td>0.991984</td>\n",
       "      <td>0.350883</td>\n",
       "      <td>1.398217</td>\n",
       "      <td>0.663469</td>\n",
       "      <td>...</td>\n",
       "      <td>0.914051</td>\n",
       "      <td>0.767967</td>\n",
       "      <td>1.061601</td>\n",
       "      <td>0.782607</td>\n",
       "      <td>0.977393</td>\n",
       "      <td>0.424092</td>\n",
       "      <td>1.789367</td>\n",
       "      <td>0.448624</td>\n",
       "      <td>1.625394</td>\n",
       "      <td>1.215364</td>\n",
       "    </tr>\n",
       "    <tr>\n",
       "      <th>1759Girl</th>\n",
       "      <td>1.030794</td>\n",
       "      <td>1.233836</td>\n",
       "      <td>1.835413</td>\n",
       "      <td>1.391103</td>\n",
       "      <td>0.720516</td>\n",
       "      <td>0.934950</td>\n",
       "      <td>1.466819</td>\n",
       "      <td>0.566264</td>\n",
       "      <td>1.926939</td>\n",
       "      <td>1.461998</td>\n",
       "      <td>...</td>\n",
       "      <td>0.786347</td>\n",
       "      <td>1.258554</td>\n",
       "      <td>1.002897</td>\n",
       "      <td>1.065330</td>\n",
       "      <td>0.618888</td>\n",
       "      <td>0.886222</td>\n",
       "      <td>1.026076</td>\n",
       "      <td>0.433305</td>\n",
       "      <td>1.075807</td>\n",
       "      <td>1.523836</td>\n",
       "    </tr>\n",
       "    <tr>\n",
       "      <th>1fastz28</th>\n",
       "      <td>2.173427</td>\n",
       "      <td>0.000000</td>\n",
       "      <td>3.898027</td>\n",
       "      <td>0.000000</td>\n",
       "      <td>3.264602</td>\n",
       "      <td>3.261925</td>\n",
       "      <td>3.998928</td>\n",
       "      <td>2.687456</td>\n",
       "      <td>2.711403</td>\n",
       "      <td>4.235729</td>\n",
       "      <td>...</td>\n",
       "      <td>3.086705</td>\n",
       "      <td>3.051129</td>\n",
       "      <td>0.000000</td>\n",
       "      <td>1.828889</td>\n",
       "      <td>1.196344</td>\n",
       "      <td>1.753731</td>\n",
       "      <td>3.142080</td>\n",
       "      <td>1.587389</td>\n",
       "      <td>1.649391</td>\n",
       "      <td>4.243231</td>\n",
       "    </tr>\n",
       "  </tbody>\n",
       "</table>\n",
       "<p>5 rows × 2064 columns</p>\n",
       "</div>"
      ],
      "text/plain": [
       "beer_beerid            5         6         7         10        14     \\\n",
       "review_profilename                                                     \n",
       "0110x011            0.342355  0.751403  0.372502  0.373032  0.438093   \n",
       "05Harley            0.712018  0.612017  0.741367  0.816150  1.197436   \n",
       "100floods           0.461098  0.572936  0.846955  0.399168  0.330429   \n",
       "1759Girl            1.030794  1.233836  1.835413  1.391103  0.720516   \n",
       "1fastz28            2.173427  0.000000  3.898027  0.000000  3.264602   \n",
       "\n",
       "beer_beerid            15        17        19        30        31     \\\n",
       "review_profilename                                                     \n",
       "0110x011            0.606722  1.266867  0.346784  1.825658  0.633090   \n",
       "05Harley            1.189673  0.377426  0.574105  1.825379  0.655822   \n",
       "100floods           0.904166  0.991984  0.350883  1.398217  0.663469   \n",
       "1759Girl            0.934950  1.466819  0.566264  1.926939  1.461998   \n",
       "1fastz28            3.261925  3.998928  2.687456  2.711403  4.235729   \n",
       "\n",
       "beer_beerid           ...        72138     73131     74123     74272  \\\n",
       "review_profilename    ...                                              \n",
       "0110x011              ...     1.191960  0.412804  0.409965  0.477528   \n",
       "05Harley              ...     0.852472  0.167492  0.283364  0.594851   \n",
       "100floods             ...     0.914051  0.767967  1.061601  0.782607   \n",
       "1759Girl              ...     0.786347  1.258554  1.002897  1.065330   \n",
       "1fastz28              ...     3.086705  3.051129  0.000000  1.828889   \n",
       "\n",
       "beer_beerid            74323     74390     74548     74579     74986     75086  \n",
       "review_profilename                                                              \n",
       "0110x011            0.291183  0.658500  0.153989  0.479835  0.517277  0.776671  \n",
       "05Harley            0.426807  0.882157  1.132680  0.295371  0.960466  0.709151  \n",
       "100floods           0.977393  0.424092  1.789367  0.448624  1.625394  1.215364  \n",
       "1759Girl            0.618888  0.886222  1.026076  0.433305  1.075807  1.523836  \n",
       "1fastz28            1.196344  1.753731  3.142080  1.587389  1.649391  4.243231  \n",
       "\n",
       "[5 rows x 2064 columns]"
      ]
     },
     "execution_count": 419,
     "metadata": {},
     "output_type": "execute_result"
    }
   ],
   "source": [
    "beer_final_rating = np.multiply(beer_predicted_ratings,dummy_train)\n",
    "beer_final_rating.head()"
   ]
  },
  {
   "cell_type": "markdown",
   "metadata": {},
   "source": [
    "## Step 6: Evaluation"
   ]
  },
  {
   "cell_type": "markdown",
   "metadata": {},
   "source": [
    "Evaluation will be same as prediction. The only difference being, we will evaluate for the beer already rated by the reviewer instead of predicting it for the beer not rated by the reviewer. "
   ]
  },
  {
   "cell_type": "markdown",
   "metadata": {},
   "source": [
    "### Using User Similarity"
   ]
  },
  {
   "cell_type": "code",
   "execution_count": 420,
   "metadata": {},
   "outputs": [
    {
     "name": "stdout",
     "output_type": "stream",
     "text": [
      "[[ 1.00000000e+00 -9.94756754e-03  0.00000000e+00 ...  8.12730982e-04\n",
      "   6.02316422e-02  0.00000000e+00]\n",
      " [-9.94756754e-03  1.00000000e+00  0.00000000e+00 ...  0.00000000e+00\n",
      "   0.00000000e+00  0.00000000e+00]\n",
      " [ 0.00000000e+00  0.00000000e+00  1.00000000e+00 ...  0.00000000e+00\n",
      "   0.00000000e+00  0.00000000e+00]\n",
      " ...\n",
      " [ 8.12730982e-04  0.00000000e+00  0.00000000e+00 ...  1.00000000e+00\n",
      "   3.81129997e-03  0.00000000e+00]\n",
      " [ 6.02316422e-02  0.00000000e+00  0.00000000e+00 ...  3.81129997e-03\n",
      "   1.00000000e+00  0.00000000e+00]\n",
      " [ 0.00000000e+00  0.00000000e+00  0.00000000e+00 ...  0.00000000e+00\n",
      "   0.00000000e+00  1.00000000e+00]]\n"
     ]
    }
   ],
   "source": [
    "test_beer_features_user = test.pivot(\n",
    "    index='review_profilename',\n",
    "    columns='beer_beerid',\n",
    "    values='review_overall'\n",
    ")\n",
    "\n",
    "mean = np.nanmean(test_beer_features_user, axis=1)\n",
    "test_df_subtracted = (test_beer_features_user.T-mean).T\n",
    "\n",
    "# User Similarity Matrix\n",
    "test_reviewer_correlation = 1 - pairwise_distances(test_df_subtracted.fillna(0), metric='cosine')\n",
    "test_reviewer_correlation[np.isnan(test_reviewer_correlation)] = 0\n",
    "print(test_reviewer_correlation)"
   ]
  },
  {
   "cell_type": "code",
   "execution_count": 421,
   "metadata": {},
   "outputs": [
    {
     "data": {
      "text/plain": [
       "array([[0.41939745, 0.2239049 , 0.79532046, ..., 0.54059044, 2.14354489,\n",
       "        0.21766579],\n",
       "       [0.36384749, 0.20596454, 0.60289483, ..., 1.26725901, 0.00927267,\n",
       "        0.75379087],\n",
       "       [0.07257225, 0.2557648 , 0.36255464, ..., 0.11783901, 0.15126308,\n",
       "        0.01956389],\n",
       "       ...,\n",
       "       [1.39301769, 3.26215724, 1.17950817, ..., 1.32916552, 0.09780408,\n",
       "        1.45608938],\n",
       "       [0.77927749, 0.80168546, 0.31702962, ..., 0.18221054, 0.80894388,\n",
       "        0.48848761],\n",
       "       [0.71590046, 1.05053414, 0.59297741, ..., 0.        , 1.08198966,\n",
       "        0.04651303]])"
      ]
     },
     "execution_count": 421,
     "metadata": {},
     "output_type": "execute_result"
    }
   ],
   "source": [
    "test_reviewer_correlation[test_reviewer_correlation<0]=0\n",
    "test_reviewer_predicted_ratings = np.dot(test_reviewer_correlation, test_beer_features_user.fillna(0))\n",
    "test_reviewer_predicted_ratings"
   ]
  },
  {
   "cell_type": "markdown",
   "metadata": {},
   "source": [
    "### Doing prediction for the movies rated by the user"
   ]
  },
  {
   "cell_type": "code",
   "execution_count": 422,
   "metadata": {},
   "outputs": [],
   "source": [
    "test_reviewer_final_rating = np.multiply(test_reviewer_predicted_ratings,dummy_test)"
   ]
  },
  {
   "cell_type": "code",
   "execution_count": 423,
   "metadata": {},
   "outputs": [
    {
     "data": {
      "text/html": [
       "<div>\n",
       "<style scoped>\n",
       "    .dataframe tbody tr th:only-of-type {\n",
       "        vertical-align: middle;\n",
       "    }\n",
       "\n",
       "    .dataframe tbody tr th {\n",
       "        vertical-align: top;\n",
       "    }\n",
       "\n",
       "    .dataframe thead th {\n",
       "        text-align: right;\n",
       "    }\n",
       "</style>\n",
       "<table border=\"1\" class=\"dataframe\">\n",
       "  <thead>\n",
       "    <tr style=\"text-align: right;\">\n",
       "      <th>beer_beerid</th>\n",
       "      <th>5</th>\n",
       "      <th>6</th>\n",
       "      <th>7</th>\n",
       "      <th>10</th>\n",
       "      <th>14</th>\n",
       "      <th>15</th>\n",
       "      <th>17</th>\n",
       "      <th>19</th>\n",
       "      <th>30</th>\n",
       "      <th>31</th>\n",
       "      <th>...</th>\n",
       "      <th>72138</th>\n",
       "      <th>73131</th>\n",
       "      <th>74123</th>\n",
       "      <th>74272</th>\n",
       "      <th>74323</th>\n",
       "      <th>74390</th>\n",
       "      <th>74548</th>\n",
       "      <th>74579</th>\n",
       "      <th>74986</th>\n",
       "      <th>75086</th>\n",
       "    </tr>\n",
       "    <tr>\n",
       "      <th>review_profilename</th>\n",
       "      <th></th>\n",
       "      <th></th>\n",
       "      <th></th>\n",
       "      <th></th>\n",
       "      <th></th>\n",
       "      <th></th>\n",
       "      <th></th>\n",
       "      <th></th>\n",
       "      <th></th>\n",
       "      <th></th>\n",
       "      <th></th>\n",
       "      <th></th>\n",
       "      <th></th>\n",
       "      <th></th>\n",
       "      <th></th>\n",
       "      <th></th>\n",
       "      <th></th>\n",
       "      <th></th>\n",
       "      <th></th>\n",
       "      <th></th>\n",
       "      <th></th>\n",
       "    </tr>\n",
       "  </thead>\n",
       "  <tbody>\n",
       "    <tr>\n",
       "      <th>0110x011</th>\n",
       "      <td>0.0</td>\n",
       "      <td>0.0</td>\n",
       "      <td>0.0</td>\n",
       "      <td>0.0</td>\n",
       "      <td>0.0</td>\n",
       "      <td>0.0</td>\n",
       "      <td>0.0</td>\n",
       "      <td>0.0</td>\n",
       "      <td>0.0</td>\n",
       "      <td>0.0</td>\n",
       "      <td>...</td>\n",
       "      <td>0.0</td>\n",
       "      <td>0.0</td>\n",
       "      <td>0.0</td>\n",
       "      <td>0.0</td>\n",
       "      <td>0.0</td>\n",
       "      <td>0.0</td>\n",
       "      <td>0.0</td>\n",
       "      <td>0.0</td>\n",
       "      <td>0.0</td>\n",
       "      <td>0.0</td>\n",
       "    </tr>\n",
       "    <tr>\n",
       "      <th>05Harley</th>\n",
       "      <td>0.0</td>\n",
       "      <td>0.0</td>\n",
       "      <td>0.0</td>\n",
       "      <td>0.0</td>\n",
       "      <td>0.0</td>\n",
       "      <td>0.0</td>\n",
       "      <td>0.0</td>\n",
       "      <td>0.0</td>\n",
       "      <td>0.0</td>\n",
       "      <td>0.0</td>\n",
       "      <td>...</td>\n",
       "      <td>0.0</td>\n",
       "      <td>0.0</td>\n",
       "      <td>0.0</td>\n",
       "      <td>0.0</td>\n",
       "      <td>0.0</td>\n",
       "      <td>0.0</td>\n",
       "      <td>0.0</td>\n",
       "      <td>0.0</td>\n",
       "      <td>0.0</td>\n",
       "      <td>0.0</td>\n",
       "    </tr>\n",
       "    <tr>\n",
       "      <th>100floods</th>\n",
       "      <td>0.0</td>\n",
       "      <td>0.0</td>\n",
       "      <td>0.0</td>\n",
       "      <td>0.0</td>\n",
       "      <td>0.0</td>\n",
       "      <td>0.0</td>\n",
       "      <td>0.0</td>\n",
       "      <td>0.0</td>\n",
       "      <td>0.0</td>\n",
       "      <td>0.0</td>\n",
       "      <td>...</td>\n",
       "      <td>0.0</td>\n",
       "      <td>0.0</td>\n",
       "      <td>0.0</td>\n",
       "      <td>0.0</td>\n",
       "      <td>0.0</td>\n",
       "      <td>0.0</td>\n",
       "      <td>0.0</td>\n",
       "      <td>0.0</td>\n",
       "      <td>0.0</td>\n",
       "      <td>0.0</td>\n",
       "    </tr>\n",
       "    <tr>\n",
       "      <th>1759Girl</th>\n",
       "      <td>0.0</td>\n",
       "      <td>0.0</td>\n",
       "      <td>0.0</td>\n",
       "      <td>0.0</td>\n",
       "      <td>0.0</td>\n",
       "      <td>0.0</td>\n",
       "      <td>0.0</td>\n",
       "      <td>0.0</td>\n",
       "      <td>0.0</td>\n",
       "      <td>0.0</td>\n",
       "      <td>...</td>\n",
       "      <td>0.0</td>\n",
       "      <td>0.0</td>\n",
       "      <td>0.0</td>\n",
       "      <td>0.0</td>\n",
       "      <td>0.0</td>\n",
       "      <td>0.0</td>\n",
       "      <td>0.0</td>\n",
       "      <td>0.0</td>\n",
       "      <td>0.0</td>\n",
       "      <td>0.0</td>\n",
       "    </tr>\n",
       "    <tr>\n",
       "      <th>1fastz28</th>\n",
       "      <td>0.0</td>\n",
       "      <td>0.0</td>\n",
       "      <td>0.0</td>\n",
       "      <td>0.0</td>\n",
       "      <td>0.0</td>\n",
       "      <td>0.0</td>\n",
       "      <td>0.0</td>\n",
       "      <td>0.0</td>\n",
       "      <td>0.0</td>\n",
       "      <td>0.0</td>\n",
       "      <td>...</td>\n",
       "      <td>0.0</td>\n",
       "      <td>0.0</td>\n",
       "      <td>0.0</td>\n",
       "      <td>0.0</td>\n",
       "      <td>0.0</td>\n",
       "      <td>0.0</td>\n",
       "      <td>0.0</td>\n",
       "      <td>0.0</td>\n",
       "      <td>0.0</td>\n",
       "      <td>0.0</td>\n",
       "    </tr>\n",
       "  </tbody>\n",
       "</table>\n",
       "<p>5 rows × 2064 columns</p>\n",
       "</div>"
      ],
      "text/plain": [
       "beer_beerid         5      6      7      10     14     15     17     19     \\\n",
       "review_profilename                                                           \n",
       "0110x011              0.0    0.0    0.0    0.0    0.0    0.0    0.0    0.0   \n",
       "05Harley              0.0    0.0    0.0    0.0    0.0    0.0    0.0    0.0   \n",
       "100floods             0.0    0.0    0.0    0.0    0.0    0.0    0.0    0.0   \n",
       "1759Girl              0.0    0.0    0.0    0.0    0.0    0.0    0.0    0.0   \n",
       "1fastz28              0.0    0.0    0.0    0.0    0.0    0.0    0.0    0.0   \n",
       "\n",
       "beer_beerid         30     31     ...    72138  73131  74123  74272  74323  \\\n",
       "review_profilename                ...                                        \n",
       "0110x011              0.0    0.0  ...      0.0    0.0    0.0    0.0    0.0   \n",
       "05Harley              0.0    0.0  ...      0.0    0.0    0.0    0.0    0.0   \n",
       "100floods             0.0    0.0  ...      0.0    0.0    0.0    0.0    0.0   \n",
       "1759Girl              0.0    0.0  ...      0.0    0.0    0.0    0.0    0.0   \n",
       "1fastz28              0.0    0.0  ...      0.0    0.0    0.0    0.0    0.0   \n",
       "\n",
       "beer_beerid         74390  74548  74579  74986  75086  \n",
       "review_profilename                                     \n",
       "0110x011              0.0    0.0    0.0    0.0    0.0  \n",
       "05Harley              0.0    0.0    0.0    0.0    0.0  \n",
       "100floods             0.0    0.0    0.0    0.0    0.0  \n",
       "1759Girl              0.0    0.0    0.0    0.0    0.0  \n",
       "1fastz28              0.0    0.0    0.0    0.0    0.0  \n",
       "\n",
       "[5 rows x 2064 columns]"
      ]
     },
     "execution_count": 423,
     "metadata": {},
     "output_type": "execute_result"
    }
   ],
   "source": [
    "test_reviewer_final_rating.head()"
   ]
  },
  {
   "cell_type": "markdown",
   "metadata": {},
   "source": [
    "### Calculating the RMSE for only the beers rated by user. For  RMSE, normalising the rating to (1,5) range. "
   ]
  },
  {
   "cell_type": "code",
   "execution_count": 425,
   "metadata": {
    "scrolled": true
   },
   "outputs": [
    {
     "name": "stdout",
     "output_type": "stream",
     "text": [
      "MinMaxScaler(copy=True, feature_range=(1, 5))\n",
      "[[nan nan nan ... nan nan nan]\n",
      " [nan nan nan ... nan nan nan]\n",
      " [nan nan nan ... nan nan nan]\n",
      " ...\n",
      " [nan nan nan ... nan nan nan]\n",
      " [nan nan nan ... nan nan nan]\n",
      " [nan nan nan ... nan nan nan]]\n"
     ]
    }
   ],
   "source": [
    "from sklearn.preprocessing import MinMaxScaler\n",
    "from numpy import *\n",
    "\n",
    "X  = test_reviewer_final_rating.copy() \n",
    "X = X[X>0]\n",
    "\n",
    "scaler = MinMaxScaler(feature_range=(1, 5))\n",
    "print(scaler.fit(X))\n",
    "y = (scaler.transform(X))\n",
    "\n",
    "print(y)"
   ]
  },
  {
   "cell_type": "code",
   "execution_count": 426,
   "metadata": {},
   "outputs": [],
   "source": [
    "test_ = test.pivot(\n",
    "    index='review_profilename',\n",
    "    columns='beer_beerid',\n",
    "    values='review_overall'\n",
    ")"
   ]
  },
  {
   "cell_type": "code",
   "execution_count": 427,
   "metadata": {},
   "outputs": [],
   "source": [
    "# Finding total non-NaN value\n",
    "total_non_nan = np.count_nonzero(~np.isnan(y))"
   ]
  },
  {
   "cell_type": "code",
   "execution_count": 428,
   "metadata": {},
   "outputs": [
    {
     "name": "stdout",
     "output_type": "stream",
     "text": [
      "1.8020010881328037\n"
     ]
    }
   ],
   "source": [
    "rmse = (sum(sum((test_ - y )**2))/total_non_nan)**0.5\n",
    "print(rmse)"
   ]
  },
  {
   "cell_type": "markdown",
   "metadata": {},
   "source": [
    "### Using Item similarity"
   ]
  },
  {
   "cell_type": "code",
   "execution_count": 429,
   "metadata": {},
   "outputs": [],
   "source": [
    "test_beer_features_item = test.pivot(\n",
    "    index='review_profilename',\n",
    "    columns='beer_beerid',\n",
    "    values='review_overall'\n",
    ").T\n",
    "\n",
    "mean = np.nanmean(test_beer_features_item, axis=1)\n",
    "test_df_subtracted = (test_beer_features_item.T-mean).T\n",
    "\n",
    "test_beer_correlation = 1 - pairwise_distances(test_df_subtracted.fillna(0), metric='cosine')\n",
    "test_beer_correlation[np.isnan(test_beer_correlation)] = 0\n",
    "test_beer_correlation[test_beer_correlation<0]=0"
   ]
  },
  {
   "cell_type": "code",
   "execution_count": 430,
   "metadata": {},
   "outputs": [
    {
     "data": {
      "text/plain": [
       "(2064, 2064)"
      ]
     },
     "execution_count": 430,
     "metadata": {},
     "output_type": "execute_result"
    }
   ],
   "source": [
    "test_beer_correlation.shape"
   ]
  },
  {
   "cell_type": "code",
   "execution_count": 431,
   "metadata": {},
   "outputs": [
    {
     "data": {
      "text/plain": [
       "(2064, 3174)"
      ]
     },
     "execution_count": 431,
     "metadata": {},
     "output_type": "execute_result"
    }
   ],
   "source": [
    "test_beer_features_item.shape"
   ]
  },
  {
   "cell_type": "code",
   "execution_count": 432,
   "metadata": {},
   "outputs": [
    {
     "data": {
      "text/html": [
       "<div>\n",
       "<style scoped>\n",
       "    .dataframe tbody tr th:only-of-type {\n",
       "        vertical-align: middle;\n",
       "    }\n",
       "\n",
       "    .dataframe tbody tr th {\n",
       "        vertical-align: top;\n",
       "    }\n",
       "\n",
       "    .dataframe thead th {\n",
       "        text-align: right;\n",
       "    }\n",
       "</style>\n",
       "<table border=\"1\" class=\"dataframe\">\n",
       "  <thead>\n",
       "    <tr style=\"text-align: right;\">\n",
       "      <th>beer_beerid</th>\n",
       "      <th>5</th>\n",
       "      <th>6</th>\n",
       "      <th>7</th>\n",
       "      <th>10</th>\n",
       "      <th>14</th>\n",
       "      <th>15</th>\n",
       "      <th>17</th>\n",
       "      <th>19</th>\n",
       "      <th>30</th>\n",
       "      <th>31</th>\n",
       "      <th>...</th>\n",
       "      <th>72138</th>\n",
       "      <th>73131</th>\n",
       "      <th>74123</th>\n",
       "      <th>74272</th>\n",
       "      <th>74323</th>\n",
       "      <th>74390</th>\n",
       "      <th>74548</th>\n",
       "      <th>74579</th>\n",
       "      <th>74986</th>\n",
       "      <th>75086</th>\n",
       "    </tr>\n",
       "    <tr>\n",
       "      <th>review_profilename</th>\n",
       "      <th></th>\n",
       "      <th></th>\n",
       "      <th></th>\n",
       "      <th></th>\n",
       "      <th></th>\n",
       "      <th></th>\n",
       "      <th></th>\n",
       "      <th></th>\n",
       "      <th></th>\n",
       "      <th></th>\n",
       "      <th></th>\n",
       "      <th></th>\n",
       "      <th></th>\n",
       "      <th></th>\n",
       "      <th></th>\n",
       "      <th></th>\n",
       "      <th></th>\n",
       "      <th></th>\n",
       "      <th></th>\n",
       "      <th></th>\n",
       "      <th></th>\n",
       "    </tr>\n",
       "  </thead>\n",
       "  <tbody>\n",
       "    <tr>\n",
       "      <th>0110x011</th>\n",
       "      <td>0.0</td>\n",
       "      <td>0.0</td>\n",
       "      <td>0.0</td>\n",
       "      <td>0.0</td>\n",
       "      <td>0.0</td>\n",
       "      <td>0.0</td>\n",
       "      <td>0.0</td>\n",
       "      <td>0.0</td>\n",
       "      <td>0.0</td>\n",
       "      <td>0.0</td>\n",
       "      <td>...</td>\n",
       "      <td>0.0</td>\n",
       "      <td>0.0</td>\n",
       "      <td>0.0</td>\n",
       "      <td>0.0</td>\n",
       "      <td>0.0</td>\n",
       "      <td>0.0</td>\n",
       "      <td>0.0</td>\n",
       "      <td>0.0</td>\n",
       "      <td>0.0</td>\n",
       "      <td>0.0</td>\n",
       "    </tr>\n",
       "    <tr>\n",
       "      <th>05Harley</th>\n",
       "      <td>0.0</td>\n",
       "      <td>0.0</td>\n",
       "      <td>0.0</td>\n",
       "      <td>0.0</td>\n",
       "      <td>0.0</td>\n",
       "      <td>0.0</td>\n",
       "      <td>0.0</td>\n",
       "      <td>0.0</td>\n",
       "      <td>0.0</td>\n",
       "      <td>0.0</td>\n",
       "      <td>...</td>\n",
       "      <td>0.0</td>\n",
       "      <td>0.0</td>\n",
       "      <td>0.0</td>\n",
       "      <td>0.0</td>\n",
       "      <td>0.0</td>\n",
       "      <td>0.0</td>\n",
       "      <td>0.0</td>\n",
       "      <td>0.0</td>\n",
       "      <td>0.0</td>\n",
       "      <td>0.0</td>\n",
       "    </tr>\n",
       "    <tr>\n",
       "      <th>100floods</th>\n",
       "      <td>0.0</td>\n",
       "      <td>0.0</td>\n",
       "      <td>0.0</td>\n",
       "      <td>0.0</td>\n",
       "      <td>0.0</td>\n",
       "      <td>0.0</td>\n",
       "      <td>0.0</td>\n",
       "      <td>0.0</td>\n",
       "      <td>0.0</td>\n",
       "      <td>0.0</td>\n",
       "      <td>...</td>\n",
       "      <td>0.0</td>\n",
       "      <td>0.0</td>\n",
       "      <td>0.0</td>\n",
       "      <td>0.0</td>\n",
       "      <td>0.0</td>\n",
       "      <td>0.0</td>\n",
       "      <td>0.0</td>\n",
       "      <td>0.0</td>\n",
       "      <td>0.0</td>\n",
       "      <td>0.0</td>\n",
       "    </tr>\n",
       "    <tr>\n",
       "      <th>1759Girl</th>\n",
       "      <td>0.0</td>\n",
       "      <td>0.0</td>\n",
       "      <td>0.0</td>\n",
       "      <td>0.0</td>\n",
       "      <td>0.0</td>\n",
       "      <td>0.0</td>\n",
       "      <td>0.0</td>\n",
       "      <td>0.0</td>\n",
       "      <td>0.0</td>\n",
       "      <td>0.0</td>\n",
       "      <td>...</td>\n",
       "      <td>0.0</td>\n",
       "      <td>0.0</td>\n",
       "      <td>0.0</td>\n",
       "      <td>0.0</td>\n",
       "      <td>0.0</td>\n",
       "      <td>0.0</td>\n",
       "      <td>0.0</td>\n",
       "      <td>0.0</td>\n",
       "      <td>0.0</td>\n",
       "      <td>0.0</td>\n",
       "    </tr>\n",
       "    <tr>\n",
       "      <th>1fastz28</th>\n",
       "      <td>0.0</td>\n",
       "      <td>0.0</td>\n",
       "      <td>0.0</td>\n",
       "      <td>0.0</td>\n",
       "      <td>0.0</td>\n",
       "      <td>0.0</td>\n",
       "      <td>0.0</td>\n",
       "      <td>0.0</td>\n",
       "      <td>0.0</td>\n",
       "      <td>0.0</td>\n",
       "      <td>...</td>\n",
       "      <td>0.0</td>\n",
       "      <td>0.0</td>\n",
       "      <td>0.0</td>\n",
       "      <td>0.0</td>\n",
       "      <td>0.0</td>\n",
       "      <td>0.0</td>\n",
       "      <td>0.0</td>\n",
       "      <td>0.0</td>\n",
       "      <td>0.0</td>\n",
       "      <td>0.0</td>\n",
       "    </tr>\n",
       "  </tbody>\n",
       "</table>\n",
       "<p>5 rows × 2064 columns</p>\n",
       "</div>"
      ],
      "text/plain": [
       "beer_beerid         5      6      7      10     14     15     17     19     \\\n",
       "review_profilename                                                           \n",
       "0110x011              0.0    0.0    0.0    0.0    0.0    0.0    0.0    0.0   \n",
       "05Harley              0.0    0.0    0.0    0.0    0.0    0.0    0.0    0.0   \n",
       "100floods             0.0    0.0    0.0    0.0    0.0    0.0    0.0    0.0   \n",
       "1759Girl              0.0    0.0    0.0    0.0    0.0    0.0    0.0    0.0   \n",
       "1fastz28              0.0    0.0    0.0    0.0    0.0    0.0    0.0    0.0   \n",
       "\n",
       "beer_beerid         30     31     ...    72138  73131  74123  74272  74323  \\\n",
       "review_profilename                ...                                        \n",
       "0110x011              0.0    0.0  ...      0.0    0.0    0.0    0.0    0.0   \n",
       "05Harley              0.0    0.0  ...      0.0    0.0    0.0    0.0    0.0   \n",
       "100floods             0.0    0.0  ...      0.0    0.0    0.0    0.0    0.0   \n",
       "1759Girl              0.0    0.0  ...      0.0    0.0    0.0    0.0    0.0   \n",
       "1fastz28              0.0    0.0  ...      0.0    0.0    0.0    0.0    0.0   \n",
       "\n",
       "beer_beerid         74390  74548  74579  74986  75086  \n",
       "review_profilename                                     \n",
       "0110x011              0.0    0.0    0.0    0.0    0.0  \n",
       "05Harley              0.0    0.0    0.0    0.0    0.0  \n",
       "100floods             0.0    0.0    0.0    0.0    0.0  \n",
       "1759Girl              0.0    0.0    0.0    0.0    0.0  \n",
       "1fastz28              0.0    0.0    0.0    0.0    0.0  \n",
       "\n",
       "[5 rows x 2064 columns]"
      ]
     },
     "execution_count": 432,
     "metadata": {},
     "output_type": "execute_result"
    }
   ],
   "source": [
    "test_beer_predicted_ratings = (np.dot(test_beer_correlation, test_beer_features_item.fillna(0))).T\n",
    "test_beer_final_rating = np.multiply(test_beer_predicted_ratings,dummy_test)\n",
    "test_beer_final_rating.head()"
   ]
  },
  {
   "cell_type": "markdown",
   "metadata": {},
   "source": [
    "### Calculating the RMSE for only the beers rated by user. For  RMSE, normalising the rating to (1,5) range. "
   ]
  },
  {
   "cell_type": "code",
   "execution_count": 434,
   "metadata": {},
   "outputs": [
    {
     "name": "stdout",
     "output_type": "stream",
     "text": [
      "MinMaxScaler(copy=True, feature_range=(1, 5))\n"
     ]
    }
   ],
   "source": [
    "from sklearn.preprocessing import MinMaxScaler\n",
    "from numpy import *\n",
    "\n",
    "X  = test_beer_final_rating.copy() \n",
    "X = X[X>0]\n",
    "\n",
    "scaler = MinMaxScaler(feature_range=(1, 5))\n",
    "print(scaler.fit(X))\n",
    "y = (scaler.transform(X))\n",
    "\n",
    "\n",
    "test_ = test.pivot(\n",
    "    index='review_profilename',\n",
    "    columns='beer_beerid',\n",
    "    values='review_overall'\n",
    ")\n",
    "\n",
    "# Finding total non-NaN value\n",
    "total_non_nan = np.count_nonzero(~np.isnan(y))"
   ]
  },
  {
   "cell_type": "markdown",
   "metadata": {},
   "source": [
    "### Finding RMSE"
   ]
  },
  {
   "cell_type": "code",
   "execution_count": 435,
   "metadata": {},
   "outputs": [
    {
     "name": "stdout",
     "output_type": "stream",
     "text": [
      "2.095085268824015\n"
     ]
    }
   ],
   "source": [
    "rmse = (sum(sum((test_ - y )**2))/total_non_nan)**0.5\n",
    "print(rmse)"
   ]
  },
  {
   "cell_type": "markdown",
   "metadata": {},
   "source": [
    "## Step 7: Top 5 Recommendations for the Users"
   ]
  },
  {
   "cell_type": "markdown",
   "metadata": {},
   "source": [
    "#### Finding the Top 5 Recommendations for the Users - 'cokes', 'genog' & 'giblet' using Used based Recommendation:"
   ]
  },
  {
   "cell_type": "code",
   "execution_count": 438,
   "metadata": {
    "scrolled": true
   },
   "outputs": [
    {
     "name": "stdout",
     "output_type": "stream",
     "text": [
      "beer_beerid             1708       695        1160       1545       11922\n",
      "review_profilename                                                       \n",
      "cokes               26.795677  25.044004  18.809359  18.500927  13.500259\n",
      "---------------------------------------------------------------------------------------\n",
      "beer_beerid             17112      34         299       42533      1493 \n",
      "review_profilename                                                      \n",
      "genog               26.749033  25.431692  14.148227  13.86623  13.400123\n",
      "---------------------------------------------------------------------------------------\n",
      "beer_beerid             645        695       92         17112      276  \n",
      "review_profilename                                                      \n",
      "giblet              40.628286  31.243899  31.01686  30.946544  25.702596\n"
     ]
    }
   ],
   "source": [
    "print(test_reviewer_final_rating.loc[['cokes']].sort_values(by ='cokes', axis=1, ascending=False).iloc[:,0:5])\n",
    "print(\"---------------------------------------------------------------------------------------\")\n",
    "print(test_reviewer_final_rating.loc[['genog']].sort_values(by ='genog', axis=1, ascending=False).iloc[:,0:5])\n",
    "print(\"---------------------------------------------------------------------------------------\")\n",
    "print(test_reviewer_final_rating.loc[['giblet']].sort_values(by ='giblet', axis=1, ascending=False).iloc[:,0:5])"
   ]
  },
  {
   "cell_type": "markdown",
   "metadata": {},
   "source": [
    "#### Finding the Top 5 Recommendations for the Users - 'cokes', 'genog' & 'giblet' using Item based Recommendation:"
   ]
  },
  {
   "cell_type": "code",
   "execution_count": 437,
   "metadata": {
    "scrolled": true
   },
   "outputs": [
    {
     "name": "stdout",
     "output_type": "stream",
     "text": [
      "beer_beerid             16115      17770      2576       2585       58   \n",
      "review_profilename                                                       \n",
      "cokes               21.126965  19.924084  18.003963  15.883643  13.701887\n",
      "---------------------------------------------------------------------------------------\n",
      "beer_beerid            42533     1493      40057   28577     28350\n",
      "review_profilename                                                \n",
      "genog               6.810862  6.807144  6.457599  6.3493  5.953227\n",
      "---------------------------------------------------------------------------------------\n",
      "beer_beerid            935       772       1867      695       92  \n",
      "review_profilename                                                 \n",
      "giblet              6.11122  6.053825  6.009589  5.924982  5.865257\n"
     ]
    }
   ],
   "source": [
    "print(test_beer_final_rating.loc[['cokes']].sort_values(by ='cokes', axis=1, ascending=False).iloc[:,0:5])\n",
    "print(\"---------------------------------------------------------------------------------------\")\n",
    "print(test_beer_final_rating.loc[['genog']].sort_values(by ='genog', axis=1, ascending=False).iloc[:,0:5])\n",
    "print(\"---------------------------------------------------------------------------------------\")\n",
    "print(test_beer_final_rating.loc[['giblet']].sort_values(by ='giblet', axis=1, ascending=False).iloc[:,0:5])"
   ]
  },
  {
   "cell_type": "markdown",
   "metadata": {},
   "source": [
    "## <font color = blue>Conclusion:</font>\n",
    "\n",
    "#### RMSE is used as evaluation metrics for both the models - \n",
    "\n",
    "|Collaborative Recommendation|RMSE value|\n",
    "|-------------------------|----------|\n",
    "|User based|<font color = red>1.802</font>|\n",
    "|Item based|2.095|\n",
    "\n",
    "*`Root-Mean-Square Error (RMSE)` is an absolute measure of fit. RMSE is a measure of how accurately the model makes a prediction. *\n",
    "\n",
    "##### Lower values of RMSE indicate better fit when 2 models are compared. Therefore in this case, `User based Collaborative Filtering` with a lower value of RMSE is a better predictor of recommendations."
   ]
  }
 ],
 "metadata": {
  "kernelspec": {
   "display_name": "Python 3",
   "language": "python",
   "name": "python3"
  },
  "language_info": {
   "codemirror_mode": {
    "name": "ipython",
    "version": 3
   },
   "file_extension": ".py",
   "mimetype": "text/x-python",
   "name": "python",
   "nbconvert_exporter": "python",
   "pygments_lexer": "ipython3",
   "version": "3.6.5"
  }
 },
 "nbformat": 4,
 "nbformat_minor": 2
}
